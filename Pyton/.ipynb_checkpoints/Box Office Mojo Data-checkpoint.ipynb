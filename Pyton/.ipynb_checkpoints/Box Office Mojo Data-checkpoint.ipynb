{
 "cells": [
  {
   "cell_type": "code",
   "execution_count": 1,
   "metadata": {
    "collapsed": false
   },
   "outputs": [
    {
     "data": {
      "text/plain": [
       "[]"
      ]
     },
     "execution_count": 1,
     "metadata": {},
     "output_type": "execute_result"
    }
   ],
   "source": [
    "##### BOM_insert_id = ObjectId('5782d79705f6a36f994b1836')\n",
    "\n",
    "import warnings\n",
    "warnings.filterwarnings('ignore')\n",
    "\n",
    "import json\n",
    "import numpy as np\n",
    "\n",
    "from joblib import Parallel, delayed  \n",
    "import multiprocessing\n",
    "num_cores = multiprocessing.cpu_count()\n",
    "\n",
    "import pymongo\n",
    "from pymongo import MongoClient\n",
    "\n",
    "client = MongoClient('localhost', 27017)\n",
    "db = client.dc_marvel\n",
    "db.collection_names(include_system_collections=False)\n",
    "\n",
    "\n"
   ]
  },
  {
   "cell_type": "code",
   "execution_count": 2,
   "metadata": {
    "collapsed": false
   },
   "outputs": [
    {
     "data": {
      "text/plain": [
       "[]"
      ]
     },
     "execution_count": 2,
     "metadata": {},
     "output_type": "execute_result"
    }
   ],
   "source": [
    "db.box_office_mojo.drop()\n",
    "db.omdb_critics.drop()\n",
    "db.collection_names(include_system_collections=False)"
   ]
  },
  {
   "cell_type": "code",
   "execution_count": 3,
   "metadata": {
    "collapsed": true
   },
   "outputs": [],
   "source": [
    "mongo = db.box_office_mojo"
   ]
  },
  {
   "cell_type": "code",
   "execution_count": 4,
   "metadata": {
    "collapsed": true
   },
   "outputs": [],
   "source": [
    "Marvel_titles  = [ \n",
    "                   \"Howard The Duck\", \"Blade\",\n",
    "                   \"X-Men\",\"Blade II\",\n",
    "                   \"Spider-Man\",\"Daredevil\",\n",
    "                   \"X2: X-Men United\",\"Hulk\",\n",
    "                   \"The Punisher\",\"Spider-Man 2\",\n",
    "                   \"Blade: Trinity\", \"Elektra\",\n",
    "                   \"Fantastic Four(2005)\",\"X-Men: The Last Stand\",\n",
    "                   \"Ghost Rider\",\"Spider-Man 3\",\n",
    "                   \"Fantastic Four: Rise of the Silver Surfer\",\"Iron Man\",\n",
    "                   \"The Incredible Hulk\",\"Punisher: War Zone\",\n",
    "                   \"X-Men Origins: Wolverine\",\"Iron Man 2\",\n",
    "                   \"Thor\",\"X-Men: First Class\",\n",
    "                   \"Captain America: The First Avenger\",\n",
    "                   \"Ghost Rider: Spirit of Vengeance\",\n",
    "                   \"Marvel's The Avengers\",\"The Amazing Spider-Man\",\n",
    "                   \"Iron Man 3\",\"The Wolverine\",\n",
    "                   \"Thor: The Dark World\",\"Captain America: The Winter Soldier\",\n",
    "                   \"The Amazing Spider-Man 2\",\"X-Men: Days of Future Past\",\n",
    "                   \"Guardians of the Galaxy\",\"Big Hero 6\",\n",
    "                   \"Avengers: Age of Ultron\", \"Ant-Man\",\n",
    "                   \"Fantastic Four(2015)\", \"Deadpool\",\n",
    "                   \"Captain America: Civil War\"]\n",
    "\n",
    "\n",
    "Marvel =[\"howardtheduck\", \"blade\", \n",
    "         \"xmen\",\"blade2\",\n",
    "         \"spiderman\",\"daredevil\",\n",
    "         \"x2\",\"hulk\",\n",
    "         \"punisher\",\"spiderman2\",\n",
    "         \"blade3\", \"elektra\",\n",
    "         \"fantasticfour\",\"x3\",\n",
    "         \"ghostrider\",\"spiderman3\",\n",
    "         \"fantasticfour2\",\"ironman\",\n",
    "         \"incrediblehulk\",\"punisher2\",\n",
    "         \"wolverine\",\"ironman2\",\n",
    "         \"thor\",\"xmenfirstclass\",\n",
    "         \"captainamerica\",\"ghostrider2\",\n",
    "         \"avengers11\",\"spiderman4\",\n",
    "         \"ironman3\",\"wolverine2\",\n",
    "         \"thor2\",\"marvel14b\",\n",
    "         \"amazingspiderman2\",\"xmen2014\",\n",
    "         \"marvel2014a\",\"disney2014\",\n",
    "         \"avengers2\", \"antman\",\n",
    "         \"fantasticfour15\", \"deadpool2016\",\n",
    "         \"marvel2016\"]\n"
   ]
  },
  {
   "cell_type": "code",
   "execution_count": 5,
   "metadata": {
    "collapsed": true
   },
   "outputs": [],
   "source": [
    "\n",
    "\n",
    "Dc_titles = [\"Superman\",\"Superman II\",\n",
    "      \"Superman III\", \"Supergirl\",\n",
    "      \"Superman IV: The Quest for Peace\",\"Batman\",\n",
    "      \"Batman Returns\",\"Batman: Mask of the Phantasm\",\n",
    "      \"Batman Forever\", \"Batman Robin\", \n",
    "      \"Steel\", \"Catwoman\", \n",
    "      \"Constantine\", \"Batman Begins\",\n",
    "      \"V for Vendetta\", \"Superman Returns\", \n",
    "      \"The Dark Knight\", \"Watchmen\",\n",
    "      \"The Losers\",\"Jonah Hex\",\"Red\",\n",
    "      \"Green Lantern\", \"The Dark Knight Rises\",\n",
    "      \"Man of Steel\",\"Red 2\",\n",
    "      \"Batman v Superman: Dawn of Justice\"]\n",
    "\n",
    "\n",
    "\n",
    "Dc = [\"superman\",\"superman2\",\n",
    "      \"superman3\", \"supergirl\",\n",
    "      \"superman4\",\"batman\",\n",
    "      \"batmanreturns\",\"batmanmaskofthephantasm\",\n",
    "      \"batmanforever\", \"batmanrobin\", \n",
    "      \"steel\", \"catwoman\", \n",
    "      \"constantine\", \"batmanbegins\",\n",
    "      \"vforvendetta\", \"superman06\", \n",
    "      \"darkknight\", \"watchmen\",\n",
    "      \"losers\",\"jonahhex\",\"red2010\",\n",
    "      \"greenlantern\", \"batman3\",\n",
    "      \"superman2012\",\"red2\",\n",
    "      \"superman2015\"]"
   ]
  },
  {
   "cell_type": "code",
   "execution_count": 6,
   "metadata": {
    "collapsed": false
   },
   "outputs": [],
   "source": [
    "Others_titles = [\n",
    "\"2 Guns\",\n",
    "\"30 Days of Night\",\n",
    "\"300\",\n",
    "\"300: Rise of an Empire\",\n",
    "\"Alien vs. Predator\",\n",
    "\"Alien vs. Predator Requiem\",\n",
    "\"American Splendor\",\n",
    "\"Bulletproof Monk\",\n",
    "\"Casper\",\n",
    "\"Cowboys & Aliens\"\n",
    "# \"The Crow\",\n",
    "# \"The Diary of a Teenage Girl\",\n",
    "# \"From Hell\",\n",
    "# \"Ghost world\",\n",
    "# \"Hellboy\",\n",
    "# \"Hellboy II: The Golden Army\",\n",
    "# \"Hercules\",\n",
    "# \"A history of violence\",\n",
    "# \"I, Frankenstein\",\n",
    "# \"Josie and the Pussycats\",\n",
    "# \"Judge Dredd \",\n",
    "# \"Dredd\", \n",
    "# \"Kick-Ass\",\n",
    "# \"Kick-Ass 2\",\n",
    "# \"Kingsman: The Secret Service\",\n",
    "# \"The League of Extraordinary Gentlemen\",\n",
    "# \"The Mask \",\n",
    "# \"Men in Black\",\n",
    "# \"Men in Black II\",\n",
    "# \"Men in Black III\",\n",
    "# \"Monkeybone\",\n",
    "# \"Mystery Men\",\n",
    "# \"Oblivion\",\n",
    "# \"R.I.P.D.\",\n",
    "# \"Richie Rich\",\n",
    "# \"Road to Perdition\",\n",
    "# \"The Rocketeer\",\n",
    "# \"Scott Pilgrim vs. the World\",\n",
    "# \"The Shadow\",\n",
    "# \"Sin City\",\n",
    "# \"Sin City: A Dame to Kill For\",\n",
    "# \"Spawn\",\n",
    "# \"The Spirit\",\n",
    "# \"Surrogates\",\n",
    "# \"Tank Girl \",\n",
    "# \"Teenage Mutant Ninja Turtles\",\n",
    "# \"Teenage Mutant Ninja Turtles II: The Secret of the Ooze\",\n",
    "# \"Teenage Mutant Ninja Turtles III\",\n",
    "# \"Teenage Mutant Ninja Turtles (2014)\",\n",
    "# \"Teenage Mutant Ninja Turtles: Out of the Shadows\",\n",
    "# \"Timecop\",\n",
    "# \"Virus\",\n",
    "# \"Wanted\",\n",
    "# \"Whiteout\",\n",
    "# \"The X-Files\",\n",
    "# \"The X-Files: I Want to Believe\"\n",
    "]\n",
    "\n",
    "Others = [\n",
    "\"2guns\",\n",
    "\"30daysofnight\",\n",
    "\"300\",\n",
    "\"300sequel\",\n",
    "\"avp\",\n",
    "\"avp2\",\n",
    "\"americansplendor\",\n",
    "\"bulletproofmonk\",\n",
    "\"casper\",\n",
    "\"cowboysandaliens\"\n",
    "# \"crow\",\n",
    "# \"diaryofateenagegirl\",\n",
    "# \"fromhell\",\n",
    "# \"ghostworld\",\n",
    "# \"hellboy\",\n",
    "# \"hellboy2\",\n",
    "# \"hercules2014\",\n",
    "# \"historyofviolence\",\n",
    "# \"ifrankenstein\",\n",
    "# \"josieandthepussycats\",\n",
    "# \"judgedredd\",\n",
    "# \"dredd\",\n",
    "# \"kickass\",\n",
    "# \"kickass2\",\n",
    "# \"secretservice\",\n",
    "# \"leagueofextraordinarygentlemen\",\n",
    "# \"mask\",\n",
    "# \"meninblack\",\n",
    "# \"meninblack2\",\n",
    "# \"mib3\",\n",
    "# \"monkeybone\",\n",
    "# \"mysterymen\",\n",
    "# \"oblivion\",\n",
    "# \"ripd\",\n",
    "# \"richierich\",\n",
    "# \"roadtoperdition\",\n",
    "# \"rocketeer\",\n",
    "# \"scottpilgrim\",\n",
    "# \"shadow\",\n",
    "# \"sincity\",\n",
    "# \"sincity2\",\n",
    "# \"spawn\",\n",
    "# \"spirit09\",\n",
    "# \"surrogates\",\n",
    "# \"tankgirl\",\n",
    "# \"teenagemutantninjaturtles\",\n",
    "# \"tnmt2\",\n",
    "# \"tmnt3\",\n",
    "# \"tmnt2013\",\n",
    "# \"tmnt2016\",\n",
    "# \"timecop\",\n",
    "# \"virus\",\n",
    "# \"wanted\",\n",
    "# \"whiteout\",\n",
    "# \"x-filesfightthefuture\",\n",
    "# \"xfiles2\"\n",
    "]\n"
   ]
  },
  {
   "cell_type": "code",
   "execution_count": 7,
   "metadata": {
    "collapsed": false
   },
   "outputs": [
    {
     "data": {
      "text/plain": [
       "56"
      ]
     },
     "execution_count": 7,
     "metadata": {},
     "output_type": "execute_result"
    }
   ],
   "source": [
    "len(Others_titles)"
   ]
  },
  {
   "cell_type": "code",
   "execution_count": 8,
   "metadata": {
    "collapsed": false
   },
   "outputs": [
    {
     "data": {
      "text/plain": [
       "56"
      ]
     },
     "execution_count": 8,
     "metadata": {},
     "output_type": "execute_result"
    }
   ],
   "source": [
    "len(Others)"
   ]
  },
  {
   "cell_type": "code",
   "execution_count": 9,
   "metadata": {
    "collapsed": false
   },
   "outputs": [],
   "source": [
    "def getMovieData(name):\n",
    "    \n",
    "    import json\n",
    "    import boxofficemojoAPI as bom\n",
    "   \n",
    "    \n",
    "    bo = bom.BoxOfficeMojo()\n",
    "    bo.crawl_for_urls()\n",
    "    data1 = bo.get_movie_summary(name)\n",
    "    data1.clean_data()\n",
    "    data1 = json.loads(data1.to_json())\n",
    "    \n",
    "    data2 = bo.get_weekly_summary(name)\n",
    "    data2.clean_data()\n",
    "    data2 = json.loads(data2.to_json())['weekly']\n",
    "    \n",
    "    Features = dict()\n",
    "    try:\n",
    "        Features['director'] = data1[\"directors\"]\n",
    "    except KeyError:\n",
    "        Features['director'] = None\n",
    "        \n",
    "    try:\n",
    "        Features['distributor'] = data1[\"distributor\"]\n",
    "    except KeyError:\n",
    "        Features['distributor'] = None\n",
    "        \n",
    "    try:\n",
    "        Features['domestic_BO'] = data1[\"domestic\"]\n",
    "    except KeyError:\n",
    "        Features['domestic_BO'] = None\n",
    "    try:\n",
    "        Features['foreign_BO'] = data1[\"foreign\"]\n",
    "    except KeyError:\n",
    "        Features['foreign_BO'] = None\n",
    "    \n",
    "    try:\n",
    "        Features['genre'] = data1[\"genre\"]\n",
    "    except KeyError:\n",
    "        Features['genre'] = None\n",
    "        \n",
    "    try:\n",
    "        Features['rating'] = data1[\"mpaa_rating\"]\n",
    "    except KeyError:\n",
    "         Features['rating'] = None\n",
    "    \n",
    "    try:\n",
    "        Features['budget'] = data1[\"production_budget\"]\n",
    "    except KeyError:\n",
    "        Features['budget'] = None\n",
    "        \n",
    "    try:\n",
    "        Features['runtime'] = data1[\"runtime\"]\n",
    "    except KeyError:\n",
    "        Features['runtime'] = None\n",
    "        \n",
    "    try:\n",
    "        Features['writers'] = data1[\"writers\"]\n",
    "    except KeyError:\n",
    "        Features['writers'] = None\n",
    "        \n",
    "    \n",
    "    starting_week = data2[0]['week_number']\n",
    "    if starting_week == 0:\n",
    "        del data2[0]\n",
    "        \n",
    "    del starting_week\n",
    "\n",
    "    for k in range(min(len(data2), 15)):\n",
    "        if k == 0:\n",
    "            \n",
    "            try:\n",
    "                Features['_'.join(('week', str(k+1),'gross'))] = data2[k]['gross']\n",
    "            except KeyError:\n",
    "                Features['_'.join(('week', str(k+1),'gross'))] = None\n",
    "                \n",
    "            try:\n",
    "                Features['_'.join(('week', str(k+1),'rank'))] = data2[k]['rank']\n",
    "            except KeyError:\n",
    "                Features['_'.join(('week', str(k+1),'rank'))] = None\n",
    "                \n",
    "            try:\n",
    "                Features['_'.join(('week', str(k+1),'avg'))] = data2[k]['average_per_theatre']\n",
    "            except KeyError:\n",
    "                Features['_'.join(('week', str(k+1),'avg'))] = None\n",
    "                \n",
    "        else :\n",
    "\n",
    "            Features['_'.join(('week', str(k+1), 'change'))]= data2[k]['week_over_week_change']\n",
    "            Features['_'.join(('week', str(k+1), 'rank'))]= data2[k]['rank']\n",
    "            Features['_'.join(('week', str(k+1),'avg'))] = data2[k]['average_per_theatre']\n",
    "            \n",
    "    return Features\n",
    "            \n",
    "\n",
    "\n",
    "\n"
   ]
  },
  {
   "cell_type": "code",
   "execution_count": 10,
   "metadata": {
    "collapsed": false
   },
   "outputs": [
    {
     "ename": "JoblibIndexError",
     "evalue": "JoblibIndexError\n___________________________________________________________________________\nMultiprocessing exception:\n...........................................................................\n/Users/MotherBox/anaconda/lib/python2.7/runpy.py in _run_module_as_main(mod_name='ipykernel.__main__', alter_argv=1)\n    157     pkg_name = mod_name.rpartition('.')[0]\n    158     main_globals = sys.modules[\"__main__\"].__dict__\n    159     if alter_argv:\n    160         sys.argv[0] = fname\n    161     return _run_code(code, main_globals, None,\n--> 162                      \"__main__\", fname, loader, pkg_name)\n        fname = '/Users/MotherBox/anaconda/lib/python2.7/site-packages/ipykernel/__main__.py'\n        loader = <pkgutil.ImpLoader instance>\n        pkg_name = 'ipykernel'\n    163 \n    164 def run_module(mod_name, init_globals=None,\n    165                run_name=None, alter_sys=False):\n    166     \"\"\"Execute a module's code without importing it\n\n...........................................................................\n/Users/MotherBox/anaconda/lib/python2.7/runpy.py in _run_code(code=<code object <module> at 0x1020d8830, file \"/Use...2.7/site-packages/ipykernel/__main__.py\", line 1>, run_globals={'__builtins__': <module '__builtin__' (built-in)>, '__doc__': None, '__file__': '/Users/MotherBox/anaconda/lib/python2.7/site-packages/ipykernel/__main__.py', '__loader__': <pkgutil.ImpLoader instance>, '__name__': '__main__', '__package__': 'ipykernel', 'app': <module 'ipykernel.kernelapp' from '/Users/Mothe...python2.7/site-packages/ipykernel/kernelapp.pyc'>}, init_globals=None, mod_name='__main__', mod_fname='/Users/MotherBox/anaconda/lib/python2.7/site-packages/ipykernel/__main__.py', mod_loader=<pkgutil.ImpLoader instance>, pkg_name='ipykernel')\n     67         run_globals.update(init_globals)\n     68     run_globals.update(__name__ = mod_name,\n     69                        __file__ = mod_fname,\n     70                        __loader__ = mod_loader,\n     71                        __package__ = pkg_name)\n---> 72     exec code in run_globals\n        code = <code object <module> at 0x1020d8830, file \"/Use...2.7/site-packages/ipykernel/__main__.py\", line 1>\n        run_globals = {'__builtins__': <module '__builtin__' (built-in)>, '__doc__': None, '__file__': '/Users/MotherBox/anaconda/lib/python2.7/site-packages/ipykernel/__main__.py', '__loader__': <pkgutil.ImpLoader instance>, '__name__': '__main__', '__package__': 'ipykernel', 'app': <module 'ipykernel.kernelapp' from '/Users/Mothe...python2.7/site-packages/ipykernel/kernelapp.pyc'>}\n     73     return run_globals\n     74 \n     75 def _run_module_code(code, init_globals=None,\n     76                     mod_name=None, mod_fname=None,\n\n...........................................................................\n/Users/MotherBox/anaconda/lib/python2.7/site-packages/ipykernel/__main__.py in <module>()\n      1 \n      2 \n----> 3 \n      4 if __name__ == '__main__':\n      5     from ipykernel import kernelapp as app\n      6     app.launch_new_instance()\n      7 \n      8 \n      9 \n     10 \n\n...........................................................................\n/Users/MotherBox/anaconda/lib/python2.7/site-packages/traitlets/config/application.py in launch_instance(cls=<class 'ipykernel.kernelapp.IPKernelApp'>, argv=None, **kwargs={})\n    591         \n    592         If a global instance already exists, this reinitializes and starts it\n    593         \"\"\"\n    594         app = cls.instance(**kwargs)\n    595         app.initialize(argv)\n--> 596         app.start()\n        app.start = <bound method IPKernelApp.start of <ipykernel.kernelapp.IPKernelApp object>>\n    597 \n    598 #-----------------------------------------------------------------------------\n    599 # utility functions, for convenience\n    600 #-----------------------------------------------------------------------------\n\n...........................................................................\n/Users/MotherBox/anaconda/lib/python2.7/site-packages/ipykernel/kernelapp.py in start(self=<ipykernel.kernelapp.IPKernelApp object>)\n    437         \n    438         if self.poller is not None:\n    439             self.poller.start()\n    440         self.kernel.start()\n    441         try:\n--> 442             ioloop.IOLoop.instance().start()\n    443         except KeyboardInterrupt:\n    444             pass\n    445 \n    446 launch_new_instance = IPKernelApp.launch_instance\n\n...........................................................................\n/Users/MotherBox/anaconda/lib/python2.7/site-packages/zmq/eventloop/ioloop.py in start(self=<zmq.eventloop.ioloop.ZMQIOLoop object>)\n    157             PollIOLoop.configure(ZMQIOLoop)\n    158         return PollIOLoop.current(*args, **kwargs)\n    159     \n    160     def start(self):\n    161         try:\n--> 162             super(ZMQIOLoop, self).start()\n        self.start = <bound method ZMQIOLoop.start of <zmq.eventloop.ioloop.ZMQIOLoop object>>\n    163         except ZMQError as e:\n    164             if e.errno == ETERM:\n    165                 # quietly return on ETERM\n    166                 pass\n\n...........................................................................\n/Users/MotherBox/anaconda/lib/python2.7/site-packages/tornado/ioloop.py in start(self=<zmq.eventloop.ioloop.ZMQIOLoop object>)\n    878                 self._events.update(event_pairs)\n    879                 while self._events:\n    880                     fd, events = self._events.popitem()\n    881                     try:\n    882                         fd_obj, handler_func = self._handlers[fd]\n--> 883                         handler_func(fd_obj, events)\n        handler_func = <function null_wrapper>\n        fd_obj = <zmq.sugar.socket.Socket object>\n        events = 1\n    884                     except (OSError, IOError) as e:\n    885                         if errno_from_exception(e) == errno.EPIPE:\n    886                             # Happens when the client closes the connection\n    887                             pass\n\n...........................................................................\n/Users/MotherBox/anaconda/lib/python2.7/site-packages/tornado/stack_context.py in null_wrapper(*args=(<zmq.sugar.socket.Socket object>, 1), **kwargs={})\n    270         # Fast path when there are no active contexts.\n    271         def null_wrapper(*args, **kwargs):\n    272             try:\n    273                 current_state = _state.contexts\n    274                 _state.contexts = cap_contexts[0]\n--> 275                 return fn(*args, **kwargs)\n        args = (<zmq.sugar.socket.Socket object>, 1)\n        kwargs = {}\n    276             finally:\n    277                 _state.contexts = current_state\n    278         null_wrapper._wrapped = True\n    279         return null_wrapper\n\n...........................................................................\n/Users/MotherBox/anaconda/lib/python2.7/site-packages/zmq/eventloop/zmqstream.py in _handle_events(self=<zmq.eventloop.zmqstream.ZMQStream object>, fd=<zmq.sugar.socket.Socket object>, events=1)\n    435             # dispatch events:\n    436             if events & IOLoop.ERROR:\n    437                 gen_log.error(\"got POLLERR event on ZMQStream, which doesn't make sense\")\n    438                 return\n    439             if events & IOLoop.READ:\n--> 440                 self._handle_recv()\n        self._handle_recv = <bound method ZMQStream._handle_recv of <zmq.eventloop.zmqstream.ZMQStream object>>\n    441                 if not self.socket:\n    442                     return\n    443             if events & IOLoop.WRITE:\n    444                 self._handle_send()\n\n...........................................................................\n/Users/MotherBox/anaconda/lib/python2.7/site-packages/zmq/eventloop/zmqstream.py in _handle_recv(self=<zmq.eventloop.zmqstream.ZMQStream object>)\n    467                 gen_log.error(\"RECV Error: %s\"%zmq.strerror(e.errno))\n    468         else:\n    469             if self._recv_callback:\n    470                 callback = self._recv_callback\n    471                 # self._recv_callback = None\n--> 472                 self._run_callback(callback, msg)\n        self._run_callback = <bound method ZMQStream._run_callback of <zmq.eventloop.zmqstream.ZMQStream object>>\n        callback = <function null_wrapper>\n        msg = [<zmq.sugar.frame.Frame object>, <zmq.sugar.frame.Frame object>, <zmq.sugar.frame.Frame object>, <zmq.sugar.frame.Frame object>, <zmq.sugar.frame.Frame object>, <zmq.sugar.frame.Frame object>, <zmq.sugar.frame.Frame object>]\n    473                 \n    474         # self.update_state()\n    475         \n    476 \n\n...........................................................................\n/Users/MotherBox/anaconda/lib/python2.7/site-packages/zmq/eventloop/zmqstream.py in _run_callback(self=<zmq.eventloop.zmqstream.ZMQStream object>, callback=<function null_wrapper>, *args=([<zmq.sugar.frame.Frame object>, <zmq.sugar.frame.Frame object>, <zmq.sugar.frame.Frame object>, <zmq.sugar.frame.Frame object>, <zmq.sugar.frame.Frame object>, <zmq.sugar.frame.Frame object>, <zmq.sugar.frame.Frame object>],), **kwargs={})\n    409         close our socket.\"\"\"\n    410         try:\n    411             # Use a NullContext to ensure that all StackContexts are run\n    412             # inside our blanket exception handler rather than outside.\n    413             with stack_context.NullContext():\n--> 414                 callback(*args, **kwargs)\n        callback = <function null_wrapper>\n        args = ([<zmq.sugar.frame.Frame object>, <zmq.sugar.frame.Frame object>, <zmq.sugar.frame.Frame object>, <zmq.sugar.frame.Frame object>, <zmq.sugar.frame.Frame object>, <zmq.sugar.frame.Frame object>, <zmq.sugar.frame.Frame object>],)\n        kwargs = {}\n    415         except:\n    416             gen_log.error(\"Uncaught exception, closing connection.\",\n    417                           exc_info=True)\n    418             # Close the socket on an uncaught exception from a user callback\n\n...........................................................................\n/Users/MotherBox/anaconda/lib/python2.7/site-packages/tornado/stack_context.py in null_wrapper(*args=([<zmq.sugar.frame.Frame object>, <zmq.sugar.frame.Frame object>, <zmq.sugar.frame.Frame object>, <zmq.sugar.frame.Frame object>, <zmq.sugar.frame.Frame object>, <zmq.sugar.frame.Frame object>, <zmq.sugar.frame.Frame object>],), **kwargs={})\n    270         # Fast path when there are no active contexts.\n    271         def null_wrapper(*args, **kwargs):\n    272             try:\n    273                 current_state = _state.contexts\n    274                 _state.contexts = cap_contexts[0]\n--> 275                 return fn(*args, **kwargs)\n        args = ([<zmq.sugar.frame.Frame object>, <zmq.sugar.frame.Frame object>, <zmq.sugar.frame.Frame object>, <zmq.sugar.frame.Frame object>, <zmq.sugar.frame.Frame object>, <zmq.sugar.frame.Frame object>, <zmq.sugar.frame.Frame object>],)\n        kwargs = {}\n    276             finally:\n    277                 _state.contexts = current_state\n    278         null_wrapper._wrapped = True\n    279         return null_wrapper\n\n...........................................................................\n/Users/MotherBox/anaconda/lib/python2.7/site-packages/ipykernel/kernelbase.py in dispatcher(msg=[<zmq.sugar.frame.Frame object>, <zmq.sugar.frame.Frame object>, <zmq.sugar.frame.Frame object>, <zmq.sugar.frame.Frame object>, <zmq.sugar.frame.Frame object>, <zmq.sugar.frame.Frame object>, <zmq.sugar.frame.Frame object>])\n    271         if self.control_stream:\n    272             self.control_stream.on_recv(self.dispatch_control, copy=False)\n    273 \n    274         def make_dispatcher(stream):\n    275             def dispatcher(msg):\n--> 276                 return self.dispatch_shell(stream, msg)\n        msg = [<zmq.sugar.frame.Frame object>, <zmq.sugar.frame.Frame object>, <zmq.sugar.frame.Frame object>, <zmq.sugar.frame.Frame object>, <zmq.sugar.frame.Frame object>, <zmq.sugar.frame.Frame object>, <zmq.sugar.frame.Frame object>]\n    277             return dispatcher\n    278 \n    279         for s in self.shell_streams:\n    280             s.on_recv(make_dispatcher(s), copy=False)\n\n...........................................................................\n/Users/MotherBox/anaconda/lib/python2.7/site-packages/ipykernel/kernelbase.py in dispatch_shell(self=<ipykernel.ipkernel.IPythonKernel object>, stream=<zmq.eventloop.zmqstream.ZMQStream object>, msg={'buffers': [], 'content': {u'allow_stdin': True, u'code': u\"%%capture\\n\\n\\n# DC = Parallel(n_jobs=num_core...ection_names(include_system_collections=False)\\n\", u'silent': False, u'stop_on_error': True, u'store_history': True, u'user_expressions': {}}, 'header': {'date': '2016-07-24T23:20:40.832641', u'msg_id': u'474C24EDAADF4D128EC5EB349963D9AB', u'msg_type': u'execute_request', u'session': u'4DBDA6F9C6F6427F99609995E90B9D9B', u'username': u'username', u'version': u'5.0'}, 'metadata': {}, 'msg_id': u'474C24EDAADF4D128EC5EB349963D9AB', 'msg_type': u'execute_request', 'parent_header': {}})\n    223             self.log.error(\"UNKNOWN MESSAGE TYPE: %r\", msg_type)\n    224         else:\n    225             self.log.debug(\"%s: %s\", msg_type, msg)\n    226             self.pre_handler_hook()\n    227             try:\n--> 228                 handler(stream, idents, msg)\n        handler = <bound method IPythonKernel.execute_request of <ipykernel.ipkernel.IPythonKernel object>>\n        stream = <zmq.eventloop.zmqstream.ZMQStream object>\n        idents = ['4DBDA6F9C6F6427F99609995E90B9D9B']\n        msg = {'buffers': [], 'content': {u'allow_stdin': True, u'code': u\"%%capture\\n\\n\\n# DC = Parallel(n_jobs=num_core...ection_names(include_system_collections=False)\\n\", u'silent': False, u'stop_on_error': True, u'store_history': True, u'user_expressions': {}}, 'header': {'date': '2016-07-24T23:20:40.832641', u'msg_id': u'474C24EDAADF4D128EC5EB349963D9AB', u'msg_type': u'execute_request', u'session': u'4DBDA6F9C6F6427F99609995E90B9D9B', u'username': u'username', u'version': u'5.0'}, 'metadata': {}, 'msg_id': u'474C24EDAADF4D128EC5EB349963D9AB', 'msg_type': u'execute_request', 'parent_header': {}}\n    229             except Exception:\n    230                 self.log.error(\"Exception in message handler:\", exc_info=True)\n    231             finally:\n    232                 self.post_handler_hook()\n\n...........................................................................\n/Users/MotherBox/anaconda/lib/python2.7/site-packages/ipykernel/kernelbase.py in execute_request(self=<ipykernel.ipkernel.IPythonKernel object>, stream=<zmq.eventloop.zmqstream.ZMQStream object>, ident=['4DBDA6F9C6F6427F99609995E90B9D9B'], parent={'buffers': [], 'content': {u'allow_stdin': True, u'code': u\"%%capture\\n\\n\\n# DC = Parallel(n_jobs=num_core...ection_names(include_system_collections=False)\\n\", u'silent': False, u'stop_on_error': True, u'store_history': True, u'user_expressions': {}}, 'header': {'date': '2016-07-24T23:20:40.832641', u'msg_id': u'474C24EDAADF4D128EC5EB349963D9AB', u'msg_type': u'execute_request', u'session': u'4DBDA6F9C6F6427F99609995E90B9D9B', u'username': u'username', u'version': u'5.0'}, 'metadata': {}, 'msg_id': u'474C24EDAADF4D128EC5EB349963D9AB', 'msg_type': u'execute_request', 'parent_header': {}})\n    386         if not silent:\n    387             self.execution_count += 1\n    388             self._publish_execute_input(code, parent, self.execution_count)\n    389 \n    390         reply_content = self.do_execute(code, silent, store_history,\n--> 391                                         user_expressions, allow_stdin)\n        user_expressions = {}\n        allow_stdin = True\n    392 \n    393         # Flush output before sending the reply.\n    394         sys.stdout.flush()\n    395         sys.stderr.flush()\n\n...........................................................................\n/Users/MotherBox/anaconda/lib/python2.7/site-packages/ipykernel/ipkernel.py in do_execute(self=<ipykernel.ipkernel.IPythonKernel object>, code=u\"%%capture\\n\\n\\n# DC = Parallel(n_jobs=num_core...ection_names(include_system_collections=False)\\n\", silent=False, store_history=True, user_expressions={}, allow_stdin=True)\n    194 \n    195         reply_content = {}\n    196         # FIXME: the shell calls the exception handler itself.\n    197         shell._reply_content = None\n    198         try:\n--> 199             shell.run_cell(code, store_history=store_history, silent=silent)\n        shell.run_cell = <bound method ZMQInteractiveShell.run_cell of <ipykernel.zmqshell.ZMQInteractiveShell object>>\n        code = u\"%%capture\\n\\n\\n# DC = Parallel(n_jobs=num_core...ection_names(include_system_collections=False)\\n\"\n        store_history = True\n        silent = False\n    200         except:\n    201             status = u'error'\n    202             # FIXME: this code right now isn't being used yet by default,\n    203             # because the run_cell() call above directly fires off exception\n\n...........................................................................\n/Users/MotherBox/anaconda/lib/python2.7/site-packages/IPython/core/interactiveshell.py in run_cell(self=<ipykernel.zmqshell.ZMQInteractiveShell object>, raw_cell=u\"%%capture\\n\\n\\n# DC = Parallel(n_jobs=num_core...ection_names(include_system_collections=False)\\n\", store_history=True, silent=False, shell_futures=True)\n   2718                 self.displayhook.exec_result = result\n   2719 \n   2720                 # Execute the user code\n   2721                 interactivity = \"none\" if silent else self.ast_node_interactivity\n   2722                 self.run_ast_nodes(code_ast.body, cell_name,\n-> 2723                    interactivity=interactivity, compiler=compiler, result=result)\n        interactivity = 'last_expr'\n        compiler = <IPython.core.compilerop.CachingCompiler instance>\n   2724 \n   2725                 # Reset this so later displayed values do not modify the\n   2726                 # ExecutionResult\n   2727                 self.displayhook.exec_result = None\n\n...........................................................................\n/Users/MotherBox/anaconda/lib/python2.7/site-packages/IPython/core/interactiveshell.py in run_ast_nodes(self=<ipykernel.zmqshell.ZMQInteractiveShell object>, nodelist=[<_ast.Expr object>], cell_name='<ipython-input-10-de8cbd5ca6cb>', interactivity='last', compiler=<IPython.core.compilerop.CachingCompiler instance>, result=<IPython.core.interactiveshell.ExecutionResult object>)\n   2826                     return True\n   2827 \n   2828             for i, node in enumerate(to_run_interactive):\n   2829                 mod = ast.Interactive([node])\n   2830                 code = compiler(mod, cell_name, \"single\")\n-> 2831                 if self.run_code(code, result):\n        self.run_code = <bound method ZMQInteractiveShell.run_code of <ipykernel.zmqshell.ZMQInteractiveShell object>>\n        code = <code object <module> at 0x109168f30, file \"<ipython-input-10-de8cbd5ca6cb>\", line 1>\n        result = <IPython.core.interactiveshell.ExecutionResult object>\n   2832                     return True\n   2833 \n   2834             # Flush softspace\n   2835             if softspace(sys.stdout, 0):\n\n...........................................................................\n/Users/MotherBox/anaconda/lib/python2.7/site-packages/IPython/core/interactiveshell.py in run_code(self=<ipykernel.zmqshell.ZMQInteractiveShell object>, code_obj=<code object <module> at 0x109168f30, file \"<ipython-input-10-de8cbd5ca6cb>\", line 1>, result=<IPython.core.interactiveshell.ExecutionResult object>)\n   2880         outflag = 1  # happens in more places, so it's easier as default\n   2881         try:\n   2882             try:\n   2883                 self.hooks.pre_run_code_hook()\n   2884                 #rprint('Running code', repr(code_obj)) # dbg\n-> 2885                 exec(code_obj, self.user_global_ns, self.user_ns)\n        code_obj = <code object <module> at 0x109168f30, file \"<ipython-input-10-de8cbd5ca6cb>\", line 1>\n        self.user_global_ns = {'Dc': ['superman', 'superman2', 'superman3', 'supergirl', 'superman4', 'batman', 'batmanreturns', 'batmanmaskofthephantasm', 'batmanforever', 'batmanrobin', 'steel', 'catwoman', 'constantine', 'batmanbegins', 'vforvendetta', 'superman06', 'darkknight', 'watchmen', 'losers', 'jonahhex', ...], 'Dc_titles': ['Superman', 'Superman II', 'Superman III', 'Supergirl', 'Superman IV: The Quest for Peace', 'Batman', 'Batman Returns', 'Batman: Mask of the Phantasm', 'Batman Forever', 'Batman Robin', 'Steel', 'Catwoman', 'Constantine', 'Batman Begins', 'V for Vendetta', 'Superman Returns', 'The Dark Knight', 'Watchmen', 'The Losers', 'Jonah Hex', ...], 'In': ['', u\"##### BOM_insert_id = ObjectId('5782d79705f6a3...llection_names(include_system_collections=False)\", u'db.box_office_mojo.drop()\\ndb.omdb_critics.dro...llection_names(include_system_collections=False)', u'mongo = db.box_office_mojo', u'Marvel_titles  = [ \\n                   \"Howar...four15\", \"deadpool2016\",\\n         \"marvel2016\"]', u'\\n\\nDc_titles = [\"Superman\",\"Superman II\",\\n  ...   \"superman2012\",\"red2\",\\n      \"superman2015\"]', u'Others_titles = [\\n\"2 Guns\",\\n\"30 Days of Nigh...iteout\",\\n\"x-filesfightthefuture\",\\n\"xfiles2\"\\n]', u'len(Others_titles)', u'len(Others)', u'def getMovieData(name):\\n    \\n    import json...n            \\n    return Features\\n            ', u'get_ipython().run_cell_magic(u\\'capture\\', u\\'...ection_names(include_system_collections=False)\")'], 'Marvel': ['howardtheduck', 'blade', 'xmen', 'blade2', 'spiderman', 'daredevil', 'x2', 'hulk', 'punisher', 'spiderman2', 'blade3', 'elektra', 'fantasticfour', 'x3', 'ghostrider', 'spiderman3', 'fantasticfour2', 'ironman', 'incrediblehulk', 'punisher2', ...], 'Marvel_titles': ['Howard The Duck', 'Blade', 'X-Men', 'Blade II', 'Spider-Man', 'Daredevil', 'X2: X-Men United', 'Hulk', 'The Punisher', 'Spider-Man 2', 'Blade: Trinity', 'Elektra', 'Fantastic Four(2005)', 'X-Men: The Last Stand', 'Ghost Rider', 'Spider-Man 3', 'Fantastic Four: Rise of the Silver Surfer', 'Iron Man', 'The Incredible Hulk', 'Punisher: War Zone', ...], 'MongoClient': <class 'pymongo.mongo_client.MongoClient'>, 'Others': ['2guns', '30daysofnight', '300', '300sequel', 'avp', 'avp2', 'americansplendor', 'bulletproofmonk', 'casper', 'cowboysandaliens', 'crow', 'diaryofateenagegirl', 'fromhell', 'ghostworld', 'hellboy', 'hellboy2', 'hercules2014', 'historyofviolence', 'ifrankenstein', 'josieandthepussycats', ...], 'Others_titles': ['2 Guns', '30 Days of Night', '300', '300: Rise of an Empire', 'Alien vs. Predator', 'Alien vs. Predator Requiem', 'American Splendor', 'Bulletproof Monk', 'Casper', 'Cowboys & Aliens', 'The Crow', 'The Diary of a Teenage Girl', 'From Hell', 'Ghost world', 'Hellboy', 'Hellboy II: The Golden Army', 'Hercules', 'A history of violence', 'I, Frankenstein', 'Josie and the Pussycats', ...], 'Out': {1: [], 2: [], 7: 56, 8: 56}, 'Parallel': <class 'joblib.parallel.Parallel'>, ...}\n        self.user_ns = {'Dc': ['superman', 'superman2', 'superman3', 'supergirl', 'superman4', 'batman', 'batmanreturns', 'batmanmaskofthephantasm', 'batmanforever', 'batmanrobin', 'steel', 'catwoman', 'constantine', 'batmanbegins', 'vforvendetta', 'superman06', 'darkknight', 'watchmen', 'losers', 'jonahhex', ...], 'Dc_titles': ['Superman', 'Superman II', 'Superman III', 'Supergirl', 'Superman IV: The Quest for Peace', 'Batman', 'Batman Returns', 'Batman: Mask of the Phantasm', 'Batman Forever', 'Batman Robin', 'Steel', 'Catwoman', 'Constantine', 'Batman Begins', 'V for Vendetta', 'Superman Returns', 'The Dark Knight', 'Watchmen', 'The Losers', 'Jonah Hex', ...], 'In': ['', u\"##### BOM_insert_id = ObjectId('5782d79705f6a3...llection_names(include_system_collections=False)\", u'db.box_office_mojo.drop()\\ndb.omdb_critics.dro...llection_names(include_system_collections=False)', u'mongo = db.box_office_mojo', u'Marvel_titles  = [ \\n                   \"Howar...four15\", \"deadpool2016\",\\n         \"marvel2016\"]', u'\\n\\nDc_titles = [\"Superman\",\"Superman II\",\\n  ...   \"superman2012\",\"red2\",\\n      \"superman2015\"]', u'Others_titles = [\\n\"2 Guns\",\\n\"30 Days of Nigh...iteout\",\\n\"x-filesfightthefuture\",\\n\"xfiles2\"\\n]', u'len(Others_titles)', u'len(Others)', u'def getMovieData(name):\\n    \\n    import json...n            \\n    return Features\\n            ', u'get_ipython().run_cell_magic(u\\'capture\\', u\\'...ection_names(include_system_collections=False)\")'], 'Marvel': ['howardtheduck', 'blade', 'xmen', 'blade2', 'spiderman', 'daredevil', 'x2', 'hulk', 'punisher', 'spiderman2', 'blade3', 'elektra', 'fantasticfour', 'x3', 'ghostrider', 'spiderman3', 'fantasticfour2', 'ironman', 'incrediblehulk', 'punisher2', ...], 'Marvel_titles': ['Howard The Duck', 'Blade', 'X-Men', 'Blade II', 'Spider-Man', 'Daredevil', 'X2: X-Men United', 'Hulk', 'The Punisher', 'Spider-Man 2', 'Blade: Trinity', 'Elektra', 'Fantastic Four(2005)', 'X-Men: The Last Stand', 'Ghost Rider', 'Spider-Man 3', 'Fantastic Four: Rise of the Silver Surfer', 'Iron Man', 'The Incredible Hulk', 'Punisher: War Zone', ...], 'MongoClient': <class 'pymongo.mongo_client.MongoClient'>, 'Others': ['2guns', '30daysofnight', '300', '300sequel', 'avp', 'avp2', 'americansplendor', 'bulletproofmonk', 'casper', 'cowboysandaliens', 'crow', 'diaryofateenagegirl', 'fromhell', 'ghostworld', 'hellboy', 'hellboy2', 'hercules2014', 'historyofviolence', 'ifrankenstein', 'josieandthepussycats', ...], 'Others_titles': ['2 Guns', '30 Days of Night', '300', '300: Rise of an Empire', 'Alien vs. Predator', 'Alien vs. Predator Requiem', 'American Splendor', 'Bulletproof Monk', 'Casper', 'Cowboys & Aliens', 'The Crow', 'The Diary of a Teenage Girl', 'From Hell', 'Ghost world', 'Hellboy', 'Hellboy II: The Golden Army', 'Hercules', 'A history of violence', 'I, Frankenstein', 'Josie and the Pussycats', ...], 'Out': {1: [], 2: [], 7: 56, 8: 56}, 'Parallel': <class 'joblib.parallel.Parallel'>, ...}\n   2886             finally:\n   2887                 # Reset our crash handler in place\n   2888                 sys.excepthook = old_excepthook\n   2889         except SystemExit as e:\n\n...........................................................................\n/Users/MotherBox/Documents/GitHub/CBM/Pyton/<ipython-input-10-de8cbd5ca6cb> in <module>()\n----> 1 \n      2 \n      3 \n      4 \n      5 \n      6 get_ipython().run_cell_magic(u'capture', u'', u\"\\n\\n# DC = Parallel(n_jobs=num_cores)(delayed(getMovieData)(name) for name in Dc)\\n# MARVEL = Parallel(n_jobs=num_cores)(delayed(getMovieData)(name) for name in Marvel)\\nOTHERS = Parallel(n_jobs=num_cores)(delayed(getMovieData)(name) for name in Others)\\n\\n# M = {}\\n# D = {}\\n# O = {}\\n\\n# for k in range(len(MARVEL)):\\n#     M[Marvel_titles[k]]= MARVEL[k]\\n    \\n# for k in range(len(DC)):\\n#     D[Dc_titles[k]]= DC[k]\\n    \\n# for k in range(len(OTHERS)):\\n#     O[Others_titles[k]]= OTHERS[k]\\n\\n    \\n# Data = {}\\n# Data['Marvel'] = M\\n# Data['DC'] = D\\n# Data['Others'] = O\\n\\n# del M\\n# del D\\n# del O\\n# del Marvel_titles\\n# del Dc_titles\\n# del Others_titles\\n\\n\\n\\n# BOM_insert_id = mongo.insert_one(Data).inserted_id\\n# db.collection_names(include_system_collections=False)\")\n      7 \n      8 \n      9 \n     10 \n\n...........................................................................\n/Users/MotherBox/anaconda/lib/python2.7/site-packages/IPython/core/interactiveshell.py in run_cell_magic(self=<ipykernel.zmqshell.ZMQInteractiveShell object>, magic_name=u'capture', line=u'', cell=u\"\\n\\n# DC = Parallel(n_jobs=num_cores)(delayed(...llection_names(include_system_collections=False)\")\n   2115             # This will need to be updated if the internal calling logic gets\n   2116             # refactored, or else we'll be expanding the wrong variables.\n   2117             stack_depth = 2\n   2118             magic_arg_s = self.var_expand(line, stack_depth)\n   2119             with self.builtin_trap:\n-> 2120                 result = fn(magic_arg_s, cell)\n        result = undefined\n        fn = <bound method ExecutionMagics.capture of <IPython.core.magics.execution.ExecutionMagics object>>\n        magic_arg_s = u''\n        cell = u\"\\n\\n# DC = Parallel(n_jobs=num_cores)(delayed(...llection_names(include_system_collections=False)\"\n   2121             return result\n   2122 \n   2123     def find_line_magic(self, magic_name):\n   2124         \"\"\"Find and return a line magic by name.\n\n...........................................................................\n/Users/MotherBox/Documents/GitHub/CBM/Pyton/<decorator-gen-62> in capture(self=<IPython.core.magics.execution.ExecutionMagics object>, line=u'', cell=u\"\\n\\n# DC = Parallel(n_jobs=num_cores)(delayed(...llection_names(include_system_collections=False)\")\n      1 \n----> 2 \n      3 \n      4 \n      5 \n      6 \n      7 \n      8 \n      9 \n     10 \n\n...........................................................................\n/Users/MotherBox/anaconda/lib/python2.7/site-packages/IPython/core/magic.py in <lambda>(f=<function capture>, *a=(<IPython.core.magics.execution.ExecutionMagics object>, u'', u\"\\n\\n# DC = Parallel(n_jobs=num_cores)(delayed(...llection_names(include_system_collections=False)\"), **k={})\n    188     validate_type(magic_kind)\n    189 \n    190     # This is a closure to capture the magic_kind.  We could also use a class,\n    191     # but it's overkill for just that one bit of state.\n    192     def magic_deco(arg):\n--> 193         call = lambda f, *a, **k: f(*a, **k)\n        f = <function capture>\n        a = (<IPython.core.magics.execution.ExecutionMagics object>, u'', u\"\\n\\n# DC = Parallel(n_jobs=num_cores)(delayed(...llection_names(include_system_collections=False)\")\n        k = {}\n    194 \n    195         if callable(arg):\n    196             # \"Naked\" decorator call (just @foo, no args)\n    197             func = arg\n\n...........................................................................\n/Users/MotherBox/anaconda/lib/python2.7/site-packages/IPython/core/magics/execution.py in capture(self=<IPython.core.magics.execution.ExecutionMagics object>, line=u'', cell=u\"\\n\\n# DC = Parallel(n_jobs=num_cores)(delayed(...llection_names(include_system_collections=False)\")\n   1307         args = magic_arguments.parse_argstring(self.capture, line)\n   1308         out = not args.no_stdout\n   1309         err = not args.no_stderr\n   1310         disp = not args.no_display\n   1311         with capture_output(out, err, disp) as io:\n-> 1312             self.shell.run_cell(cell)\n        self.shell.run_cell = <bound method ZMQInteractiveShell.run_cell of <ipykernel.zmqshell.ZMQInteractiveShell object>>\n        cell = u\"\\n\\n# DC = Parallel(n_jobs=num_cores)(delayed(...llection_names(include_system_collections=False)\"\n   1313         if args.output:\n   1314             self.shell.user_ns[args.output] = io\n   1315 \n   1316 def parse_breakpoint(text, current_file):\n\n...........................................................................\n/Users/MotherBox/anaconda/lib/python2.7/site-packages/IPython/core/interactiveshell.py in run_cell(self=<ipykernel.zmqshell.ZMQInteractiveShell object>, raw_cell=u\"\\n\\n# DC = Parallel(n_jobs=num_cores)(delayed(...llection_names(include_system_collections=False)\", store_history=False, silent=False, shell_futures=True)\n   2718                 self.displayhook.exec_result = result\n   2719 \n   2720                 # Execute the user code\n   2721                 interactivity = \"none\" if silent else self.ast_node_interactivity\n   2722                 self.run_ast_nodes(code_ast.body, cell_name,\n-> 2723                    interactivity=interactivity, compiler=compiler, result=result)\n        interactivity = 'last_expr'\n        compiler = <IPython.core.compilerop.CachingCompiler instance>\n   2724 \n   2725                 # Reset this so later displayed values do not modify the\n   2726                 # ExecutionResult\n   2727                 self.displayhook.exec_result = None\n\n...........................................................................\n/Users/MotherBox/anaconda/lib/python2.7/site-packages/IPython/core/interactiveshell.py in run_ast_nodes(self=<ipykernel.zmqshell.ZMQInteractiveShell object>, nodelist=[<_ast.Assign object>], cell_name='<ipython-input-10-2eeb017b2122>', interactivity='none', compiler=<IPython.core.compilerop.CachingCompiler instance>, result=<IPython.core.interactiveshell.ExecutionResult object>)\n   2820 \n   2821         try:\n   2822             for i, node in enumerate(to_run_exec):\n   2823                 mod = ast.Module([node])\n   2824                 code = compiler(mod, cell_name, \"exec\")\n-> 2825                 if self.run_code(code, result):\n        self.run_code = <bound method ZMQInteractiveShell.run_code of <ipykernel.zmqshell.ZMQInteractiveShell object>>\n        code = <code object <module> at 0x1091b01b0, file \"<ipython-input-10-2eeb017b2122>\", line 5>\n        result = <IPython.core.interactiveshell.ExecutionResult object>\n   2826                     return True\n   2827 \n   2828             for i, node in enumerate(to_run_interactive):\n   2829                 mod = ast.Interactive([node])\n\n...........................................................................\n/Users/MotherBox/anaconda/lib/python2.7/site-packages/IPython/core/interactiveshell.py in run_code(self=<ipykernel.zmqshell.ZMQInteractiveShell object>, code_obj=<code object <module> at 0x1091b01b0, file \"<ipython-input-10-2eeb017b2122>\", line 5>, result=<IPython.core.interactiveshell.ExecutionResult object>)\n   2880         outflag = 1  # happens in more places, so it's easier as default\n   2881         try:\n   2882             try:\n   2883                 self.hooks.pre_run_code_hook()\n   2884                 #rprint('Running code', repr(code_obj)) # dbg\n-> 2885                 exec(code_obj, self.user_global_ns, self.user_ns)\n        code_obj = <code object <module> at 0x1091b01b0, file \"<ipython-input-10-2eeb017b2122>\", line 5>\n        self.user_global_ns = {'Dc': ['superman', 'superman2', 'superman3', 'supergirl', 'superman4', 'batman', 'batmanreturns', 'batmanmaskofthephantasm', 'batmanforever', 'batmanrobin', 'steel', 'catwoman', 'constantine', 'batmanbegins', 'vforvendetta', 'superman06', 'darkknight', 'watchmen', 'losers', 'jonahhex', ...], 'Dc_titles': ['Superman', 'Superman II', 'Superman III', 'Supergirl', 'Superman IV: The Quest for Peace', 'Batman', 'Batman Returns', 'Batman: Mask of the Phantasm', 'Batman Forever', 'Batman Robin', 'Steel', 'Catwoman', 'Constantine', 'Batman Begins', 'V for Vendetta', 'Superman Returns', 'The Dark Knight', 'Watchmen', 'The Losers', 'Jonah Hex', ...], 'In': ['', u\"##### BOM_insert_id = ObjectId('5782d79705f6a3...llection_names(include_system_collections=False)\", u'db.box_office_mojo.drop()\\ndb.omdb_critics.dro...llection_names(include_system_collections=False)', u'mongo = db.box_office_mojo', u'Marvel_titles  = [ \\n                   \"Howar...four15\", \"deadpool2016\",\\n         \"marvel2016\"]', u'\\n\\nDc_titles = [\"Superman\",\"Superman II\",\\n  ...   \"superman2012\",\"red2\",\\n      \"superman2015\"]', u'Others_titles = [\\n\"2 Guns\",\\n\"30 Days of Nigh...iteout\",\\n\"x-filesfightthefuture\",\\n\"xfiles2\"\\n]', u'len(Others_titles)', u'len(Others)', u'def getMovieData(name):\\n    \\n    import json...n            \\n    return Features\\n            ', u'get_ipython().run_cell_magic(u\\'capture\\', u\\'...ection_names(include_system_collections=False)\")'], 'Marvel': ['howardtheduck', 'blade', 'xmen', 'blade2', 'spiderman', 'daredevil', 'x2', 'hulk', 'punisher', 'spiderman2', 'blade3', 'elektra', 'fantasticfour', 'x3', 'ghostrider', 'spiderman3', 'fantasticfour2', 'ironman', 'incrediblehulk', 'punisher2', ...], 'Marvel_titles': ['Howard The Duck', 'Blade', 'X-Men', 'Blade II', 'Spider-Man', 'Daredevil', 'X2: X-Men United', 'Hulk', 'The Punisher', 'Spider-Man 2', 'Blade: Trinity', 'Elektra', 'Fantastic Four(2005)', 'X-Men: The Last Stand', 'Ghost Rider', 'Spider-Man 3', 'Fantastic Four: Rise of the Silver Surfer', 'Iron Man', 'The Incredible Hulk', 'Punisher: War Zone', ...], 'MongoClient': <class 'pymongo.mongo_client.MongoClient'>, 'Others': ['2guns', '30daysofnight', '300', '300sequel', 'avp', 'avp2', 'americansplendor', 'bulletproofmonk', 'casper', 'cowboysandaliens', 'crow', 'diaryofateenagegirl', 'fromhell', 'ghostworld', 'hellboy', 'hellboy2', 'hercules2014', 'historyofviolence', 'ifrankenstein', 'josieandthepussycats', ...], 'Others_titles': ['2 Guns', '30 Days of Night', '300', '300: Rise of an Empire', 'Alien vs. Predator', 'Alien vs. Predator Requiem', 'American Splendor', 'Bulletproof Monk', 'Casper', 'Cowboys & Aliens', 'The Crow', 'The Diary of a Teenage Girl', 'From Hell', 'Ghost world', 'Hellboy', 'Hellboy II: The Golden Army', 'Hercules', 'A history of violence', 'I, Frankenstein', 'Josie and the Pussycats', ...], 'Out': {1: [], 2: [], 7: 56, 8: 56}, 'Parallel': <class 'joblib.parallel.Parallel'>, ...}\n        self.user_ns = {'Dc': ['superman', 'superman2', 'superman3', 'supergirl', 'superman4', 'batman', 'batmanreturns', 'batmanmaskofthephantasm', 'batmanforever', 'batmanrobin', 'steel', 'catwoman', 'constantine', 'batmanbegins', 'vforvendetta', 'superman06', 'darkknight', 'watchmen', 'losers', 'jonahhex', ...], 'Dc_titles': ['Superman', 'Superman II', 'Superman III', 'Supergirl', 'Superman IV: The Quest for Peace', 'Batman', 'Batman Returns', 'Batman: Mask of the Phantasm', 'Batman Forever', 'Batman Robin', 'Steel', 'Catwoman', 'Constantine', 'Batman Begins', 'V for Vendetta', 'Superman Returns', 'The Dark Knight', 'Watchmen', 'The Losers', 'Jonah Hex', ...], 'In': ['', u\"##### BOM_insert_id = ObjectId('5782d79705f6a3...llection_names(include_system_collections=False)\", u'db.box_office_mojo.drop()\\ndb.omdb_critics.dro...llection_names(include_system_collections=False)', u'mongo = db.box_office_mojo', u'Marvel_titles  = [ \\n                   \"Howar...four15\", \"deadpool2016\",\\n         \"marvel2016\"]', u'\\n\\nDc_titles = [\"Superman\",\"Superman II\",\\n  ...   \"superman2012\",\"red2\",\\n      \"superman2015\"]', u'Others_titles = [\\n\"2 Guns\",\\n\"30 Days of Nigh...iteout\",\\n\"x-filesfightthefuture\",\\n\"xfiles2\"\\n]', u'len(Others_titles)', u'len(Others)', u'def getMovieData(name):\\n    \\n    import json...n            \\n    return Features\\n            ', u'get_ipython().run_cell_magic(u\\'capture\\', u\\'...ection_names(include_system_collections=False)\")'], 'Marvel': ['howardtheduck', 'blade', 'xmen', 'blade2', 'spiderman', 'daredevil', 'x2', 'hulk', 'punisher', 'spiderman2', 'blade3', 'elektra', 'fantasticfour', 'x3', 'ghostrider', 'spiderman3', 'fantasticfour2', 'ironman', 'incrediblehulk', 'punisher2', ...], 'Marvel_titles': ['Howard The Duck', 'Blade', 'X-Men', 'Blade II', 'Spider-Man', 'Daredevil', 'X2: X-Men United', 'Hulk', 'The Punisher', 'Spider-Man 2', 'Blade: Trinity', 'Elektra', 'Fantastic Four(2005)', 'X-Men: The Last Stand', 'Ghost Rider', 'Spider-Man 3', 'Fantastic Four: Rise of the Silver Surfer', 'Iron Man', 'The Incredible Hulk', 'Punisher: War Zone', ...], 'MongoClient': <class 'pymongo.mongo_client.MongoClient'>, 'Others': ['2guns', '30daysofnight', '300', '300sequel', 'avp', 'avp2', 'americansplendor', 'bulletproofmonk', 'casper', 'cowboysandaliens', 'crow', 'diaryofateenagegirl', 'fromhell', 'ghostworld', 'hellboy', 'hellboy2', 'hercules2014', 'historyofviolence', 'ifrankenstein', 'josieandthepussycats', ...], 'Others_titles': ['2 Guns', '30 Days of Night', '300', '300: Rise of an Empire', 'Alien vs. Predator', 'Alien vs. Predator Requiem', 'American Splendor', 'Bulletproof Monk', 'Casper', 'Cowboys & Aliens', 'The Crow', 'The Diary of a Teenage Girl', 'From Hell', 'Ghost world', 'Hellboy', 'Hellboy II: The Golden Army', 'Hercules', 'A history of violence', 'I, Frankenstein', 'Josie and the Pussycats', ...], 'Out': {1: [], 2: [], 7: 56, 8: 56}, 'Parallel': <class 'joblib.parallel.Parallel'>, ...}\n   2886             finally:\n   2887                 # Reset our crash handler in place\n   2888                 sys.excepthook = old_excepthook\n   2889         except SystemExit as e:\n\n...........................................................................\n/Users/MotherBox/Documents/GitHub/CBM/Pyton/<ipython-input-10-2eeb017b2122> in <module>()\n      1 \n      2 \n      3 \n      4 # DC = Parallel(n_jobs=num_cores)(delayed(getMovieData)(name) for name in Dc)\n----> 5 # MARVEL = Parallel(n_jobs=num_cores)(delayed(getMovieData)(name) for name in Marvel)\n      6 OTHERS = Parallel(n_jobs=num_cores)(delayed(getMovieData)(name) for name in Others)\n      7 \n      8 # M = {}\n      9 # D = {}\n     10 # O = {}\n     11 \n\n...........................................................................\n/Users/MotherBox/anaconda/lib/python2.7/site-packages/joblib/parallel.py in __call__(self=Parallel(n_jobs=4), iterable=<generator object <genexpr>>)\n    805             if pre_dispatch == \"all\" or n_jobs == 1:\n    806                 # The iterable was consumed all at once by the above for loop.\n    807                 # No need to wait for async callbacks to trigger to\n    808                 # consumption.\n    809                 self._iterating = False\n--> 810             self.retrieve()\n        self.retrieve = <bound method Parallel.retrieve of Parallel(n_jobs=4)>\n    811             # Make sure that we get a last message telling us we are done\n    812             elapsed_time = time.time() - self._start_time\n    813             self._print('Done %3i out of %3i | elapsed: %s finished',\n    814                         (len(self._output), len(self._output),\n\n---------------------------------------------------------------------------\nSub-process traceback:\n---------------------------------------------------------------------------\nIndexError                                         Sun Jul 24 23:27:25 2016\nPID: 8527               Python 2.7.11: /Users/MotherBox/anaconda/bin/python\n...........................................................................\n/Users/MotherBox/anaconda/lib/python2.7/site-packages/joblib/parallel.py in __call__(self=<joblib.parallel.BatchedCalls object>)\n     67     def __init__(self, iterator_slice):\n     68         self.items = list(iterator_slice)\n     69         self._size = len(self.items)\n     70 \n     71     def __call__(self):\n---> 72         return [func(*args, **kwargs) for func, args, kwargs in self.items]\n        func = <function getMovieData>\n        args = ('ifrankenstein',)\n        kwargs = {}\n        self.items = [(<function getMovieData>, ('ifrankenstein',), {})]\n     73 \n     74     def __len__(self):\n     75         return self._size\n     76 \n\n...........................................................................\n/Users/MotherBox/Documents/GitHub/CBM/Pyton/<ipython-input-9-5c069d97a9fe> in getMovieData(name='ifrankenstein')\n      3     import json\n      4     import boxofficemojoAPI as bom\n      5    \n      6     \n      7     bo = bom.BoxOfficeMojo()\n----> 8     bo.crawl_for_urls()\n      9     data1 = bo.get_movie_summary(name)\n     10     data1.clean_data()\n     11     data1 = json.loads(data1.to_json())\n     12     \n\n...........................................................................\n/Users/MotherBox/Documents/GitHub/CBM/Pyton/boxofficemojoAPI/boxofficemojo.py in crawl_for_urls(self=<boxofficemojoAPI.boxofficemojo.BoxOfficeMojo object>)\n     71                 r = requests.get(new_url)\n     72                 if r.status_code != 200:\n     73                     print \"HTTP Status code returned:\", r.status_code\n     74                 soup = bs4.BeautifulSoup(r.content)\n     75                 self.clean_html(soup)\n---> 76                 self.find_urls_in_html(soup)\n        self.find_urls_in_html = <bound method BoxOfficeMojo.find_urls_in_html of...fficemojoAPI.boxofficemojo.BoxOfficeMojo object>>\n        soup = <html>\\n<head>\\n<title>Updates in Progress</titl...st a few minutes.</p>\\n</div>\\n</body>\\n</html>\\n\n     77 \n     78     @utils.catch_connection_error\n     79     def get_movie_summary(self, url_or_id):\n     80         if 'http' in url_or_id.lower():\n\n...........................................................................\n/Users/MotherBox/Documents/GitHub/CBM/Pyton/boxofficemojoAPI/boxofficemojo.py in find_urls_in_html(self=<boxofficemojoAPI.boxofficemojo.BoxOfficeMojo object>, soup=<html>\\n<head>\\n<title>Updates in Progress</titl...st a few minutes.</p>\\n</div>\\n</body>\\n</html>\\n)\n     38 \n     39     def find_urls_in_html(self, soup):\n     40         \"\"\"Adds all the specific movie urls to the movie_urls dictionary\"\"\"\n     41         urls = soup.findAll(href=re.compile(\"id=\"))\n     42         # First URL is an ad for a movie so get rid of it\n---> 43         del(urls[0])\n        urls = []\n     44 \n     45         self.total_movies += len(urls)\n     46         for url in urls:\n     47             movie_name = url.renderContents()\n\nIndexError: list assignment index out of range\n___________________________________________________________________________",
     "output_type": "error",
     "traceback": [
      "\u001b[0;31m---------------------------------------------------------------------------\u001b[0m",
      "\u001b[0;31mJoblibIndexError\u001b[0m                          Traceback (most recent call last)",
      "\u001b[0;32m<ipython-input-10-2eeb017b2122>\u001b[0m in \u001b[0;36m<module>\u001b[0;34m()\u001b[0m\n\u001b[1;32m      3\u001b[0m \u001b[0;31m# DC = Parallel(n_jobs=num_cores)(delayed(getMovieData)(name) for name in Dc)\u001b[0m\u001b[0;34m\u001b[0m\u001b[0;34m\u001b[0m\u001b[0m\n\u001b[1;32m      4\u001b[0m \u001b[0;31m# MARVEL = Parallel(n_jobs=num_cores)(delayed(getMovieData)(name) for name in Marvel)\u001b[0m\u001b[0;34m\u001b[0m\u001b[0;34m\u001b[0m\u001b[0m\n\u001b[0;32m----> 5\u001b[0;31m \u001b[0mOTHERS\u001b[0m \u001b[0;34m=\u001b[0m \u001b[0mParallel\u001b[0m\u001b[0;34m(\u001b[0m\u001b[0mn_jobs\u001b[0m\u001b[0;34m=\u001b[0m\u001b[0mnum_cores\u001b[0m\u001b[0;34m)\u001b[0m\u001b[0;34m(\u001b[0m\u001b[0mdelayed\u001b[0m\u001b[0;34m(\u001b[0m\u001b[0mgetMovieData\u001b[0m\u001b[0;34m)\u001b[0m\u001b[0;34m(\u001b[0m\u001b[0mname\u001b[0m\u001b[0;34m)\u001b[0m \u001b[0;32mfor\u001b[0m \u001b[0mname\u001b[0m \u001b[0;32min\u001b[0m \u001b[0mOthers\u001b[0m\u001b[0;34m)\u001b[0m\u001b[0;34m\u001b[0m\u001b[0m\n\u001b[0m\u001b[1;32m      6\u001b[0m \u001b[0;34m\u001b[0m\u001b[0m\n\u001b[1;32m      7\u001b[0m \u001b[0;31m# M = {}\u001b[0m\u001b[0;34m\u001b[0m\u001b[0;34m\u001b[0m\u001b[0m\n",
      "\u001b[0;32m/Users/MotherBox/anaconda/lib/python2.7/site-packages/joblib/parallel.pyc\u001b[0m in \u001b[0;36m__call__\u001b[0;34m(self, iterable)\u001b[0m\n\u001b[1;32m    808\u001b[0m                 \u001b[0;31m# consumption.\u001b[0m\u001b[0;34m\u001b[0m\u001b[0;34m\u001b[0m\u001b[0m\n\u001b[1;32m    809\u001b[0m                 \u001b[0mself\u001b[0m\u001b[0;34m.\u001b[0m\u001b[0m_iterating\u001b[0m \u001b[0;34m=\u001b[0m \u001b[0mFalse\u001b[0m\u001b[0;34m\u001b[0m\u001b[0m\n\u001b[0;32m--> 810\u001b[0;31m             \u001b[0mself\u001b[0m\u001b[0;34m.\u001b[0m\u001b[0mretrieve\u001b[0m\u001b[0;34m(\u001b[0m\u001b[0;34m)\u001b[0m\u001b[0;34m\u001b[0m\u001b[0m\n\u001b[0m\u001b[1;32m    811\u001b[0m             \u001b[0;31m# Make sure that we get a last message telling us we are done\u001b[0m\u001b[0;34m\u001b[0m\u001b[0;34m\u001b[0m\u001b[0m\n\u001b[1;32m    812\u001b[0m             \u001b[0melapsed_time\u001b[0m \u001b[0;34m=\u001b[0m \u001b[0mtime\u001b[0m\u001b[0;34m.\u001b[0m\u001b[0mtime\u001b[0m\u001b[0;34m(\u001b[0m\u001b[0;34m)\u001b[0m \u001b[0;34m-\u001b[0m \u001b[0mself\u001b[0m\u001b[0;34m.\u001b[0m\u001b[0m_start_time\u001b[0m\u001b[0;34m\u001b[0m\u001b[0m\n",
      "\u001b[0;32m/Users/MotherBox/anaconda/lib/python2.7/site-packages/joblib/parallel.pyc\u001b[0m in \u001b[0;36mretrieve\u001b[0;34m(self)\u001b[0m\n\u001b[1;32m    755\u001b[0m                     \u001b[0;31m# a working pool as they expect.\u001b[0m\u001b[0;34m\u001b[0m\u001b[0;34m\u001b[0m\u001b[0m\n\u001b[1;32m    756\u001b[0m                     \u001b[0mself\u001b[0m\u001b[0;34m.\u001b[0m\u001b[0m_initialize_pool\u001b[0m\u001b[0;34m(\u001b[0m\u001b[0;34m)\u001b[0m\u001b[0;34m\u001b[0m\u001b[0m\n\u001b[0;32m--> 757\u001b[0;31m                 \u001b[0;32mraise\u001b[0m \u001b[0mexception\u001b[0m\u001b[0;34m\u001b[0m\u001b[0m\n\u001b[0m\u001b[1;32m    758\u001b[0m \u001b[0;34m\u001b[0m\u001b[0m\n\u001b[1;32m    759\u001b[0m     \u001b[0;32mdef\u001b[0m \u001b[0m__call__\u001b[0m\u001b[0;34m(\u001b[0m\u001b[0mself\u001b[0m\u001b[0;34m,\u001b[0m \u001b[0miterable\u001b[0m\u001b[0;34m)\u001b[0m\u001b[0;34m:\u001b[0m\u001b[0;34m\u001b[0m\u001b[0m\n",
      "\u001b[0;31mJoblibIndexError\u001b[0m: JoblibIndexError\n___________________________________________________________________________\nMultiprocessing exception:\n...........................................................................\n/Users/MotherBox/anaconda/lib/python2.7/runpy.py in _run_module_as_main(mod_name='ipykernel.__main__', alter_argv=1)\n    157     pkg_name = mod_name.rpartition('.')[0]\n    158     main_globals = sys.modules[\"__main__\"].__dict__\n    159     if alter_argv:\n    160         sys.argv[0] = fname\n    161     return _run_code(code, main_globals, None,\n--> 162                      \"__main__\", fname, loader, pkg_name)\n        fname = '/Users/MotherBox/anaconda/lib/python2.7/site-packages/ipykernel/__main__.py'\n        loader = <pkgutil.ImpLoader instance>\n        pkg_name = 'ipykernel'\n    163 \n    164 def run_module(mod_name, init_globals=None,\n    165                run_name=None, alter_sys=False):\n    166     \"\"\"Execute a module's code without importing it\n\n...........................................................................\n/Users/MotherBox/anaconda/lib/python2.7/runpy.py in _run_code(code=<code object <module> at 0x1020d8830, file \"/Use...2.7/site-packages/ipykernel/__main__.py\", line 1>, run_globals={'__builtins__': <module '__builtin__' (built-in)>, '__doc__': None, '__file__': '/Users/MotherBox/anaconda/lib/python2.7/site-packages/ipykernel/__main__.py', '__loader__': <pkgutil.ImpLoader instance>, '__name__': '__main__', '__package__': 'ipykernel', 'app': <module 'ipykernel.kernelapp' from '/Users/Mothe...python2.7/site-packages/ipykernel/kernelapp.pyc'>}, init_globals=None, mod_name='__main__', mod_fname='/Users/MotherBox/anaconda/lib/python2.7/site-packages/ipykernel/__main__.py', mod_loader=<pkgutil.ImpLoader instance>, pkg_name='ipykernel')\n     67         run_globals.update(init_globals)\n     68     run_globals.update(__name__ = mod_name,\n     69                        __file__ = mod_fname,\n     70                        __loader__ = mod_loader,\n     71                        __package__ = pkg_name)\n---> 72     exec code in run_globals\n        code = <code object <module> at 0x1020d8830, file \"/Use...2.7/site-packages/ipykernel/__main__.py\", line 1>\n        run_globals = {'__builtins__': <module '__builtin__' (built-in)>, '__doc__': None, '__file__': '/Users/MotherBox/anaconda/lib/python2.7/site-packages/ipykernel/__main__.py', '__loader__': <pkgutil.ImpLoader instance>, '__name__': '__main__', '__package__': 'ipykernel', 'app': <module 'ipykernel.kernelapp' from '/Users/Mothe...python2.7/site-packages/ipykernel/kernelapp.pyc'>}\n     73     return run_globals\n     74 \n     75 def _run_module_code(code, init_globals=None,\n     76                     mod_name=None, mod_fname=None,\n\n...........................................................................\n/Users/MotherBox/anaconda/lib/python2.7/site-packages/ipykernel/__main__.py in <module>()\n      1 \n      2 \n----> 3 \n      4 if __name__ == '__main__':\n      5     from ipykernel import kernelapp as app\n      6     app.launch_new_instance()\n      7 \n      8 \n      9 \n     10 \n\n...........................................................................\n/Users/MotherBox/anaconda/lib/python2.7/site-packages/traitlets/config/application.py in launch_instance(cls=<class 'ipykernel.kernelapp.IPKernelApp'>, argv=None, **kwargs={})\n    591         \n    592         If a global instance already exists, this reinitializes and starts it\n    593         \"\"\"\n    594         app = cls.instance(**kwargs)\n    595         app.initialize(argv)\n--> 596         app.start()\n        app.start = <bound method IPKernelApp.start of <ipykernel.kernelapp.IPKernelApp object>>\n    597 \n    598 #-----------------------------------------------------------------------------\n    599 # utility functions, for convenience\n    600 #-----------------------------------------------------------------------------\n\n...........................................................................\n/Users/MotherBox/anaconda/lib/python2.7/site-packages/ipykernel/kernelapp.py in start(self=<ipykernel.kernelapp.IPKernelApp object>)\n    437         \n    438         if self.poller is not None:\n    439             self.poller.start()\n    440         self.kernel.start()\n    441         try:\n--> 442             ioloop.IOLoop.instance().start()\n    443         except KeyboardInterrupt:\n    444             pass\n    445 \n    446 launch_new_instance = IPKernelApp.launch_instance\n\n...........................................................................\n/Users/MotherBox/anaconda/lib/python2.7/site-packages/zmq/eventloop/ioloop.py in start(self=<zmq.eventloop.ioloop.ZMQIOLoop object>)\n    157             PollIOLoop.configure(ZMQIOLoop)\n    158         return PollIOLoop.current(*args, **kwargs)\n    159     \n    160     def start(self):\n    161         try:\n--> 162             super(ZMQIOLoop, self).start()\n        self.start = <bound method ZMQIOLoop.start of <zmq.eventloop.ioloop.ZMQIOLoop object>>\n    163         except ZMQError as e:\n    164             if e.errno == ETERM:\n    165                 # quietly return on ETERM\n    166                 pass\n\n...........................................................................\n/Users/MotherBox/anaconda/lib/python2.7/site-packages/tornado/ioloop.py in start(self=<zmq.eventloop.ioloop.ZMQIOLoop object>)\n    878                 self._events.update(event_pairs)\n    879                 while self._events:\n    880                     fd, events = self._events.popitem()\n    881                     try:\n    882                         fd_obj, handler_func = self._handlers[fd]\n--> 883                         handler_func(fd_obj, events)\n        handler_func = <function null_wrapper>\n        fd_obj = <zmq.sugar.socket.Socket object>\n        events = 1\n    884                     except (OSError, IOError) as e:\n    885                         if errno_from_exception(e) == errno.EPIPE:\n    886                             # Happens when the client closes the connection\n    887                             pass\n\n...........................................................................\n/Users/MotherBox/anaconda/lib/python2.7/site-packages/tornado/stack_context.py in null_wrapper(*args=(<zmq.sugar.socket.Socket object>, 1), **kwargs={})\n    270         # Fast path when there are no active contexts.\n    271         def null_wrapper(*args, **kwargs):\n    272             try:\n    273                 current_state = _state.contexts\n    274                 _state.contexts = cap_contexts[0]\n--> 275                 return fn(*args, **kwargs)\n        args = (<zmq.sugar.socket.Socket object>, 1)\n        kwargs = {}\n    276             finally:\n    277                 _state.contexts = current_state\n    278         null_wrapper._wrapped = True\n    279         return null_wrapper\n\n...........................................................................\n/Users/MotherBox/anaconda/lib/python2.7/site-packages/zmq/eventloop/zmqstream.py in _handle_events(self=<zmq.eventloop.zmqstream.ZMQStream object>, fd=<zmq.sugar.socket.Socket object>, events=1)\n    435             # dispatch events:\n    436             if events & IOLoop.ERROR:\n    437                 gen_log.error(\"got POLLERR event on ZMQStream, which doesn't make sense\")\n    438                 return\n    439             if events & IOLoop.READ:\n--> 440                 self._handle_recv()\n        self._handle_recv = <bound method ZMQStream._handle_recv of <zmq.eventloop.zmqstream.ZMQStream object>>\n    441                 if not self.socket:\n    442                     return\n    443             if events & IOLoop.WRITE:\n    444                 self._handle_send()\n\n...........................................................................\n/Users/MotherBox/anaconda/lib/python2.7/site-packages/zmq/eventloop/zmqstream.py in _handle_recv(self=<zmq.eventloop.zmqstream.ZMQStream object>)\n    467                 gen_log.error(\"RECV Error: %s\"%zmq.strerror(e.errno))\n    468         else:\n    469             if self._recv_callback:\n    470                 callback = self._recv_callback\n    471                 # self._recv_callback = None\n--> 472                 self._run_callback(callback, msg)\n        self._run_callback = <bound method ZMQStream._run_callback of <zmq.eventloop.zmqstream.ZMQStream object>>\n        callback = <function null_wrapper>\n        msg = [<zmq.sugar.frame.Frame object>, <zmq.sugar.frame.Frame object>, <zmq.sugar.frame.Frame object>, <zmq.sugar.frame.Frame object>, <zmq.sugar.frame.Frame object>, <zmq.sugar.frame.Frame object>, <zmq.sugar.frame.Frame object>]\n    473                 \n    474         # self.update_state()\n    475         \n    476 \n\n...........................................................................\n/Users/MotherBox/anaconda/lib/python2.7/site-packages/zmq/eventloop/zmqstream.py in _run_callback(self=<zmq.eventloop.zmqstream.ZMQStream object>, callback=<function null_wrapper>, *args=([<zmq.sugar.frame.Frame object>, <zmq.sugar.frame.Frame object>, <zmq.sugar.frame.Frame object>, <zmq.sugar.frame.Frame object>, <zmq.sugar.frame.Frame object>, <zmq.sugar.frame.Frame object>, <zmq.sugar.frame.Frame object>],), **kwargs={})\n    409         close our socket.\"\"\"\n    410         try:\n    411             # Use a NullContext to ensure that all StackContexts are run\n    412             # inside our blanket exception handler rather than outside.\n    413             with stack_context.NullContext():\n--> 414                 callback(*args, **kwargs)\n        callback = <function null_wrapper>\n        args = ([<zmq.sugar.frame.Frame object>, <zmq.sugar.frame.Frame object>, <zmq.sugar.frame.Frame object>, <zmq.sugar.frame.Frame object>, <zmq.sugar.frame.Frame object>, <zmq.sugar.frame.Frame object>, <zmq.sugar.frame.Frame object>],)\n        kwargs = {}\n    415         except:\n    416             gen_log.error(\"Uncaught exception, closing connection.\",\n    417                           exc_info=True)\n    418             # Close the socket on an uncaught exception from a user callback\n\n...........................................................................\n/Users/MotherBox/anaconda/lib/python2.7/site-packages/tornado/stack_context.py in null_wrapper(*args=([<zmq.sugar.frame.Frame object>, <zmq.sugar.frame.Frame object>, <zmq.sugar.frame.Frame object>, <zmq.sugar.frame.Frame object>, <zmq.sugar.frame.Frame object>, <zmq.sugar.frame.Frame object>, <zmq.sugar.frame.Frame object>],), **kwargs={})\n    270         # Fast path when there are no active contexts.\n    271         def null_wrapper(*args, **kwargs):\n    272             try:\n    273                 current_state = _state.contexts\n    274                 _state.contexts = cap_contexts[0]\n--> 275                 return fn(*args, **kwargs)\n        args = ([<zmq.sugar.frame.Frame object>, <zmq.sugar.frame.Frame object>, <zmq.sugar.frame.Frame object>, <zmq.sugar.frame.Frame object>, <zmq.sugar.frame.Frame object>, <zmq.sugar.frame.Frame object>, <zmq.sugar.frame.Frame object>],)\n        kwargs = {}\n    276             finally:\n    277                 _state.contexts = current_state\n    278         null_wrapper._wrapped = True\n    279         return null_wrapper\n\n...........................................................................\n/Users/MotherBox/anaconda/lib/python2.7/site-packages/ipykernel/kernelbase.py in dispatcher(msg=[<zmq.sugar.frame.Frame object>, <zmq.sugar.frame.Frame object>, <zmq.sugar.frame.Frame object>, <zmq.sugar.frame.Frame object>, <zmq.sugar.frame.Frame object>, <zmq.sugar.frame.Frame object>, <zmq.sugar.frame.Frame object>])\n    271         if self.control_stream:\n    272             self.control_stream.on_recv(self.dispatch_control, copy=False)\n    273 \n    274         def make_dispatcher(stream):\n    275             def dispatcher(msg):\n--> 276                 return self.dispatch_shell(stream, msg)\n        msg = [<zmq.sugar.frame.Frame object>, <zmq.sugar.frame.Frame object>, <zmq.sugar.frame.Frame object>, <zmq.sugar.frame.Frame object>, <zmq.sugar.frame.Frame object>, <zmq.sugar.frame.Frame object>, <zmq.sugar.frame.Frame object>]\n    277             return dispatcher\n    278 \n    279         for s in self.shell_streams:\n    280             s.on_recv(make_dispatcher(s), copy=False)\n\n...........................................................................\n/Users/MotherBox/anaconda/lib/python2.7/site-packages/ipykernel/kernelbase.py in dispatch_shell(self=<ipykernel.ipkernel.IPythonKernel object>, stream=<zmq.eventloop.zmqstream.ZMQStream object>, msg={'buffers': [], 'content': {u'allow_stdin': True, u'code': u\"%%capture\\n\\n\\n# DC = Parallel(n_jobs=num_core...ection_names(include_system_collections=False)\\n\", u'silent': False, u'stop_on_error': True, u'store_history': True, u'user_expressions': {}}, 'header': {'date': '2016-07-24T23:20:40.832641', u'msg_id': u'474C24EDAADF4D128EC5EB349963D9AB', u'msg_type': u'execute_request', u'session': u'4DBDA6F9C6F6427F99609995E90B9D9B', u'username': u'username', u'version': u'5.0'}, 'metadata': {}, 'msg_id': u'474C24EDAADF4D128EC5EB349963D9AB', 'msg_type': u'execute_request', 'parent_header': {}})\n    223             self.log.error(\"UNKNOWN MESSAGE TYPE: %r\", msg_type)\n    224         else:\n    225             self.log.debug(\"%s: %s\", msg_type, msg)\n    226             self.pre_handler_hook()\n    227             try:\n--> 228                 handler(stream, idents, msg)\n        handler = <bound method IPythonKernel.execute_request of <ipykernel.ipkernel.IPythonKernel object>>\n        stream = <zmq.eventloop.zmqstream.ZMQStream object>\n        idents = ['4DBDA6F9C6F6427F99609995E90B9D9B']\n        msg = {'buffers': [], 'content': {u'allow_stdin': True, u'code': u\"%%capture\\n\\n\\n# DC = Parallel(n_jobs=num_core...ection_names(include_system_collections=False)\\n\", u'silent': False, u'stop_on_error': True, u'store_history': True, u'user_expressions': {}}, 'header': {'date': '2016-07-24T23:20:40.832641', u'msg_id': u'474C24EDAADF4D128EC5EB349963D9AB', u'msg_type': u'execute_request', u'session': u'4DBDA6F9C6F6427F99609995E90B9D9B', u'username': u'username', u'version': u'5.0'}, 'metadata': {}, 'msg_id': u'474C24EDAADF4D128EC5EB349963D9AB', 'msg_type': u'execute_request', 'parent_header': {}}\n    229             except Exception:\n    230                 self.log.error(\"Exception in message handler:\", exc_info=True)\n    231             finally:\n    232                 self.post_handler_hook()\n\n...........................................................................\n/Users/MotherBox/anaconda/lib/python2.7/site-packages/ipykernel/kernelbase.py in execute_request(self=<ipykernel.ipkernel.IPythonKernel object>, stream=<zmq.eventloop.zmqstream.ZMQStream object>, ident=['4DBDA6F9C6F6427F99609995E90B9D9B'], parent={'buffers': [], 'content': {u'allow_stdin': True, u'code': u\"%%capture\\n\\n\\n# DC = Parallel(n_jobs=num_core...ection_names(include_system_collections=False)\\n\", u'silent': False, u'stop_on_error': True, u'store_history': True, u'user_expressions': {}}, 'header': {'date': '2016-07-24T23:20:40.832641', u'msg_id': u'474C24EDAADF4D128EC5EB349963D9AB', u'msg_type': u'execute_request', u'session': u'4DBDA6F9C6F6427F99609995E90B9D9B', u'username': u'username', u'version': u'5.0'}, 'metadata': {}, 'msg_id': u'474C24EDAADF4D128EC5EB349963D9AB', 'msg_type': u'execute_request', 'parent_header': {}})\n    386         if not silent:\n    387             self.execution_count += 1\n    388             self._publish_execute_input(code, parent, self.execution_count)\n    389 \n    390         reply_content = self.do_execute(code, silent, store_history,\n--> 391                                         user_expressions, allow_stdin)\n        user_expressions = {}\n        allow_stdin = True\n    392 \n    393         # Flush output before sending the reply.\n    394         sys.stdout.flush()\n    395         sys.stderr.flush()\n\n...........................................................................\n/Users/MotherBox/anaconda/lib/python2.7/site-packages/ipykernel/ipkernel.py in do_execute(self=<ipykernel.ipkernel.IPythonKernel object>, code=u\"%%capture\\n\\n\\n# DC = Parallel(n_jobs=num_core...ection_names(include_system_collections=False)\\n\", silent=False, store_history=True, user_expressions={}, allow_stdin=True)\n    194 \n    195         reply_content = {}\n    196         # FIXME: the shell calls the exception handler itself.\n    197         shell._reply_content = None\n    198         try:\n--> 199             shell.run_cell(code, store_history=store_history, silent=silent)\n        shell.run_cell = <bound method ZMQInteractiveShell.run_cell of <ipykernel.zmqshell.ZMQInteractiveShell object>>\n        code = u\"%%capture\\n\\n\\n# DC = Parallel(n_jobs=num_core...ection_names(include_system_collections=False)\\n\"\n        store_history = True\n        silent = False\n    200         except:\n    201             status = u'error'\n    202             # FIXME: this code right now isn't being used yet by default,\n    203             # because the run_cell() call above directly fires off exception\n\n...........................................................................\n/Users/MotherBox/anaconda/lib/python2.7/site-packages/IPython/core/interactiveshell.py in run_cell(self=<ipykernel.zmqshell.ZMQInteractiveShell object>, raw_cell=u\"%%capture\\n\\n\\n# DC = Parallel(n_jobs=num_core...ection_names(include_system_collections=False)\\n\", store_history=True, silent=False, shell_futures=True)\n   2718                 self.displayhook.exec_result = result\n   2719 \n   2720                 # Execute the user code\n   2721                 interactivity = \"none\" if silent else self.ast_node_interactivity\n   2722                 self.run_ast_nodes(code_ast.body, cell_name,\n-> 2723                    interactivity=interactivity, compiler=compiler, result=result)\n        interactivity = 'last_expr'\n        compiler = <IPython.core.compilerop.CachingCompiler instance>\n   2724 \n   2725                 # Reset this so later displayed values do not modify the\n   2726                 # ExecutionResult\n   2727                 self.displayhook.exec_result = None\n\n...........................................................................\n/Users/MotherBox/anaconda/lib/python2.7/site-packages/IPython/core/interactiveshell.py in run_ast_nodes(self=<ipykernel.zmqshell.ZMQInteractiveShell object>, nodelist=[<_ast.Expr object>], cell_name='<ipython-input-10-de8cbd5ca6cb>', interactivity='last', compiler=<IPython.core.compilerop.CachingCompiler instance>, result=<IPython.core.interactiveshell.ExecutionResult object>)\n   2826                     return True\n   2827 \n   2828             for i, node in enumerate(to_run_interactive):\n   2829                 mod = ast.Interactive([node])\n   2830                 code = compiler(mod, cell_name, \"single\")\n-> 2831                 if self.run_code(code, result):\n        self.run_code = <bound method ZMQInteractiveShell.run_code of <ipykernel.zmqshell.ZMQInteractiveShell object>>\n        code = <code object <module> at 0x109168f30, file \"<ipython-input-10-de8cbd5ca6cb>\", line 1>\n        result = <IPython.core.interactiveshell.ExecutionResult object>\n   2832                     return True\n   2833 \n   2834             # Flush softspace\n   2835             if softspace(sys.stdout, 0):\n\n...........................................................................\n/Users/MotherBox/anaconda/lib/python2.7/site-packages/IPython/core/interactiveshell.py in run_code(self=<ipykernel.zmqshell.ZMQInteractiveShell object>, code_obj=<code object <module> at 0x109168f30, file \"<ipython-input-10-de8cbd5ca6cb>\", line 1>, result=<IPython.core.interactiveshell.ExecutionResult object>)\n   2880         outflag = 1  # happens in more places, so it's easier as default\n   2881         try:\n   2882             try:\n   2883                 self.hooks.pre_run_code_hook()\n   2884                 #rprint('Running code', repr(code_obj)) # dbg\n-> 2885                 exec(code_obj, self.user_global_ns, self.user_ns)\n        code_obj = <code object <module> at 0x109168f30, file \"<ipython-input-10-de8cbd5ca6cb>\", line 1>\n        self.user_global_ns = {'Dc': ['superman', 'superman2', 'superman3', 'supergirl', 'superman4', 'batman', 'batmanreturns', 'batmanmaskofthephantasm', 'batmanforever', 'batmanrobin', 'steel', 'catwoman', 'constantine', 'batmanbegins', 'vforvendetta', 'superman06', 'darkknight', 'watchmen', 'losers', 'jonahhex', ...], 'Dc_titles': ['Superman', 'Superman II', 'Superman III', 'Supergirl', 'Superman IV: The Quest for Peace', 'Batman', 'Batman Returns', 'Batman: Mask of the Phantasm', 'Batman Forever', 'Batman Robin', 'Steel', 'Catwoman', 'Constantine', 'Batman Begins', 'V for Vendetta', 'Superman Returns', 'The Dark Knight', 'Watchmen', 'The Losers', 'Jonah Hex', ...], 'In': ['', u\"##### BOM_insert_id = ObjectId('5782d79705f6a3...llection_names(include_system_collections=False)\", u'db.box_office_mojo.drop()\\ndb.omdb_critics.dro...llection_names(include_system_collections=False)', u'mongo = db.box_office_mojo', u'Marvel_titles  = [ \\n                   \"Howar...four15\", \"deadpool2016\",\\n         \"marvel2016\"]', u'\\n\\nDc_titles = [\"Superman\",\"Superman II\",\\n  ...   \"superman2012\",\"red2\",\\n      \"superman2015\"]', u'Others_titles = [\\n\"2 Guns\",\\n\"30 Days of Nigh...iteout\",\\n\"x-filesfightthefuture\",\\n\"xfiles2\"\\n]', u'len(Others_titles)', u'len(Others)', u'def getMovieData(name):\\n    \\n    import json...n            \\n    return Features\\n            ', u'get_ipython().run_cell_magic(u\\'capture\\', u\\'...ection_names(include_system_collections=False)\")'], 'Marvel': ['howardtheduck', 'blade', 'xmen', 'blade2', 'spiderman', 'daredevil', 'x2', 'hulk', 'punisher', 'spiderman2', 'blade3', 'elektra', 'fantasticfour', 'x3', 'ghostrider', 'spiderman3', 'fantasticfour2', 'ironman', 'incrediblehulk', 'punisher2', ...], 'Marvel_titles': ['Howard The Duck', 'Blade', 'X-Men', 'Blade II', 'Spider-Man', 'Daredevil', 'X2: X-Men United', 'Hulk', 'The Punisher', 'Spider-Man 2', 'Blade: Trinity', 'Elektra', 'Fantastic Four(2005)', 'X-Men: The Last Stand', 'Ghost Rider', 'Spider-Man 3', 'Fantastic Four: Rise of the Silver Surfer', 'Iron Man', 'The Incredible Hulk', 'Punisher: War Zone', ...], 'MongoClient': <class 'pymongo.mongo_client.MongoClient'>, 'Others': ['2guns', '30daysofnight', '300', '300sequel', 'avp', 'avp2', 'americansplendor', 'bulletproofmonk', 'casper', 'cowboysandaliens', 'crow', 'diaryofateenagegirl', 'fromhell', 'ghostworld', 'hellboy', 'hellboy2', 'hercules2014', 'historyofviolence', 'ifrankenstein', 'josieandthepussycats', ...], 'Others_titles': ['2 Guns', '30 Days of Night', '300', '300: Rise of an Empire', 'Alien vs. Predator', 'Alien vs. Predator Requiem', 'American Splendor', 'Bulletproof Monk', 'Casper', 'Cowboys & Aliens', 'The Crow', 'The Diary of a Teenage Girl', 'From Hell', 'Ghost world', 'Hellboy', 'Hellboy II: The Golden Army', 'Hercules', 'A history of violence', 'I, Frankenstein', 'Josie and the Pussycats', ...], 'Out': {1: [], 2: [], 7: 56, 8: 56}, 'Parallel': <class 'joblib.parallel.Parallel'>, ...}\n        self.user_ns = {'Dc': ['superman', 'superman2', 'superman3', 'supergirl', 'superman4', 'batman', 'batmanreturns', 'batmanmaskofthephantasm', 'batmanforever', 'batmanrobin', 'steel', 'catwoman', 'constantine', 'batmanbegins', 'vforvendetta', 'superman06', 'darkknight', 'watchmen', 'losers', 'jonahhex', ...], 'Dc_titles': ['Superman', 'Superman II', 'Superman III', 'Supergirl', 'Superman IV: The Quest for Peace', 'Batman', 'Batman Returns', 'Batman: Mask of the Phantasm', 'Batman Forever', 'Batman Robin', 'Steel', 'Catwoman', 'Constantine', 'Batman Begins', 'V for Vendetta', 'Superman Returns', 'The Dark Knight', 'Watchmen', 'The Losers', 'Jonah Hex', ...], 'In': ['', u\"##### BOM_insert_id = ObjectId('5782d79705f6a3...llection_names(include_system_collections=False)\", u'db.box_office_mojo.drop()\\ndb.omdb_critics.dro...llection_names(include_system_collections=False)', u'mongo = db.box_office_mojo', u'Marvel_titles  = [ \\n                   \"Howar...four15\", \"deadpool2016\",\\n         \"marvel2016\"]', u'\\n\\nDc_titles = [\"Superman\",\"Superman II\",\\n  ...   \"superman2012\",\"red2\",\\n      \"superman2015\"]', u'Others_titles = [\\n\"2 Guns\",\\n\"30 Days of Nigh...iteout\",\\n\"x-filesfightthefuture\",\\n\"xfiles2\"\\n]', u'len(Others_titles)', u'len(Others)', u'def getMovieData(name):\\n    \\n    import json...n            \\n    return Features\\n            ', u'get_ipython().run_cell_magic(u\\'capture\\', u\\'...ection_names(include_system_collections=False)\")'], 'Marvel': ['howardtheduck', 'blade', 'xmen', 'blade2', 'spiderman', 'daredevil', 'x2', 'hulk', 'punisher', 'spiderman2', 'blade3', 'elektra', 'fantasticfour', 'x3', 'ghostrider', 'spiderman3', 'fantasticfour2', 'ironman', 'incrediblehulk', 'punisher2', ...], 'Marvel_titles': ['Howard The Duck', 'Blade', 'X-Men', 'Blade II', 'Spider-Man', 'Daredevil', 'X2: X-Men United', 'Hulk', 'The Punisher', 'Spider-Man 2', 'Blade: Trinity', 'Elektra', 'Fantastic Four(2005)', 'X-Men: The Last Stand', 'Ghost Rider', 'Spider-Man 3', 'Fantastic Four: Rise of the Silver Surfer', 'Iron Man', 'The Incredible Hulk', 'Punisher: War Zone', ...], 'MongoClient': <class 'pymongo.mongo_client.MongoClient'>, 'Others': ['2guns', '30daysofnight', '300', '300sequel', 'avp', 'avp2', 'americansplendor', 'bulletproofmonk', 'casper', 'cowboysandaliens', 'crow', 'diaryofateenagegirl', 'fromhell', 'ghostworld', 'hellboy', 'hellboy2', 'hercules2014', 'historyofviolence', 'ifrankenstein', 'josieandthepussycats', ...], 'Others_titles': ['2 Guns', '30 Days of Night', '300', '300: Rise of an Empire', 'Alien vs. Predator', 'Alien vs. Predator Requiem', 'American Splendor', 'Bulletproof Monk', 'Casper', 'Cowboys & Aliens', 'The Crow', 'The Diary of a Teenage Girl', 'From Hell', 'Ghost world', 'Hellboy', 'Hellboy II: The Golden Army', 'Hercules', 'A history of violence', 'I, Frankenstein', 'Josie and the Pussycats', ...], 'Out': {1: [], 2: [], 7: 56, 8: 56}, 'Parallel': <class 'joblib.parallel.Parallel'>, ...}\n   2886             finally:\n   2887                 # Reset our crash handler in place\n   2888                 sys.excepthook = old_excepthook\n   2889         except SystemExit as e:\n\n...........................................................................\n/Users/MotherBox/Documents/GitHub/CBM/Pyton/<ipython-input-10-de8cbd5ca6cb> in <module>()\n----> 1 \n      2 \n      3 \n      4 \n      5 \n      6 get_ipython().run_cell_magic(u'capture', u'', u\"\\n\\n# DC = Parallel(n_jobs=num_cores)(delayed(getMovieData)(name) for name in Dc)\\n# MARVEL = Parallel(n_jobs=num_cores)(delayed(getMovieData)(name) for name in Marvel)\\nOTHERS = Parallel(n_jobs=num_cores)(delayed(getMovieData)(name) for name in Others)\\n\\n# M = {}\\n# D = {}\\n# O = {}\\n\\n# for k in range(len(MARVEL)):\\n#     M[Marvel_titles[k]]= MARVEL[k]\\n    \\n# for k in range(len(DC)):\\n#     D[Dc_titles[k]]= DC[k]\\n    \\n# for k in range(len(OTHERS)):\\n#     O[Others_titles[k]]= OTHERS[k]\\n\\n    \\n# Data = {}\\n# Data['Marvel'] = M\\n# Data['DC'] = D\\n# Data['Others'] = O\\n\\n# del M\\n# del D\\n# del O\\n# del Marvel_titles\\n# del Dc_titles\\n# del Others_titles\\n\\n\\n\\n# BOM_insert_id = mongo.insert_one(Data).inserted_id\\n# db.collection_names(include_system_collections=False)\")\n      7 \n      8 \n      9 \n     10 \n\n...........................................................................\n/Users/MotherBox/anaconda/lib/python2.7/site-packages/IPython/core/interactiveshell.py in run_cell_magic(self=<ipykernel.zmqshell.ZMQInteractiveShell object>, magic_name=u'capture', line=u'', cell=u\"\\n\\n# DC = Parallel(n_jobs=num_cores)(delayed(...llection_names(include_system_collections=False)\")\n   2115             # This will need to be updated if the internal calling logic gets\n   2116             # refactored, or else we'll be expanding the wrong variables.\n   2117             stack_depth = 2\n   2118             magic_arg_s = self.var_expand(line, stack_depth)\n   2119             with self.builtin_trap:\n-> 2120                 result = fn(magic_arg_s, cell)\n        result = undefined\n        fn = <bound method ExecutionMagics.capture of <IPython.core.magics.execution.ExecutionMagics object>>\n        magic_arg_s = u''\n        cell = u\"\\n\\n# DC = Parallel(n_jobs=num_cores)(delayed(...llection_names(include_system_collections=False)\"\n   2121             return result\n   2122 \n   2123     def find_line_magic(self, magic_name):\n   2124         \"\"\"Find and return a line magic by name.\n\n...........................................................................\n/Users/MotherBox/Documents/GitHub/CBM/Pyton/<decorator-gen-62> in capture(self=<IPython.core.magics.execution.ExecutionMagics object>, line=u'', cell=u\"\\n\\n# DC = Parallel(n_jobs=num_cores)(delayed(...llection_names(include_system_collections=False)\")\n      1 \n----> 2 \n      3 \n      4 \n      5 \n      6 \n      7 \n      8 \n      9 \n     10 \n\n...........................................................................\n/Users/MotherBox/anaconda/lib/python2.7/site-packages/IPython/core/magic.py in <lambda>(f=<function capture>, *a=(<IPython.core.magics.execution.ExecutionMagics object>, u'', u\"\\n\\n# DC = Parallel(n_jobs=num_cores)(delayed(...llection_names(include_system_collections=False)\"), **k={})\n    188     validate_type(magic_kind)\n    189 \n    190     # This is a closure to capture the magic_kind.  We could also use a class,\n    191     # but it's overkill for just that one bit of state.\n    192     def magic_deco(arg):\n--> 193         call = lambda f, *a, **k: f(*a, **k)\n        f = <function capture>\n        a = (<IPython.core.magics.execution.ExecutionMagics object>, u'', u\"\\n\\n# DC = Parallel(n_jobs=num_cores)(delayed(...llection_names(include_system_collections=False)\")\n        k = {}\n    194 \n    195         if callable(arg):\n    196             # \"Naked\" decorator call (just @foo, no args)\n    197             func = arg\n\n...........................................................................\n/Users/MotherBox/anaconda/lib/python2.7/site-packages/IPython/core/magics/execution.py in capture(self=<IPython.core.magics.execution.ExecutionMagics object>, line=u'', cell=u\"\\n\\n# DC = Parallel(n_jobs=num_cores)(delayed(...llection_names(include_system_collections=False)\")\n   1307         args = magic_arguments.parse_argstring(self.capture, line)\n   1308         out = not args.no_stdout\n   1309         err = not args.no_stderr\n   1310         disp = not args.no_display\n   1311         with capture_output(out, err, disp) as io:\n-> 1312             self.shell.run_cell(cell)\n        self.shell.run_cell = <bound method ZMQInteractiveShell.run_cell of <ipykernel.zmqshell.ZMQInteractiveShell object>>\n        cell = u\"\\n\\n# DC = Parallel(n_jobs=num_cores)(delayed(...llection_names(include_system_collections=False)\"\n   1313         if args.output:\n   1314             self.shell.user_ns[args.output] = io\n   1315 \n   1316 def parse_breakpoint(text, current_file):\n\n...........................................................................\n/Users/MotherBox/anaconda/lib/python2.7/site-packages/IPython/core/interactiveshell.py in run_cell(self=<ipykernel.zmqshell.ZMQInteractiveShell object>, raw_cell=u\"\\n\\n# DC = Parallel(n_jobs=num_cores)(delayed(...llection_names(include_system_collections=False)\", store_history=False, silent=False, shell_futures=True)\n   2718                 self.displayhook.exec_result = result\n   2719 \n   2720                 # Execute the user code\n   2721                 interactivity = \"none\" if silent else self.ast_node_interactivity\n   2722                 self.run_ast_nodes(code_ast.body, cell_name,\n-> 2723                    interactivity=interactivity, compiler=compiler, result=result)\n        interactivity = 'last_expr'\n        compiler = <IPython.core.compilerop.CachingCompiler instance>\n   2724 \n   2725                 # Reset this so later displayed values do not modify the\n   2726                 # ExecutionResult\n   2727                 self.displayhook.exec_result = None\n\n...........................................................................\n/Users/MotherBox/anaconda/lib/python2.7/site-packages/IPython/core/interactiveshell.py in run_ast_nodes(self=<ipykernel.zmqshell.ZMQInteractiveShell object>, nodelist=[<_ast.Assign object>], cell_name='<ipython-input-10-2eeb017b2122>', interactivity='none', compiler=<IPython.core.compilerop.CachingCompiler instance>, result=<IPython.core.interactiveshell.ExecutionResult object>)\n   2820 \n   2821         try:\n   2822             for i, node in enumerate(to_run_exec):\n   2823                 mod = ast.Module([node])\n   2824                 code = compiler(mod, cell_name, \"exec\")\n-> 2825                 if self.run_code(code, result):\n        self.run_code = <bound method ZMQInteractiveShell.run_code of <ipykernel.zmqshell.ZMQInteractiveShell object>>\n        code = <code object <module> at 0x1091b01b0, file \"<ipython-input-10-2eeb017b2122>\", line 5>\n        result = <IPython.core.interactiveshell.ExecutionResult object>\n   2826                     return True\n   2827 \n   2828             for i, node in enumerate(to_run_interactive):\n   2829                 mod = ast.Interactive([node])\n\n...........................................................................\n/Users/MotherBox/anaconda/lib/python2.7/site-packages/IPython/core/interactiveshell.py in run_code(self=<ipykernel.zmqshell.ZMQInteractiveShell object>, code_obj=<code object <module> at 0x1091b01b0, file \"<ipython-input-10-2eeb017b2122>\", line 5>, result=<IPython.core.interactiveshell.ExecutionResult object>)\n   2880         outflag = 1  # happens in more places, so it's easier as default\n   2881         try:\n   2882             try:\n   2883                 self.hooks.pre_run_code_hook()\n   2884                 #rprint('Running code', repr(code_obj)) # dbg\n-> 2885                 exec(code_obj, self.user_global_ns, self.user_ns)\n        code_obj = <code object <module> at 0x1091b01b0, file \"<ipython-input-10-2eeb017b2122>\", line 5>\n        self.user_global_ns = {'Dc': ['superman', 'superman2', 'superman3', 'supergirl', 'superman4', 'batman', 'batmanreturns', 'batmanmaskofthephantasm', 'batmanforever', 'batmanrobin', 'steel', 'catwoman', 'constantine', 'batmanbegins', 'vforvendetta', 'superman06', 'darkknight', 'watchmen', 'losers', 'jonahhex', ...], 'Dc_titles': ['Superman', 'Superman II', 'Superman III', 'Supergirl', 'Superman IV: The Quest for Peace', 'Batman', 'Batman Returns', 'Batman: Mask of the Phantasm', 'Batman Forever', 'Batman Robin', 'Steel', 'Catwoman', 'Constantine', 'Batman Begins', 'V for Vendetta', 'Superman Returns', 'The Dark Knight', 'Watchmen', 'The Losers', 'Jonah Hex', ...], 'In': ['', u\"##### BOM_insert_id = ObjectId('5782d79705f6a3...llection_names(include_system_collections=False)\", u'db.box_office_mojo.drop()\\ndb.omdb_critics.dro...llection_names(include_system_collections=False)', u'mongo = db.box_office_mojo', u'Marvel_titles  = [ \\n                   \"Howar...four15\", \"deadpool2016\",\\n         \"marvel2016\"]', u'\\n\\nDc_titles = [\"Superman\",\"Superman II\",\\n  ...   \"superman2012\",\"red2\",\\n      \"superman2015\"]', u'Others_titles = [\\n\"2 Guns\",\\n\"30 Days of Nigh...iteout\",\\n\"x-filesfightthefuture\",\\n\"xfiles2\"\\n]', u'len(Others_titles)', u'len(Others)', u'def getMovieData(name):\\n    \\n    import json...n            \\n    return Features\\n            ', u'get_ipython().run_cell_magic(u\\'capture\\', u\\'...ection_names(include_system_collections=False)\")'], 'Marvel': ['howardtheduck', 'blade', 'xmen', 'blade2', 'spiderman', 'daredevil', 'x2', 'hulk', 'punisher', 'spiderman2', 'blade3', 'elektra', 'fantasticfour', 'x3', 'ghostrider', 'spiderman3', 'fantasticfour2', 'ironman', 'incrediblehulk', 'punisher2', ...], 'Marvel_titles': ['Howard The Duck', 'Blade', 'X-Men', 'Blade II', 'Spider-Man', 'Daredevil', 'X2: X-Men United', 'Hulk', 'The Punisher', 'Spider-Man 2', 'Blade: Trinity', 'Elektra', 'Fantastic Four(2005)', 'X-Men: The Last Stand', 'Ghost Rider', 'Spider-Man 3', 'Fantastic Four: Rise of the Silver Surfer', 'Iron Man', 'The Incredible Hulk', 'Punisher: War Zone', ...], 'MongoClient': <class 'pymongo.mongo_client.MongoClient'>, 'Others': ['2guns', '30daysofnight', '300', '300sequel', 'avp', 'avp2', 'americansplendor', 'bulletproofmonk', 'casper', 'cowboysandaliens', 'crow', 'diaryofateenagegirl', 'fromhell', 'ghostworld', 'hellboy', 'hellboy2', 'hercules2014', 'historyofviolence', 'ifrankenstein', 'josieandthepussycats', ...], 'Others_titles': ['2 Guns', '30 Days of Night', '300', '300: Rise of an Empire', 'Alien vs. Predator', 'Alien vs. Predator Requiem', 'American Splendor', 'Bulletproof Monk', 'Casper', 'Cowboys & Aliens', 'The Crow', 'The Diary of a Teenage Girl', 'From Hell', 'Ghost world', 'Hellboy', 'Hellboy II: The Golden Army', 'Hercules', 'A history of violence', 'I, Frankenstein', 'Josie and the Pussycats', ...], 'Out': {1: [], 2: [], 7: 56, 8: 56}, 'Parallel': <class 'joblib.parallel.Parallel'>, ...}\n        self.user_ns = {'Dc': ['superman', 'superman2', 'superman3', 'supergirl', 'superman4', 'batman', 'batmanreturns', 'batmanmaskofthephantasm', 'batmanforever', 'batmanrobin', 'steel', 'catwoman', 'constantine', 'batmanbegins', 'vforvendetta', 'superman06', 'darkknight', 'watchmen', 'losers', 'jonahhex', ...], 'Dc_titles': ['Superman', 'Superman II', 'Superman III', 'Supergirl', 'Superman IV: The Quest for Peace', 'Batman', 'Batman Returns', 'Batman: Mask of the Phantasm', 'Batman Forever', 'Batman Robin', 'Steel', 'Catwoman', 'Constantine', 'Batman Begins', 'V for Vendetta', 'Superman Returns', 'The Dark Knight', 'Watchmen', 'The Losers', 'Jonah Hex', ...], 'In': ['', u\"##### BOM_insert_id = ObjectId('5782d79705f6a3...llection_names(include_system_collections=False)\", u'db.box_office_mojo.drop()\\ndb.omdb_critics.dro...llection_names(include_system_collections=False)', u'mongo = db.box_office_mojo', u'Marvel_titles  = [ \\n                   \"Howar...four15\", \"deadpool2016\",\\n         \"marvel2016\"]', u'\\n\\nDc_titles = [\"Superman\",\"Superman II\",\\n  ...   \"superman2012\",\"red2\",\\n      \"superman2015\"]', u'Others_titles = [\\n\"2 Guns\",\\n\"30 Days of Nigh...iteout\",\\n\"x-filesfightthefuture\",\\n\"xfiles2\"\\n]', u'len(Others_titles)', u'len(Others)', u'def getMovieData(name):\\n    \\n    import json...n            \\n    return Features\\n            ', u'get_ipython().run_cell_magic(u\\'capture\\', u\\'...ection_names(include_system_collections=False)\")'], 'Marvel': ['howardtheduck', 'blade', 'xmen', 'blade2', 'spiderman', 'daredevil', 'x2', 'hulk', 'punisher', 'spiderman2', 'blade3', 'elektra', 'fantasticfour', 'x3', 'ghostrider', 'spiderman3', 'fantasticfour2', 'ironman', 'incrediblehulk', 'punisher2', ...], 'Marvel_titles': ['Howard The Duck', 'Blade', 'X-Men', 'Blade II', 'Spider-Man', 'Daredevil', 'X2: X-Men United', 'Hulk', 'The Punisher', 'Spider-Man 2', 'Blade: Trinity', 'Elektra', 'Fantastic Four(2005)', 'X-Men: The Last Stand', 'Ghost Rider', 'Spider-Man 3', 'Fantastic Four: Rise of the Silver Surfer', 'Iron Man', 'The Incredible Hulk', 'Punisher: War Zone', ...], 'MongoClient': <class 'pymongo.mongo_client.MongoClient'>, 'Others': ['2guns', '30daysofnight', '300', '300sequel', 'avp', 'avp2', 'americansplendor', 'bulletproofmonk', 'casper', 'cowboysandaliens', 'crow', 'diaryofateenagegirl', 'fromhell', 'ghostworld', 'hellboy', 'hellboy2', 'hercules2014', 'historyofviolence', 'ifrankenstein', 'josieandthepussycats', ...], 'Others_titles': ['2 Guns', '30 Days of Night', '300', '300: Rise of an Empire', 'Alien vs. Predator', 'Alien vs. Predator Requiem', 'American Splendor', 'Bulletproof Monk', 'Casper', 'Cowboys & Aliens', 'The Crow', 'The Diary of a Teenage Girl', 'From Hell', 'Ghost world', 'Hellboy', 'Hellboy II: The Golden Army', 'Hercules', 'A history of violence', 'I, Frankenstein', 'Josie and the Pussycats', ...], 'Out': {1: [], 2: [], 7: 56, 8: 56}, 'Parallel': <class 'joblib.parallel.Parallel'>, ...}\n   2886             finally:\n   2887                 # Reset our crash handler in place\n   2888                 sys.excepthook = old_excepthook\n   2889         except SystemExit as e:\n\n...........................................................................\n/Users/MotherBox/Documents/GitHub/CBM/Pyton/<ipython-input-10-2eeb017b2122> in <module>()\n      1 \n      2 \n      3 \n      4 # DC = Parallel(n_jobs=num_cores)(delayed(getMovieData)(name) for name in Dc)\n----> 5 # MARVEL = Parallel(n_jobs=num_cores)(delayed(getMovieData)(name) for name in Marvel)\n      6 OTHERS = Parallel(n_jobs=num_cores)(delayed(getMovieData)(name) for name in Others)\n      7 \n      8 # M = {}\n      9 # D = {}\n     10 # O = {}\n     11 \n\n...........................................................................\n/Users/MotherBox/anaconda/lib/python2.7/site-packages/joblib/parallel.py in __call__(self=Parallel(n_jobs=4), iterable=<generator object <genexpr>>)\n    805             if pre_dispatch == \"all\" or n_jobs == 1:\n    806                 # The iterable was consumed all at once by the above for loop.\n    807                 # No need to wait for async callbacks to trigger to\n    808                 # consumption.\n    809                 self._iterating = False\n--> 810             self.retrieve()\n        self.retrieve = <bound method Parallel.retrieve of Parallel(n_jobs=4)>\n    811             # Make sure that we get a last message telling us we are done\n    812             elapsed_time = time.time() - self._start_time\n    813             self._print('Done %3i out of %3i | elapsed: %s finished',\n    814                         (len(self._output), len(self._output),\n\n---------------------------------------------------------------------------\nSub-process traceback:\n---------------------------------------------------------------------------\nIndexError                                         Sun Jul 24 23:27:25 2016\nPID: 8527               Python 2.7.11: /Users/MotherBox/anaconda/bin/python\n...........................................................................\n/Users/MotherBox/anaconda/lib/python2.7/site-packages/joblib/parallel.py in __call__(self=<joblib.parallel.BatchedCalls object>)\n     67     def __init__(self, iterator_slice):\n     68         self.items = list(iterator_slice)\n     69         self._size = len(self.items)\n     70 \n     71     def __call__(self):\n---> 72         return [func(*args, **kwargs) for func, args, kwargs in self.items]\n        func = <function getMovieData>\n        args = ('ifrankenstein',)\n        kwargs = {}\n        self.items = [(<function getMovieData>, ('ifrankenstein',), {})]\n     73 \n     74     def __len__(self):\n     75         return self._size\n     76 \n\n...........................................................................\n/Users/MotherBox/Documents/GitHub/CBM/Pyton/<ipython-input-9-5c069d97a9fe> in getMovieData(name='ifrankenstein')\n      3     import json\n      4     import boxofficemojoAPI as bom\n      5    \n      6     \n      7     bo = bom.BoxOfficeMojo()\n----> 8     bo.crawl_for_urls()\n      9     data1 = bo.get_movie_summary(name)\n     10     data1.clean_data()\n     11     data1 = json.loads(data1.to_json())\n     12     \n\n...........................................................................\n/Users/MotherBox/Documents/GitHub/CBM/Pyton/boxofficemojoAPI/boxofficemojo.py in crawl_for_urls(self=<boxofficemojoAPI.boxofficemojo.BoxOfficeMojo object>)\n     71                 r = requests.get(new_url)\n     72                 if r.status_code != 200:\n     73                     print \"HTTP Status code returned:\", r.status_code\n     74                 soup = bs4.BeautifulSoup(r.content)\n     75                 self.clean_html(soup)\n---> 76                 self.find_urls_in_html(soup)\n        self.find_urls_in_html = <bound method BoxOfficeMojo.find_urls_in_html of...fficemojoAPI.boxofficemojo.BoxOfficeMojo object>>\n        soup = <html>\\n<head>\\n<title>Updates in Progress</titl...st a few minutes.</p>\\n</div>\\n</body>\\n</html>\\n\n     77 \n     78     @utils.catch_connection_error\n     79     def get_movie_summary(self, url_or_id):\n     80         if 'http' in url_or_id.lower():\n\n...........................................................................\n/Users/MotherBox/Documents/GitHub/CBM/Pyton/boxofficemojoAPI/boxofficemojo.py in find_urls_in_html(self=<boxofficemojoAPI.boxofficemojo.BoxOfficeMojo object>, soup=<html>\\n<head>\\n<title>Updates in Progress</titl...st a few minutes.</p>\\n</div>\\n</body>\\n</html>\\n)\n     38 \n     39     def find_urls_in_html(self, soup):\n     40         \"\"\"Adds all the specific movie urls to the movie_urls dictionary\"\"\"\n     41         urls = soup.findAll(href=re.compile(\"id=\"))\n     42         # First URL is an ad for a movie so get rid of it\n---> 43         del(urls[0])\n        urls = []\n     44 \n     45         self.total_movies += len(urls)\n     46         for url in urls:\n     47             movie_name = url.renderContents()\n\nIndexError: list assignment index out of range\n___________________________________________________________________________"
     ]
    }
   ],
   "source": [
    "%%capture\n",
    "\n",
    "\n",
    "# DC = Parallel(n_jobs=num_cores)(delayed(getMovieData)(name) for name in Dc)\n",
    "# MARVEL = Parallel(n_jobs=num_cores)(delayed(getMovieData)(name) for name in Marvel)\n",
    "OTHERS = Parallel(n_jobs=num_cores)(delayed(getMovieData)(name) for name in Others)\n",
    "\n",
    "# M = {}\n",
    "# D = {}\n",
    "# O = {}\n",
    "\n",
    "# for k in range(len(MARVEL)):\n",
    "#     M[Marvel_titles[k]]= MARVEL[k]\n",
    "    \n",
    "# for k in range(len(DC)):\n",
    "#     D[Dc_titles[k]]= DC[k]\n",
    "    \n",
    "# for k in range(len(OTHERS)):\n",
    "#     O[Others_titles[k]]= OTHERS[k]\n",
    "\n",
    "    \n",
    "# Data = {}\n",
    "# Data['Marvel'] = M\n",
    "# Data['DC'] = D\n",
    "# Data['Others'] = O\n",
    "\n",
    "# del M\n",
    "# del D\n",
    "# del O\n",
    "# del Marvel_titles\n",
    "# del Dc_titles\n",
    "# del Others_titles\n",
    "\n",
    "\n",
    "\n",
    "# BOM_insert_id = mongo.insert_one(Data).inserted_id\n",
    "# db.collection_names(include_system_collections=False)\n"
   ]
  },
  {
   "cell_type": "code",
   "execution_count": 10,
   "metadata": {
    "collapsed": false
   },
   "outputs": [],
   "source": [
    "\n",
    "client.close\n",
    "del Data"
   ]
  },
  {
   "cell_type": "code",
   "execution_count": 11,
   "metadata": {
    "collapsed": false
   },
   "outputs": [
    {
     "data": {
      "text/plain": [
       "ObjectId('5782d79705f6a36f994b1836')"
      ]
     },
     "execution_count": 11,
     "metadata": {},
     "output_type": "execute_result"
    }
   ],
   "source": [
    "BOM_insert_id "
   ]
  },
  {
   "cell_type": "code",
   "execution_count": null,
   "metadata": {
    "collapsed": true
   },
   "outputs": [],
   "source": []
  }
 ],
 "metadata": {
  "kernelspec": {
   "display_name": "Python 2",
   "language": "python",
   "name": "python2"
  },
  "language_info": {
   "codemirror_mode": {
    "name": "ipython",
    "version": 2
   },
   "file_extension": ".py",
   "mimetype": "text/x-python",
   "name": "python",
   "nbconvert_exporter": "python",
   "pygments_lexer": "ipython2",
   "version": "2.7.11"
  }
 },
 "nbformat": 4,
 "nbformat_minor": 0
}
