{
 "cells": [
  {
   "cell_type": "code",
   "execution_count": 2,
   "metadata": {
    "collapsed": false
   },
   "outputs": [
    {
     "data": {
      "text/plain": [
       "[]"
      ]
     },
     "execution_count": 2,
     "metadata": {},
     "output_type": "execute_result"
    }
   ],
   "source": [
    "##### BOM_insert_id = ObjectId('57b26905c54d2d13588d3e5b')\n",
    "\n",
    "import warnings\n",
    "warnings.filterwarnings('ignore')\n",
    "\n",
    "import json\n",
    "import numpy as np\n",
    "\n",
    "from joblib import Parallel, delayed  \n",
    "import multiprocessing\n",
    "num_cores = multiprocessing.cpu_count()\n",
    "\n",
    "import pymongo\n",
    "from pymongo import MongoClient\n",
    "\n",
    "client = MongoClient('localhost', 27017)\n",
    "db = client.dc_marvel\n",
    "db.collection_names(include_system_collections=False)\n",
    "\n",
    "\n"
   ]
  },
  {
   "cell_type": "code",
   "execution_count": 3,
   "metadata": {
    "collapsed": false
   },
   "outputs": [
    {
     "data": {
      "text/plain": [
       "[]"
      ]
     },
     "execution_count": 3,
     "metadata": {},
     "output_type": "execute_result"
    }
   ],
   "source": [
    "db.box_office_mojo.drop()\n",
    "db.omdb_critics.drop()\n",
    "db.collection_names(include_system_collections=False)"
   ]
  },
  {
   "cell_type": "code",
   "execution_count": 3,
   "metadata": {
    "collapsed": true
   },
   "outputs": [],
   "source": [
    "mongo = db.box_office_mojo"
   ]
  },
  {
   "cell_type": "code",
   "execution_count": 4,
   "metadata": {
    "collapsed": false
   },
   "outputs": [],
   "source": [
    "def getMovieData(name):\n",
    "    \n",
    "    import json\n",
    "    import boxofficemojoAPI as bom\n",
    "   \n",
    "    \n",
    "    bo = bom.BoxOfficeMojo()\n",
    "    bo.crawl_for_urls()\n",
    "    data1 = bo.get_movie_summary(name)\n",
    "    data1.clean_data()\n",
    "    data1 = json.loads(data1.to_json())\n",
    "    \n",
    "    data2 = bo.get_weekly_summary(name)\n",
    "    data2.clean_data()\n",
    "    data2 = json.loads(data2.to_json())['weekly']\n",
    "    \n",
    "    Features = dict()\n",
    "    try:\n",
    "        Features['director'] = data1[\"directors\"]\n",
    "    except KeyError:\n",
    "        Features['director'] = None\n",
    "        \n",
    "    try:\n",
    "        Features['distributor'] = data1[\"distributor\"]\n",
    "    except KeyError:\n",
    "        Features['distributor'] = None\n",
    "        \n",
    "    try:\n",
    "        Features['domestic_BO'] = data1[\"domestic\"]\n",
    "    except KeyError:\n",
    "        Features['domestic_BO'] = None\n",
    "    try:\n",
    "        Features['foreign_BO'] = data1[\"foreign\"]\n",
    "    except KeyError:\n",
    "        Features['foreign_BO'] = None\n",
    "    \n",
    "    try:\n",
    "        Features['genre'] = data1[\"genre\"]\n",
    "    except KeyError:\n",
    "        Features['genre'] = None\n",
    "        \n",
    "    try:\n",
    "        Features['rating'] = data1[\"mpaa_rating\"]\n",
    "    except KeyError:\n",
    "         Features['rating'] = None\n",
    "    \n",
    "    try:\n",
    "        Features['budget'] = data1[\"production_budget\"]\n",
    "    except KeyError:\n",
    "        Features['budget'] = None\n",
    "        \n",
    "    try:\n",
    "        Features['runtime'] = data1[\"runtime\"]\n",
    "    except KeyError:\n",
    "        Features['runtime'] = None\n",
    "        \n",
    "    try:\n",
    "        Features['writers'] = data1[\"writers\"]\n",
    "    except KeyError:\n",
    "        Features['writers'] = None\n",
    "        \n",
    "    \n",
    "    starting_week = data2[0]['week_number']\n",
    "    if starting_week == 0:\n",
    "        del data2[0]\n",
    "        \n",
    "    del starting_week\n",
    "\n",
    "    for k in range(min(len(data2), 15)):\n",
    "        if k == 0:\n",
    "            \n",
    "            try:\n",
    "                Features['_'.join(('week', str(k+1),'gross'))] = data2[k]['gross']\n",
    "            except KeyError:\n",
    "                Features['_'.join(('week', str(k+1),'gross'))] = None\n",
    "                \n",
    "            try:\n",
    "                Features['_'.join(('week', str(k+1),'rank'))] = data2[k]['rank']\n",
    "            except KeyError:\n",
    "                Features['_'.join(('week', str(k+1),'rank'))] = None\n",
    "                \n",
    "            try:\n",
    "                Features['_'.join(('week', str(k+1),'avg'))] = data2[k]['average_per_theatre']\n",
    "            except KeyError:\n",
    "                Features['_'.join(('week', str(k+1),'avg'))] = None\n",
    "                \n",
    "        else :\n",
    "\n",
    "            Features['_'.join(('week', str(k+1), 'change'))]= data2[k]['week_over_week_change']\n",
    "            Features['_'.join(('week', str(k+1), 'rank'))]= data2[k]['rank']\n",
    "            Features['_'.join(('week', str(k+1),'avg'))] = data2[k]['average_per_theatre']\n",
    "            \n",
    "    return Features\n",
    "            \n",
    "\n",
    "\n",
    "\n"
   ]
  },
  {
   "cell_type": "code",
   "execution_count": 5,
   "metadata": {
    "collapsed": false
   },
   "outputs": [],
   "source": [
    "Marvel =[\n",
    "       'amazingspiderman2', 'antman', 'avengers11', 'avengers2', 'blade',\n",
    "       'blade2', 'blade3', 'captainamerica', 'daredevil', 'deadpool2016',\n",
    "       'disney2014', 'elektra', 'fantasticfour', 'fantasticfour15',\n",
    "       'fantasticfour2', 'ghostrider', 'ghostrider2', 'howardtheduck',\n",
    "       'hulk', 'incrediblehulk', 'ironman', 'ironman2', 'ironman3',\n",
    "       'marvel14b', 'marvel2014a', 'marvel2016', 'punisher', 'punisher2',\n",
    "       'spiderman', 'spiderman2', 'spiderman3', 'spiderman4', 'thor',\n",
    "       'thor2', 'wolverine', 'wolverine2', 'x-men2016', 'x2', 'x3', 'xmen',\n",
    "       'xmen2014', 'xmenfirstclass'\n",
    "]\n",
    "\n",
    "\n",
    "\n",
    "Marvel_titles =[\n",
    "    \"The Amazing Spider-Man 2\",\n",
    "    \"Ant-Man\",\n",
    "    \"Marvel's The Avengers\",\"Avengers: Age of Ultron\",\n",
    "    \"Blade\",\"Blade II\",\"Blade: Trinity\",\n",
    "    \"Captain America: The First Avenger\",\n",
    "    \"Daredevil\",\n",
    "    \"Deadpool\",\n",
    "    'Big Hero 6',\n",
    "    \"Elektra\",\n",
    "    \"Fantastic Four(2005)\",\"Fantastic Four(2015)\",\"Fantastic Four: Rise of the Silver Surfer\",\n",
    "    \"Ghost Rider\",\"Ghost Rider: Spirit of Vengeance\",\n",
    "    \"Howard The Duck\", \n",
    "    \"Hulk\",\"The Incredible Hulk\",\n",
    "    \"Iron Man\",\"Iron Man 2\",\"Iron Man 3\",\n",
    "    \"Captain America: The Winter Soldier\",\n",
    "    \"Guardians of the Galaxy\",\n",
    "    \"Captain America: Civil War\",\n",
    "    \"The Punisher\",\"Punisher: War Zone\",\n",
    "    \"Spider-Man\",\"Spider-Man 2\",\"Spider-Man 3\",\"The Amazing Spider-Man\",\"The Amazing Spider-Man 2\",\n",
    "    \"Thor\",\"Thor: The Dark World\",\n",
    "    \"X-Men Origins: Wolverine\",\"The Wolverine\",\n",
    "    \"X-Men:Apocalypse\",\"X2: X-Men United\", \"X-Men: The Last Stand\",\n",
    "    \"X-Men\",\"X-Men: Days of Future Past\",\"X-Men: First Class\"\n",
    "]\n",
    "\n"
   ]
  },
  {
   "cell_type": "code",
   "execution_count": 6,
   "metadata": {
    "collapsed": true
   },
   "outputs": [],
   "source": [
    "\n",
    "\n",
    "Dc = [ 'batman', 'batman3', 'batmanbegins', 'batmanforever',\n",
    "       'batmanmaskofthephantasm', 'batmanreturns', 'batmanrobin',\n",
    "       'catwoman', 'constantine', 'darkknight', 'greenlantern', 'jonahhex',\n",
    "       'losers', 'red2', 'red2010', 'steel', 'supergirl', 'superman',\n",
    "       'superman06', 'superman2', 'superman2012', 'superman2015',\n",
    "       'superman3', 'superman4', 'vforvendetta', 'watchmen']\n",
    "\n",
    "\n",
    "Dc_titles =[\n",
    "    \"Batman\",\"The Dark Knight Rises\",\n",
    "    \"Batman Begins\",\"Batman Forever\",\n",
    "    \"Batman: Mask of the Phantasm\",\n",
    "    \"Batman Returns\",\"Batman Robin\", \n",
    "    \"Catwoman\",\n",
    "    \"Constantine\",\n",
    "    \"The Dark Knight\",\n",
    "    \"Green Lantern\",\"Jonah Hex\",\"The Losers\",\n",
    "    \"Red 2\",\"Red\",\n",
    "    \"Steel\",\n",
    "    \"Supergirl\",\n",
    "    \"Superman\",\"Superman Returns\", \"Superman II\",\"Man of Steel\",\n",
    "    \"Batman v Superman: Dawn of Justice\",\"Superman III\",\"Superman IV: The Quest for Peace\", \n",
    "    \"V for Vendetta\", \"Watchmen\"\n",
    "]"
   ]
  },
  {
   "cell_type": "code",
   "execution_count": 7,
   "metadata": {
    "collapsed": false
   },
   "outputs": [],
   "source": [
    "Others_titles = [\n",
    "    \"2 Guns\",\"300\",\"300: Rise of an Empire\",\"30 Days of Night\",\n",
    "    \"American Splendor\",\"Alien vs Predator\",\"Alien vs Predator Requiem\",\n",
    "    \"Black Mask\",\"Buffy the Vampire Slayer\",\n",
    "    \"Bulletproof Monk\",\"Bullet to the Head\",\n",
    "    \"Casper\",\"Chronicle (2012)\",\n",
    "    \"Cowboys & Aliens\",\n",
    "    \"The Crow\",\n",
    "    \"The Crow:City of Angels\",\n",
    "    \"Darkman\",\n",
    "    \"The Diary of a Teenage Girl\", \"Dick Tracy\",\n",
    "    \"Dredd\",\n",
    "    \"From Hell\",\n",
    "    \"Ghost world\",\n",
    "    \"The Green Hornet\",\n",
    "    \"Hancock\",\n",
    "    \"Hellboy\",\n",
    "    \"Hellboy II: The Golden Army\",\n",
    "    \"Hercules\",\n",
    "    \"A history of violence\",\n",
    "    \"I, Frankenstein\",\n",
    "    \"The Incredibles\",\n",
    "    \"Iron Monkey\",\n",
    "    \"Josie and the Pussycats\",\n",
    "    \"Judge Dredd\",\n",
    "    \"Kick-Ass\",\n",
    "    \"Kick-Ass 2\",\n",
    "    \"The League of Extraordinary Gentlemen\",\n",
    "    \"The Mask\",\n",
    "    \"The Mask of Zorro\",\n",
    "    \"Megamind\",\n",
    "    \"Men in Black\",\n",
    "    \"Men in Black II\",\n",
    "    \"Men in Black III\",\n",
    "    \"Monkeybone\",\n",
    "    \"Mystery Men\",\n",
    "    \"Oblivion\",\n",
    "    \"The Phantom\",\n",
    "    \"The Powerpuff Girls Movie\",\n",
    "    \"Mighty Morphin' Power Rangers\",\n",
    "    \"Priest\",\n",
    "    \"Richie Rich\",    \n",
    "    \"RIPD\",\n",
    "    \"Road to Perdition\",\n",
    "    \"The Rocketeer\",\n",
    "    \"Scott Pilgrim vs the World\",\n",
    "    \"Kingsman: The Secret Service\",\n",
    "    \"The Shadow\",\n",
    "    \"Sin City\",\n",
    "    \"Sin City: A Dame to Kill For\",\n",
    "    \"Sky High\",\n",
    "    \"Snowpiercer\",\"Spawn\",\"The Spirit\",\n",
    "    \"Super\",\n",
    "    \"My Super Ex-Girlfriend\",\n",
    "    \"Superhero Movie\",\n",
    "    \"Surrogates\",\n",
    "    \"Tank Girl \",\n",
    "    \"Teenage Mutant Ninja Turtles\",\n",
    "    \"Timecop\",\n",
    "    \"The Adventures of Tintin\",\n",
    "    \"Teenage Mutant Ninja Turtles (2014)\",\n",
    "    \"Teenage Mutant Ninja Turtles: Out of the Shadow\",\n",
    "    \"Teenage Mutant Ninja Turtles III\",\"TMNT\",\n",
    "    \"Teenage Mutant Ninja Turtles II: The Secret of the Ooze\",\n",
    "    \"Virus\",\n",
    "    \"Wanted\",\n",
    "    \"Whiteout\",\n",
    "    \"The X-Files: I Want to Believe\",\n",
    "    \"Zoom\",\n",
    "    \"The Legend of Zorro\"\n",
    "\n",
    "]\n",
    "\n",
    "Others = [\n",
    "       '2guns', '300', '300sequel', '30daysofnight', 'americansplendor',\n",
    "       'avp', 'avp2', 'blackmask', 'buffythevampireslayer',\n",
    "       'bulletproofmonk', 'bullettothehead', 'casper', 'chronicle2012',\n",
    "       'cowboysandaliens', 'crow', 'crowcityofangels', 'darkman',\n",
    "       'diaryofateenagegirl', 'dicktracy', 'dredd', 'fromhell',\n",
    "       'ghostworld', 'greenhornet', 'hancock', 'hellboy', 'hellboy2',\n",
    "       'hercules2014', 'historyofviolence', 'ifrankenstein', 'incredibles',\n",
    "       'ironmonkey', 'josieandthepussycats', 'judgedredd', 'kickass',\n",
    "       'kickass2', 'leagueofextraordinarygentlemen', 'mask', 'maskofzorro',\n",
    "       'mastermind', 'meninblack', 'meninblack2', 'mib3', 'monkeybone',\n",
    "       'mysterymen', 'oblivion', 'phantom', 'powerpuffgirls',\n",
    "       'powerrangers', 'priest07', 'richierich', 'ripd', 'roadtoperdition',\n",
    "       'rocketeer', 'scottpilgrim', 'secretservice', 'shadow', 'sincity',\n",
    "       'sincity2', 'skyhigh', 'snowpiercer', 'spawn', 'spirit09',\n",
    "       'super2011', 'superexgirlfriend', 'superheromovie', 'surrogates',\n",
    "       'tankgirl', 'teenagemutantninjaturtles', 'timecop', 'tintin',\n",
    "       'tmnt2013', 'tmnt2016', 'tmnt3', 'tmntcg', 'tnmt2', 'virus',\n",
    "       'wanted', 'whiteout', 'xfiles2', 'zoom', 'zorro2'\n",
    "]\n"
   ]
  },
  {
   "cell_type": "code",
   "execution_count": 8,
   "metadata": {
    "collapsed": false
   },
   "outputs": [
    {
     "data": {
      "text/plain": [
       "81"
      ]
     },
     "execution_count": 8,
     "metadata": {},
     "output_type": "execute_result"
    }
   ],
   "source": [
    "len(Others)"
   ]
  },
  {
   "cell_type": "code",
   "execution_count": 9,
   "metadata": {
    "collapsed": false
   },
   "outputs": [
    {
     "data": {
      "text/plain": [
       "81"
      ]
     },
     "execution_count": 9,
     "metadata": {},
     "output_type": "execute_result"
    }
   ],
   "source": [
    "len(Others_titles)"
   ]
  },
  {
   "cell_type": "code",
   "execution_count": 10,
   "metadata": {
    "collapsed": false
   },
   "outputs": [
    {
     "ename": "JoblibIndexError",
     "evalue": "JoblibIndexError\n___________________________________________________________________________\nMultiprocessing exception:\n...........................................................................\n/Users/MotherBox/anaconda/lib/python2.7/runpy.py in _run_module_as_main(mod_name='ipykernel.__main__', alter_argv=1)\n    157     pkg_name = mod_name.rpartition('.')[0]\n    158     main_globals = sys.modules[\"__main__\"].__dict__\n    159     if alter_argv:\n    160         sys.argv[0] = fname\n    161     return _run_code(code, main_globals, None,\n--> 162                      \"__main__\", fname, loader, pkg_name)\n        fname = '/Users/MotherBox/anaconda/lib/python2.7/site-packages/ipykernel/__main__.py'\n        loader = <pkgutil.ImpLoader instance>\n        pkg_name = 'ipykernel'\n    163 \n    164 def run_module(mod_name, init_globals=None,\n    165                run_name=None, alter_sys=False):\n    166     \"\"\"Execute a module's code without importing it\n\n...........................................................................\n/Users/MotherBox/anaconda/lib/python2.7/runpy.py in _run_code(code=<code object <module> at 0x1007d8830, file \"/Use...2.7/site-packages/ipykernel/__main__.py\", line 1>, run_globals={'__builtins__': <module '__builtin__' (built-in)>, '__doc__': None, '__file__': '/Users/MotherBox/anaconda/lib/python2.7/site-packages/ipykernel/__main__.py', '__loader__': <pkgutil.ImpLoader instance>, '__name__': '__main__', '__package__': 'ipykernel', 'app': <module 'ipykernel.kernelapp' from '/Users/Mothe...python2.7/site-packages/ipykernel/kernelapp.pyc'>}, init_globals=None, mod_name='__main__', mod_fname='/Users/MotherBox/anaconda/lib/python2.7/site-packages/ipykernel/__main__.py', mod_loader=<pkgutil.ImpLoader instance>, pkg_name='ipykernel')\n     67         run_globals.update(init_globals)\n     68     run_globals.update(__name__ = mod_name,\n     69                        __file__ = mod_fname,\n     70                        __loader__ = mod_loader,\n     71                        __package__ = pkg_name)\n---> 72     exec code in run_globals\n        code = <code object <module> at 0x1007d8830, file \"/Use...2.7/site-packages/ipykernel/__main__.py\", line 1>\n        run_globals = {'__builtins__': <module '__builtin__' (built-in)>, '__doc__': None, '__file__': '/Users/MotherBox/anaconda/lib/python2.7/site-packages/ipykernel/__main__.py', '__loader__': <pkgutil.ImpLoader instance>, '__name__': '__main__', '__package__': 'ipykernel', 'app': <module 'ipykernel.kernelapp' from '/Users/Mothe...python2.7/site-packages/ipykernel/kernelapp.pyc'>}\n     73     return run_globals\n     74 \n     75 def _run_module_code(code, init_globals=None,\n     76                     mod_name=None, mod_fname=None,\n\n...........................................................................\n/Users/MotherBox/anaconda/lib/python2.7/site-packages/ipykernel/__main__.py in <module>()\n      1 \n      2 \n----> 3 \n      4 if __name__ == '__main__':\n      5     from ipykernel import kernelapp as app\n      6     app.launch_new_instance()\n      7 \n      8 \n      9 \n     10 \n\n...........................................................................\n/Users/MotherBox/anaconda/lib/python2.7/site-packages/traitlets/config/application.py in launch_instance(cls=<class 'ipykernel.kernelapp.IPKernelApp'>, argv=None, **kwargs={})\n    591         \n    592         If a global instance already exists, this reinitializes and starts it\n    593         \"\"\"\n    594         app = cls.instance(**kwargs)\n    595         app.initialize(argv)\n--> 596         app.start()\n        app.start = <bound method IPKernelApp.start of <ipykernel.kernelapp.IPKernelApp object>>\n    597 \n    598 #-----------------------------------------------------------------------------\n    599 # utility functions, for convenience\n    600 #-----------------------------------------------------------------------------\n\n...........................................................................\n/Users/MotherBox/anaconda/lib/python2.7/site-packages/ipykernel/kernelapp.py in start(self=<ipykernel.kernelapp.IPKernelApp object>)\n    437         \n    438         if self.poller is not None:\n    439             self.poller.start()\n    440         self.kernel.start()\n    441         try:\n--> 442             ioloop.IOLoop.instance().start()\n    443         except KeyboardInterrupt:\n    444             pass\n    445 \n    446 launch_new_instance = IPKernelApp.launch_instance\n\n...........................................................................\n/Users/MotherBox/anaconda/lib/python2.7/site-packages/zmq/eventloop/ioloop.py in start(self=<zmq.eventloop.ioloop.ZMQIOLoop object>)\n    157             PollIOLoop.configure(ZMQIOLoop)\n    158         return PollIOLoop.current(*args, **kwargs)\n    159     \n    160     def start(self):\n    161         try:\n--> 162             super(ZMQIOLoop, self).start()\n        self.start = <bound method ZMQIOLoop.start of <zmq.eventloop.ioloop.ZMQIOLoop object>>\n    163         except ZMQError as e:\n    164             if e.errno == ETERM:\n    165                 # quietly return on ETERM\n    166                 pass\n\n...........................................................................\n/Users/MotherBox/anaconda/lib/python2.7/site-packages/tornado/ioloop.py in start(self=<zmq.eventloop.ioloop.ZMQIOLoop object>)\n    878                 self._events.update(event_pairs)\n    879                 while self._events:\n    880                     fd, events = self._events.popitem()\n    881                     try:\n    882                         fd_obj, handler_func = self._handlers[fd]\n--> 883                         handler_func(fd_obj, events)\n        handler_func = <function null_wrapper>\n        fd_obj = <zmq.sugar.socket.Socket object>\n        events = 1\n    884                     except (OSError, IOError) as e:\n    885                         if errno_from_exception(e) == errno.EPIPE:\n    886                             # Happens when the client closes the connection\n    887                             pass\n\n...........................................................................\n/Users/MotherBox/anaconda/lib/python2.7/site-packages/tornado/stack_context.py in null_wrapper(*args=(<zmq.sugar.socket.Socket object>, 1), **kwargs={})\n    270         # Fast path when there are no active contexts.\n    271         def null_wrapper(*args, **kwargs):\n    272             try:\n    273                 current_state = _state.contexts\n    274                 _state.contexts = cap_contexts[0]\n--> 275                 return fn(*args, **kwargs)\n        args = (<zmq.sugar.socket.Socket object>, 1)\n        kwargs = {}\n    276             finally:\n    277                 _state.contexts = current_state\n    278         null_wrapper._wrapped = True\n    279         return null_wrapper\n\n...........................................................................\n/Users/MotherBox/anaconda/lib/python2.7/site-packages/zmq/eventloop/zmqstream.py in _handle_events(self=<zmq.eventloop.zmqstream.ZMQStream object>, fd=<zmq.sugar.socket.Socket object>, events=1)\n    435             # dispatch events:\n    436             if events & IOLoop.ERROR:\n    437                 gen_log.error(\"got POLLERR event on ZMQStream, which doesn't make sense\")\n    438                 return\n    439             if events & IOLoop.READ:\n--> 440                 self._handle_recv()\n        self._handle_recv = <bound method ZMQStream._handle_recv of <zmq.eventloop.zmqstream.ZMQStream object>>\n    441                 if not self.socket:\n    442                     return\n    443             if events & IOLoop.WRITE:\n    444                 self._handle_send()\n\n...........................................................................\n/Users/MotherBox/anaconda/lib/python2.7/site-packages/zmq/eventloop/zmqstream.py in _handle_recv(self=<zmq.eventloop.zmqstream.ZMQStream object>)\n    467                 gen_log.error(\"RECV Error: %s\"%zmq.strerror(e.errno))\n    468         else:\n    469             if self._recv_callback:\n    470                 callback = self._recv_callback\n    471                 # self._recv_callback = None\n--> 472                 self._run_callback(callback, msg)\n        self._run_callback = <bound method ZMQStream._run_callback of <zmq.eventloop.zmqstream.ZMQStream object>>\n        callback = <function null_wrapper>\n        msg = [<zmq.sugar.frame.Frame object>, <zmq.sugar.frame.Frame object>, <zmq.sugar.frame.Frame object>, <zmq.sugar.frame.Frame object>, <zmq.sugar.frame.Frame object>, <zmq.sugar.frame.Frame object>, <zmq.sugar.frame.Frame object>]\n    473                 \n    474         # self.update_state()\n    475         \n    476 \n\n...........................................................................\n/Users/MotherBox/anaconda/lib/python2.7/site-packages/zmq/eventloop/zmqstream.py in _run_callback(self=<zmq.eventloop.zmqstream.ZMQStream object>, callback=<function null_wrapper>, *args=([<zmq.sugar.frame.Frame object>, <zmq.sugar.frame.Frame object>, <zmq.sugar.frame.Frame object>, <zmq.sugar.frame.Frame object>, <zmq.sugar.frame.Frame object>, <zmq.sugar.frame.Frame object>, <zmq.sugar.frame.Frame object>],), **kwargs={})\n    409         close our socket.\"\"\"\n    410         try:\n    411             # Use a NullContext to ensure that all StackContexts are run\n    412             # inside our blanket exception handler rather than outside.\n    413             with stack_context.NullContext():\n--> 414                 callback(*args, **kwargs)\n        callback = <function null_wrapper>\n        args = ([<zmq.sugar.frame.Frame object>, <zmq.sugar.frame.Frame object>, <zmq.sugar.frame.Frame object>, <zmq.sugar.frame.Frame object>, <zmq.sugar.frame.Frame object>, <zmq.sugar.frame.Frame object>, <zmq.sugar.frame.Frame object>],)\n        kwargs = {}\n    415         except:\n    416             gen_log.error(\"Uncaught exception, closing connection.\",\n    417                           exc_info=True)\n    418             # Close the socket on an uncaught exception from a user callback\n\n...........................................................................\n/Users/MotherBox/anaconda/lib/python2.7/site-packages/tornado/stack_context.py in null_wrapper(*args=([<zmq.sugar.frame.Frame object>, <zmq.sugar.frame.Frame object>, <zmq.sugar.frame.Frame object>, <zmq.sugar.frame.Frame object>, <zmq.sugar.frame.Frame object>, <zmq.sugar.frame.Frame object>, <zmq.sugar.frame.Frame object>],), **kwargs={})\n    270         # Fast path when there are no active contexts.\n    271         def null_wrapper(*args, **kwargs):\n    272             try:\n    273                 current_state = _state.contexts\n    274                 _state.contexts = cap_contexts[0]\n--> 275                 return fn(*args, **kwargs)\n        args = ([<zmq.sugar.frame.Frame object>, <zmq.sugar.frame.Frame object>, <zmq.sugar.frame.Frame object>, <zmq.sugar.frame.Frame object>, <zmq.sugar.frame.Frame object>, <zmq.sugar.frame.Frame object>, <zmq.sugar.frame.Frame object>],)\n        kwargs = {}\n    276             finally:\n    277                 _state.contexts = current_state\n    278         null_wrapper._wrapped = True\n    279         return null_wrapper\n\n...........................................................................\n/Users/MotherBox/anaconda/lib/python2.7/site-packages/ipykernel/kernelbase.py in dispatcher(msg=[<zmq.sugar.frame.Frame object>, <zmq.sugar.frame.Frame object>, <zmq.sugar.frame.Frame object>, <zmq.sugar.frame.Frame object>, <zmq.sugar.frame.Frame object>, <zmq.sugar.frame.Frame object>, <zmq.sugar.frame.Frame object>])\n    271         if self.control_stream:\n    272             self.control_stream.on_recv(self.dispatch_control, copy=False)\n    273 \n    274         def make_dispatcher(stream):\n    275             def dispatcher(msg):\n--> 276                 return self.dispatch_shell(stream, msg)\n        msg = [<zmq.sugar.frame.Frame object>, <zmq.sugar.frame.Frame object>, <zmq.sugar.frame.Frame object>, <zmq.sugar.frame.Frame object>, <zmq.sugar.frame.Frame object>, <zmq.sugar.frame.Frame object>, <zmq.sugar.frame.Frame object>]\n    277             return dispatcher\n    278 \n    279         for s in self.shell_streams:\n    280             s.on_recv(make_dispatcher(s), copy=False)\n\n...........................................................................\n/Users/MotherBox/anaconda/lib/python2.7/site-packages/ipykernel/kernelbase.py in dispatch_shell(self=<ipykernel.ipkernel.IPythonKernel object>, stream=<zmq.eventloop.zmqstream.ZMQStream object>, msg={'buffers': [], 'content': {u'allow_stdin': True, u'code': u\"%%capture\\n\\n\\nDC = Parallel(n_jobs=num_cores)...ection_names(include_system_collections=False)\\n\", u'silent': False, u'stop_on_error': True, u'store_history': True, u'user_expressions': {}}, 'header': {'date': '2016-08-18T21:15:09.024959', u'msg_id': u'DD497E51E0DC4B1987E2B8D861B0E065', u'msg_type': u'execute_request', u'session': u'E0D87CA5C46E4E2C85DCE7C0AC1B465F', u'username': u'username', u'version': u'5.0'}, 'metadata': {}, 'msg_id': u'DD497E51E0DC4B1987E2B8D861B0E065', 'msg_type': u'execute_request', 'parent_header': {}})\n    223             self.log.error(\"UNKNOWN MESSAGE TYPE: %r\", msg_type)\n    224         else:\n    225             self.log.debug(\"%s: %s\", msg_type, msg)\n    226             self.pre_handler_hook()\n    227             try:\n--> 228                 handler(stream, idents, msg)\n        handler = <bound method IPythonKernel.execute_request of <ipykernel.ipkernel.IPythonKernel object>>\n        stream = <zmq.eventloop.zmqstream.ZMQStream object>\n        idents = ['E0D87CA5C46E4E2C85DCE7C0AC1B465F']\n        msg = {'buffers': [], 'content': {u'allow_stdin': True, u'code': u\"%%capture\\n\\n\\nDC = Parallel(n_jobs=num_cores)...ection_names(include_system_collections=False)\\n\", u'silent': False, u'stop_on_error': True, u'store_history': True, u'user_expressions': {}}, 'header': {'date': '2016-08-18T21:15:09.024959', u'msg_id': u'DD497E51E0DC4B1987E2B8D861B0E065', u'msg_type': u'execute_request', u'session': u'E0D87CA5C46E4E2C85DCE7C0AC1B465F', u'username': u'username', u'version': u'5.0'}, 'metadata': {}, 'msg_id': u'DD497E51E0DC4B1987E2B8D861B0E065', 'msg_type': u'execute_request', 'parent_header': {}}\n    229             except Exception:\n    230                 self.log.error(\"Exception in message handler:\", exc_info=True)\n    231             finally:\n    232                 self.post_handler_hook()\n\n...........................................................................\n/Users/MotherBox/anaconda/lib/python2.7/site-packages/ipykernel/kernelbase.py in execute_request(self=<ipykernel.ipkernel.IPythonKernel object>, stream=<zmq.eventloop.zmqstream.ZMQStream object>, ident=['E0D87CA5C46E4E2C85DCE7C0AC1B465F'], parent={'buffers': [], 'content': {u'allow_stdin': True, u'code': u\"%%capture\\n\\n\\nDC = Parallel(n_jobs=num_cores)...ection_names(include_system_collections=False)\\n\", u'silent': False, u'stop_on_error': True, u'store_history': True, u'user_expressions': {}}, 'header': {'date': '2016-08-18T21:15:09.024959', u'msg_id': u'DD497E51E0DC4B1987E2B8D861B0E065', u'msg_type': u'execute_request', u'session': u'E0D87CA5C46E4E2C85DCE7C0AC1B465F', u'username': u'username', u'version': u'5.0'}, 'metadata': {}, 'msg_id': u'DD497E51E0DC4B1987E2B8D861B0E065', 'msg_type': u'execute_request', 'parent_header': {}})\n    386         if not silent:\n    387             self.execution_count += 1\n    388             self._publish_execute_input(code, parent, self.execution_count)\n    389 \n    390         reply_content = self.do_execute(code, silent, store_history,\n--> 391                                         user_expressions, allow_stdin)\n        user_expressions = {}\n        allow_stdin = True\n    392 \n    393         # Flush output before sending the reply.\n    394         sys.stdout.flush()\n    395         sys.stderr.flush()\n\n...........................................................................\n/Users/MotherBox/anaconda/lib/python2.7/site-packages/ipykernel/ipkernel.py in do_execute(self=<ipykernel.ipkernel.IPythonKernel object>, code=u\"%%capture\\n\\n\\nDC = Parallel(n_jobs=num_cores)...ection_names(include_system_collections=False)\\n\", silent=False, store_history=True, user_expressions={}, allow_stdin=True)\n    194 \n    195         reply_content = {}\n    196         # FIXME: the shell calls the exception handler itself.\n    197         shell._reply_content = None\n    198         try:\n--> 199             shell.run_cell(code, store_history=store_history, silent=silent)\n        shell.run_cell = <bound method ZMQInteractiveShell.run_cell of <ipykernel.zmqshell.ZMQInteractiveShell object>>\n        code = u\"%%capture\\n\\n\\nDC = Parallel(n_jobs=num_cores)...ection_names(include_system_collections=False)\\n\"\n        store_history = True\n        silent = False\n    200         except:\n    201             status = u'error'\n    202             # FIXME: this code right now isn't being used yet by default,\n    203             # because the run_cell() call above directly fires off exception\n\n...........................................................................\n/Users/MotherBox/anaconda/lib/python2.7/site-packages/IPython/core/interactiveshell.py in run_cell(self=<ipykernel.zmqshell.ZMQInteractiveShell object>, raw_cell=u\"%%capture\\n\\n\\nDC = Parallel(n_jobs=num_cores)...ection_names(include_system_collections=False)\\n\", store_history=True, silent=False, shell_futures=True)\n   2718                 self.displayhook.exec_result = result\n   2719 \n   2720                 # Execute the user code\n   2721                 interactivity = \"none\" if silent else self.ast_node_interactivity\n   2722                 self.run_ast_nodes(code_ast.body, cell_name,\n-> 2723                    interactivity=interactivity, compiler=compiler, result=result)\n        interactivity = 'last_expr'\n        compiler = <IPython.core.compilerop.CachingCompiler instance>\n   2724 \n   2725                 # Reset this so later displayed values do not modify the\n   2726                 # ExecutionResult\n   2727                 self.displayhook.exec_result = None\n\n...........................................................................\n/Users/MotherBox/anaconda/lib/python2.7/site-packages/IPython/core/interactiveshell.py in run_ast_nodes(self=<ipykernel.zmqshell.ZMQInteractiveShell object>, nodelist=[<_ast.Expr object>], cell_name='<ipython-input-10-0df30bf33a30>', interactivity='last', compiler=<IPython.core.compilerop.CachingCompiler instance>, result=<IPython.core.interactiveshell.ExecutionResult object>)\n   2826                     return True\n   2827 \n   2828             for i, node in enumerate(to_run_interactive):\n   2829                 mod = ast.Interactive([node])\n   2830                 code = compiler(mod, cell_name, \"single\")\n-> 2831                 if self.run_code(code, result):\n        self.run_code = <bound method ZMQInteractiveShell.run_code of <ipykernel.zmqshell.ZMQInteractiveShell object>>\n        code = <code object <module> at 0x1040128b0, file \"<ipython-input-10-0df30bf33a30>\", line 1>\n        result = <IPython.core.interactiveshell.ExecutionResult object>\n   2832                     return True\n   2833 \n   2834             # Flush softspace\n   2835             if softspace(sys.stdout, 0):\n\n...........................................................................\n/Users/MotherBox/anaconda/lib/python2.7/site-packages/IPython/core/interactiveshell.py in run_code(self=<ipykernel.zmqshell.ZMQInteractiveShell object>, code_obj=<code object <module> at 0x1040128b0, file \"<ipython-input-10-0df30bf33a30>\", line 1>, result=<IPython.core.interactiveshell.ExecutionResult object>)\n   2880         outflag = 1  # happens in more places, so it's easier as default\n   2881         try:\n   2882             try:\n   2883                 self.hooks.pre_run_code_hook()\n   2884                 #rprint('Running code', repr(code_obj)) # dbg\n-> 2885                 exec(code_obj, self.user_global_ns, self.user_ns)\n        code_obj = <code object <module> at 0x1040128b0, file \"<ipython-input-10-0df30bf33a30>\", line 1>\n        self.user_global_ns = {'Dc': ['batman', 'batman3', 'batmanbegins', 'batmanforever', 'batmanmaskofthephantasm', 'batmanreturns', 'batmanrobin', 'catwoman', 'constantine', 'darkknight', 'greenlantern', 'jonahhex', 'losers', 'red2', 'red2010', 'steel', 'supergirl', 'superman', 'superman06', 'superman2', ...], 'Dc_titles': ['Batman', 'The Dark Knight Rises', 'Batman Begins', 'Batman Forever', 'Batman: Mask of the Phantasm', 'Batman Returns', 'Batman Robin', 'Catwoman', 'Constantine', 'The Dark Knight', 'Green Lantern', 'Jonah Hex', 'The Losers', 'Red 2', 'Red', 'Steel', 'Supergirl', 'Superman', 'Superman Returns', 'Superman II', ...], 'In': ['', u\"##### BOM_insert_id = ObjectId('57b26905c54d2d...llection_names(include_system_collections=False)\", u'db.box_office_mojo.drop()\\ndb.omdb_critics.dro...llection_names(include_system_collections=False)', u'mongo = db.box_office_mojo', u'def getMovieData(name):\\n    \\n    import json...n            \\n    return Features\\n            ', u'Marvel =[\\n       \\'amazingspiderman2\\', \\'ant...en: Days of Future Past\",\"X-Men: First Class\"\\n]', u'\\n\\nDc = [ \\'batman\\', \\'batman3\\', \\'batmanbe...or Peace\", \\n    \"V for Vendetta\", \"Watchmen\"\\n]', u'Others_titles = [\\n    \"2 Guns\",\"300\",\"300: Ri...whiteout\\', \\'xfiles2\\', \\'zoom\\', \\'zorro2\\'\\n]', u'len(Others)', u'len(Others_titles)', u'get_ipython().run_cell_magic(u\\'capture\\', u\\'...ection_names(include_system_collections=False)\")'], 'Marvel': ['amazingspiderman2', 'antman', 'avengers11', 'avengers2', 'blade', 'blade2', 'blade3', 'captainamerica', 'daredevil', 'deadpool2016', 'disney2014', 'elektra', 'fantasticfour', 'fantasticfour15', 'fantasticfour2', 'ghostrider', 'ghostrider2', 'howardtheduck', 'hulk', 'incrediblehulk', ...], 'Marvel_titles': ['The Amazing Spider-Man 2', 'Ant-Man', \"Marvel's The Avengers\", 'Avengers: Age of Ultron', 'Blade', 'Blade II', 'Blade: Trinity', 'Captain America: The First Avenger', 'Daredevil', 'Deadpool', 'Big Hero 6', 'Elektra', 'Fantastic Four(2005)', 'Fantastic Four(2015)', 'Fantastic Four: Rise of the Silver Surfer', 'Ghost Rider', 'Ghost Rider: Spirit of Vengeance', 'Howard The Duck', 'Hulk', 'The Incredible Hulk', ...], 'MongoClient': <class 'pymongo.mongo_client.MongoClient'>, 'Others': ['2guns', '300', '300sequel', '30daysofnight', 'americansplendor', 'avp', 'avp2', 'blackmask', 'buffythevampireslayer', 'bulletproofmonk', 'bullettothehead', 'casper', 'chronicle2012', 'cowboysandaliens', 'crow', 'crowcityofangels', 'darkman', 'diaryofateenagegirl', 'dicktracy', 'dredd', ...], 'Others_titles': ['2 Guns', '300', '300: Rise of an Empire', '30 Days of Night', 'American Splendor', 'Alien vs Predator', 'Alien vs Predator Requiem', 'Black Mask', 'Buffy the Vampire Slayer', 'Bulletproof Monk', 'Bullet to the Head', 'Casper', 'Chronicle (2012)', 'Cowboys & Aliens', 'The Crow', 'The Crow:City of Angels', 'Darkman', 'The Diary of a Teenage Girl', 'Dick Tracy', 'Dredd', ...], 'Out': {1: [], 2: [], 8: 81, 9: 81}, 'Parallel': <class 'joblib.parallel.Parallel'>, ...}\n        self.user_ns = {'Dc': ['batman', 'batman3', 'batmanbegins', 'batmanforever', 'batmanmaskofthephantasm', 'batmanreturns', 'batmanrobin', 'catwoman', 'constantine', 'darkknight', 'greenlantern', 'jonahhex', 'losers', 'red2', 'red2010', 'steel', 'supergirl', 'superman', 'superman06', 'superman2', ...], 'Dc_titles': ['Batman', 'The Dark Knight Rises', 'Batman Begins', 'Batman Forever', 'Batman: Mask of the Phantasm', 'Batman Returns', 'Batman Robin', 'Catwoman', 'Constantine', 'The Dark Knight', 'Green Lantern', 'Jonah Hex', 'The Losers', 'Red 2', 'Red', 'Steel', 'Supergirl', 'Superman', 'Superman Returns', 'Superman II', ...], 'In': ['', u\"##### BOM_insert_id = ObjectId('57b26905c54d2d...llection_names(include_system_collections=False)\", u'db.box_office_mojo.drop()\\ndb.omdb_critics.dro...llection_names(include_system_collections=False)', u'mongo = db.box_office_mojo', u'def getMovieData(name):\\n    \\n    import json...n            \\n    return Features\\n            ', u'Marvel =[\\n       \\'amazingspiderman2\\', \\'ant...en: Days of Future Past\",\"X-Men: First Class\"\\n]', u'\\n\\nDc = [ \\'batman\\', \\'batman3\\', \\'batmanbe...or Peace\", \\n    \"V for Vendetta\", \"Watchmen\"\\n]', u'Others_titles = [\\n    \"2 Guns\",\"300\",\"300: Ri...whiteout\\', \\'xfiles2\\', \\'zoom\\', \\'zorro2\\'\\n]', u'len(Others)', u'len(Others_titles)', u'get_ipython().run_cell_magic(u\\'capture\\', u\\'...ection_names(include_system_collections=False)\")'], 'Marvel': ['amazingspiderman2', 'antman', 'avengers11', 'avengers2', 'blade', 'blade2', 'blade3', 'captainamerica', 'daredevil', 'deadpool2016', 'disney2014', 'elektra', 'fantasticfour', 'fantasticfour15', 'fantasticfour2', 'ghostrider', 'ghostrider2', 'howardtheduck', 'hulk', 'incrediblehulk', ...], 'Marvel_titles': ['The Amazing Spider-Man 2', 'Ant-Man', \"Marvel's The Avengers\", 'Avengers: Age of Ultron', 'Blade', 'Blade II', 'Blade: Trinity', 'Captain America: The First Avenger', 'Daredevil', 'Deadpool', 'Big Hero 6', 'Elektra', 'Fantastic Four(2005)', 'Fantastic Four(2015)', 'Fantastic Four: Rise of the Silver Surfer', 'Ghost Rider', 'Ghost Rider: Spirit of Vengeance', 'Howard The Duck', 'Hulk', 'The Incredible Hulk', ...], 'MongoClient': <class 'pymongo.mongo_client.MongoClient'>, 'Others': ['2guns', '300', '300sequel', '30daysofnight', 'americansplendor', 'avp', 'avp2', 'blackmask', 'buffythevampireslayer', 'bulletproofmonk', 'bullettothehead', 'casper', 'chronicle2012', 'cowboysandaliens', 'crow', 'crowcityofangels', 'darkman', 'diaryofateenagegirl', 'dicktracy', 'dredd', ...], 'Others_titles': ['2 Guns', '300', '300: Rise of an Empire', '30 Days of Night', 'American Splendor', 'Alien vs Predator', 'Alien vs Predator Requiem', 'Black Mask', 'Buffy the Vampire Slayer', 'Bulletproof Monk', 'Bullet to the Head', 'Casper', 'Chronicle (2012)', 'Cowboys & Aliens', 'The Crow', 'The Crow:City of Angels', 'Darkman', 'The Diary of a Teenage Girl', 'Dick Tracy', 'Dredd', ...], 'Out': {1: [], 2: [], 8: 81, 9: 81}, 'Parallel': <class 'joblib.parallel.Parallel'>, ...}\n   2886             finally:\n   2887                 # Reset our crash handler in place\n   2888                 sys.excepthook = old_excepthook\n   2889         except SystemExit as e:\n\n...........................................................................\n/Users/MotherBox/Documents/GitHub/CBM/Pyton/<ipython-input-10-0df30bf33a30> in <module>()\n----> 1 \n      2 \n      3 \n      4 \n      5 \n      6 get_ipython().run_cell_magic(u'capture', u'', u\"\\n\\nDC = Parallel(n_jobs=num_cores)(delayed(getMovieData)(name) for name in Dc)\\n# MARVEL = Parallel(n_jobs=num_cores)(delayed(getMovieData)(name) for name in Marvel)\\n# OTHERS = Parallel(n_jobs=num_cores)(delayed(getMovieData)(name) for name in Others)\\n\\n# M = {}\\n# D = {}\\n# O = {}\\n\\n# for k in range(len(MARVEL)):\\n#     M[Marvel_titles[k]]= MARVEL[k]\\n    \\n# for k in range(len(DC)):\\n#     D[Dc_titles[k]]= DC[k]\\n    \\n# for k in range(len(OTHERS)):\\n#     O[Others_titles[k]]= OTHERS[k]\\n\\n# Data = {}\\n# Data['Marvel'] = M\\n# Data['DC'] = D\\n# Data['Others'] = O\\n\\n# del M\\n# del D\\n# del O\\n# del Marvel_titles\\n# del Dc_titles\\n# del Others_titles\\n\\n\\n\\n# BOM_insert_id = mongo.insert_one(Data).inserted_id\\n# db.collection_names(include_system_collections=False)\")\n      7 \n      8 \n      9 \n     10 \n\n...........................................................................\n/Users/MotherBox/anaconda/lib/python2.7/site-packages/IPython/core/interactiveshell.py in run_cell_magic(self=<ipykernel.zmqshell.ZMQInteractiveShell object>, magic_name=u'capture', line=u'', cell=u\"\\n\\nDC = Parallel(n_jobs=num_cores)(delayed(ge...llection_names(include_system_collections=False)\")\n   2115             # This will need to be updated if the internal calling logic gets\n   2116             # refactored, or else we'll be expanding the wrong variables.\n   2117             stack_depth = 2\n   2118             magic_arg_s = self.var_expand(line, stack_depth)\n   2119             with self.builtin_trap:\n-> 2120                 result = fn(magic_arg_s, cell)\n        result = undefined\n        fn = <bound method ExecutionMagics.capture of <IPython.core.magics.execution.ExecutionMagics object>>\n        magic_arg_s = u''\n        cell = u\"\\n\\nDC = Parallel(n_jobs=num_cores)(delayed(ge...llection_names(include_system_collections=False)\"\n   2121             return result\n   2122 \n   2123     def find_line_magic(self, magic_name):\n   2124         \"\"\"Find and return a line magic by name.\n\n...........................................................................\n/Users/MotherBox/Documents/GitHub/CBM/Pyton/<decorator-gen-62> in capture(self=<IPython.core.magics.execution.ExecutionMagics object>, line=u'', cell=u\"\\n\\nDC = Parallel(n_jobs=num_cores)(delayed(ge...llection_names(include_system_collections=False)\")\n      1 \n----> 2 \n      3 \n      4 \n      5 \n      6 \n      7 \n      8 \n      9 \n     10 \n\n...........................................................................\n/Users/MotherBox/anaconda/lib/python2.7/site-packages/IPython/core/magic.py in <lambda>(f=<function capture>, *a=(<IPython.core.magics.execution.ExecutionMagics object>, u'', u\"\\n\\nDC = Parallel(n_jobs=num_cores)(delayed(ge...llection_names(include_system_collections=False)\"), **k={})\n    188     validate_type(magic_kind)\n    189 \n    190     # This is a closure to capture the magic_kind.  We could also use a class,\n    191     # but it's overkill for just that one bit of state.\n    192     def magic_deco(arg):\n--> 193         call = lambda f, *a, **k: f(*a, **k)\n        f = <function capture>\n        a = (<IPython.core.magics.execution.ExecutionMagics object>, u'', u\"\\n\\nDC = Parallel(n_jobs=num_cores)(delayed(ge...llection_names(include_system_collections=False)\")\n        k = {}\n    194 \n    195         if callable(arg):\n    196             # \"Naked\" decorator call (just @foo, no args)\n    197             func = arg\n\n...........................................................................\n/Users/MotherBox/anaconda/lib/python2.7/site-packages/IPython/core/magics/execution.py in capture(self=<IPython.core.magics.execution.ExecutionMagics object>, line=u'', cell=u\"\\n\\nDC = Parallel(n_jobs=num_cores)(delayed(ge...llection_names(include_system_collections=False)\")\n   1307         args = magic_arguments.parse_argstring(self.capture, line)\n   1308         out = not args.no_stdout\n   1309         err = not args.no_stderr\n   1310         disp = not args.no_display\n   1311         with capture_output(out, err, disp) as io:\n-> 1312             self.shell.run_cell(cell)\n        self.shell.run_cell = <bound method ZMQInteractiveShell.run_cell of <ipykernel.zmqshell.ZMQInteractiveShell object>>\n        cell = u\"\\n\\nDC = Parallel(n_jobs=num_cores)(delayed(ge...llection_names(include_system_collections=False)\"\n   1313         if args.output:\n   1314             self.shell.user_ns[args.output] = io\n   1315 \n   1316 def parse_breakpoint(text, current_file):\n\n...........................................................................\n/Users/MotherBox/anaconda/lib/python2.7/site-packages/IPython/core/interactiveshell.py in run_cell(self=<ipykernel.zmqshell.ZMQInteractiveShell object>, raw_cell=u\"\\n\\nDC = Parallel(n_jobs=num_cores)(delayed(ge...llection_names(include_system_collections=False)\", store_history=False, silent=False, shell_futures=True)\n   2718                 self.displayhook.exec_result = result\n   2719 \n   2720                 # Execute the user code\n   2721                 interactivity = \"none\" if silent else self.ast_node_interactivity\n   2722                 self.run_ast_nodes(code_ast.body, cell_name,\n-> 2723                    interactivity=interactivity, compiler=compiler, result=result)\n        interactivity = 'last_expr'\n        compiler = <IPython.core.compilerop.CachingCompiler instance>\n   2724 \n   2725                 # Reset this so later displayed values do not modify the\n   2726                 # ExecutionResult\n   2727                 self.displayhook.exec_result = None\n\n...........................................................................\n/Users/MotherBox/anaconda/lib/python2.7/site-packages/IPython/core/interactiveshell.py in run_ast_nodes(self=<ipykernel.zmqshell.ZMQInteractiveShell object>, nodelist=[<_ast.Assign object>], cell_name='<ipython-input-10-1c1153e10d29>', interactivity='none', compiler=<IPython.core.compilerop.CachingCompiler instance>, result=<IPython.core.interactiveshell.ExecutionResult object>)\n   2820 \n   2821         try:\n   2822             for i, node in enumerate(to_run_exec):\n   2823                 mod = ast.Module([node])\n   2824                 code = compiler(mod, cell_name, \"exec\")\n-> 2825                 if self.run_code(code, result):\n        self.run_code = <bound method ZMQInteractiveShell.run_code of <ipykernel.zmqshell.ZMQInteractiveShell object>>\n        code = <code object <module> at 0x1091a9130, file \"<ipython-input-10-1c1153e10d29>\", line 3>\n        result = <IPython.core.interactiveshell.ExecutionResult object>\n   2826                     return True\n   2827 \n   2828             for i, node in enumerate(to_run_interactive):\n   2829                 mod = ast.Interactive([node])\n\n...........................................................................\n/Users/MotherBox/anaconda/lib/python2.7/site-packages/IPython/core/interactiveshell.py in run_code(self=<ipykernel.zmqshell.ZMQInteractiveShell object>, code_obj=<code object <module> at 0x1091a9130, file \"<ipython-input-10-1c1153e10d29>\", line 3>, result=<IPython.core.interactiveshell.ExecutionResult object>)\n   2880         outflag = 1  # happens in more places, so it's easier as default\n   2881         try:\n   2882             try:\n   2883                 self.hooks.pre_run_code_hook()\n   2884                 #rprint('Running code', repr(code_obj)) # dbg\n-> 2885                 exec(code_obj, self.user_global_ns, self.user_ns)\n        code_obj = <code object <module> at 0x1091a9130, file \"<ipython-input-10-1c1153e10d29>\", line 3>\n        self.user_global_ns = {'Dc': ['batman', 'batman3', 'batmanbegins', 'batmanforever', 'batmanmaskofthephantasm', 'batmanreturns', 'batmanrobin', 'catwoman', 'constantine', 'darkknight', 'greenlantern', 'jonahhex', 'losers', 'red2', 'red2010', 'steel', 'supergirl', 'superman', 'superman06', 'superman2', ...], 'Dc_titles': ['Batman', 'The Dark Knight Rises', 'Batman Begins', 'Batman Forever', 'Batman: Mask of the Phantasm', 'Batman Returns', 'Batman Robin', 'Catwoman', 'Constantine', 'The Dark Knight', 'Green Lantern', 'Jonah Hex', 'The Losers', 'Red 2', 'Red', 'Steel', 'Supergirl', 'Superman', 'Superman Returns', 'Superman II', ...], 'In': ['', u\"##### BOM_insert_id = ObjectId('57b26905c54d2d...llection_names(include_system_collections=False)\", u'db.box_office_mojo.drop()\\ndb.omdb_critics.dro...llection_names(include_system_collections=False)', u'mongo = db.box_office_mojo', u'def getMovieData(name):\\n    \\n    import json...n            \\n    return Features\\n            ', u'Marvel =[\\n       \\'amazingspiderman2\\', \\'ant...en: Days of Future Past\",\"X-Men: First Class\"\\n]', u'\\n\\nDc = [ \\'batman\\', \\'batman3\\', \\'batmanbe...or Peace\", \\n    \"V for Vendetta\", \"Watchmen\"\\n]', u'Others_titles = [\\n    \"2 Guns\",\"300\",\"300: Ri...whiteout\\', \\'xfiles2\\', \\'zoom\\', \\'zorro2\\'\\n]', u'len(Others)', u'len(Others_titles)', u'get_ipython().run_cell_magic(u\\'capture\\', u\\'...ection_names(include_system_collections=False)\")'], 'Marvel': ['amazingspiderman2', 'antman', 'avengers11', 'avengers2', 'blade', 'blade2', 'blade3', 'captainamerica', 'daredevil', 'deadpool2016', 'disney2014', 'elektra', 'fantasticfour', 'fantasticfour15', 'fantasticfour2', 'ghostrider', 'ghostrider2', 'howardtheduck', 'hulk', 'incrediblehulk', ...], 'Marvel_titles': ['The Amazing Spider-Man 2', 'Ant-Man', \"Marvel's The Avengers\", 'Avengers: Age of Ultron', 'Blade', 'Blade II', 'Blade: Trinity', 'Captain America: The First Avenger', 'Daredevil', 'Deadpool', 'Big Hero 6', 'Elektra', 'Fantastic Four(2005)', 'Fantastic Four(2015)', 'Fantastic Four: Rise of the Silver Surfer', 'Ghost Rider', 'Ghost Rider: Spirit of Vengeance', 'Howard The Duck', 'Hulk', 'The Incredible Hulk', ...], 'MongoClient': <class 'pymongo.mongo_client.MongoClient'>, 'Others': ['2guns', '300', '300sequel', '30daysofnight', 'americansplendor', 'avp', 'avp2', 'blackmask', 'buffythevampireslayer', 'bulletproofmonk', 'bullettothehead', 'casper', 'chronicle2012', 'cowboysandaliens', 'crow', 'crowcityofangels', 'darkman', 'diaryofateenagegirl', 'dicktracy', 'dredd', ...], 'Others_titles': ['2 Guns', '300', '300: Rise of an Empire', '30 Days of Night', 'American Splendor', 'Alien vs Predator', 'Alien vs Predator Requiem', 'Black Mask', 'Buffy the Vampire Slayer', 'Bulletproof Monk', 'Bullet to the Head', 'Casper', 'Chronicle (2012)', 'Cowboys & Aliens', 'The Crow', 'The Crow:City of Angels', 'Darkman', 'The Diary of a Teenage Girl', 'Dick Tracy', 'Dredd', ...], 'Out': {1: [], 2: [], 8: 81, 9: 81}, 'Parallel': <class 'joblib.parallel.Parallel'>, ...}\n        self.user_ns = {'Dc': ['batman', 'batman3', 'batmanbegins', 'batmanforever', 'batmanmaskofthephantasm', 'batmanreturns', 'batmanrobin', 'catwoman', 'constantine', 'darkknight', 'greenlantern', 'jonahhex', 'losers', 'red2', 'red2010', 'steel', 'supergirl', 'superman', 'superman06', 'superman2', ...], 'Dc_titles': ['Batman', 'The Dark Knight Rises', 'Batman Begins', 'Batman Forever', 'Batman: Mask of the Phantasm', 'Batman Returns', 'Batman Robin', 'Catwoman', 'Constantine', 'The Dark Knight', 'Green Lantern', 'Jonah Hex', 'The Losers', 'Red 2', 'Red', 'Steel', 'Supergirl', 'Superman', 'Superman Returns', 'Superman II', ...], 'In': ['', u\"##### BOM_insert_id = ObjectId('57b26905c54d2d...llection_names(include_system_collections=False)\", u'db.box_office_mojo.drop()\\ndb.omdb_critics.dro...llection_names(include_system_collections=False)', u'mongo = db.box_office_mojo', u'def getMovieData(name):\\n    \\n    import json...n            \\n    return Features\\n            ', u'Marvel =[\\n       \\'amazingspiderman2\\', \\'ant...en: Days of Future Past\",\"X-Men: First Class\"\\n]', u'\\n\\nDc = [ \\'batman\\', \\'batman3\\', \\'batmanbe...or Peace\", \\n    \"V for Vendetta\", \"Watchmen\"\\n]', u'Others_titles = [\\n    \"2 Guns\",\"300\",\"300: Ri...whiteout\\', \\'xfiles2\\', \\'zoom\\', \\'zorro2\\'\\n]', u'len(Others)', u'len(Others_titles)', u'get_ipython().run_cell_magic(u\\'capture\\', u\\'...ection_names(include_system_collections=False)\")'], 'Marvel': ['amazingspiderman2', 'antman', 'avengers11', 'avengers2', 'blade', 'blade2', 'blade3', 'captainamerica', 'daredevil', 'deadpool2016', 'disney2014', 'elektra', 'fantasticfour', 'fantasticfour15', 'fantasticfour2', 'ghostrider', 'ghostrider2', 'howardtheduck', 'hulk', 'incrediblehulk', ...], 'Marvel_titles': ['The Amazing Spider-Man 2', 'Ant-Man', \"Marvel's The Avengers\", 'Avengers: Age of Ultron', 'Blade', 'Blade II', 'Blade: Trinity', 'Captain America: The First Avenger', 'Daredevil', 'Deadpool', 'Big Hero 6', 'Elektra', 'Fantastic Four(2005)', 'Fantastic Four(2015)', 'Fantastic Four: Rise of the Silver Surfer', 'Ghost Rider', 'Ghost Rider: Spirit of Vengeance', 'Howard The Duck', 'Hulk', 'The Incredible Hulk', ...], 'MongoClient': <class 'pymongo.mongo_client.MongoClient'>, 'Others': ['2guns', '300', '300sequel', '30daysofnight', 'americansplendor', 'avp', 'avp2', 'blackmask', 'buffythevampireslayer', 'bulletproofmonk', 'bullettothehead', 'casper', 'chronicle2012', 'cowboysandaliens', 'crow', 'crowcityofangels', 'darkman', 'diaryofateenagegirl', 'dicktracy', 'dredd', ...], 'Others_titles': ['2 Guns', '300', '300: Rise of an Empire', '30 Days of Night', 'American Splendor', 'Alien vs Predator', 'Alien vs Predator Requiem', 'Black Mask', 'Buffy the Vampire Slayer', 'Bulletproof Monk', 'Bullet to the Head', 'Casper', 'Chronicle (2012)', 'Cowboys & Aliens', 'The Crow', 'The Crow:City of Angels', 'Darkman', 'The Diary of a Teenage Girl', 'Dick Tracy', 'Dredd', ...], 'Out': {1: [], 2: [], 8: 81, 9: 81}, 'Parallel': <class 'joblib.parallel.Parallel'>, ...}\n   2886             finally:\n   2887                 # Reset our crash handler in place\n   2888                 sys.excepthook = old_excepthook\n   2889         except SystemExit as e:\n\n...........................................................................\n/Users/MotherBox/Documents/GitHub/CBM/Pyton/<ipython-input-10-1c1153e10d29> in <module>()\n      1 \n      2 \n----> 3 \n      4 \n      5 \n      6 DC = Parallel(n_jobs=num_cores)(delayed(getMovieData)(name) for name in Dc)\n      7 # MARVEL = Parallel(n_jobs=num_cores)(delayed(getMovieData)(name) for name in Marvel)\n      8 # OTHERS = Parallel(n_jobs=num_cores)(delayed(getMovieData)(name) for name in Others)\n      9 \n     10 # M = {}\n     11 # D = {}\n     12 # O = {}\n     13 \n\n...........................................................................\n/Users/MotherBox/anaconda/lib/python2.7/site-packages/joblib/parallel.py in __call__(self=Parallel(n_jobs=4), iterable=<generator object <genexpr>>)\n    805             if pre_dispatch == \"all\" or n_jobs == 1:\n    806                 # The iterable was consumed all at once by the above for loop.\n    807                 # No need to wait for async callbacks to trigger to\n    808                 # consumption.\n    809                 self._iterating = False\n--> 810             self.retrieve()\n        self.retrieve = <bound method Parallel.retrieve of Parallel(n_jobs=4)>\n    811             # Make sure that we get a last message telling us we are done\n    812             elapsed_time = time.time() - self._start_time\n    813             self._print('Done %3i out of %3i | elapsed: %s finished',\n    814                         (len(self._output), len(self._output),\n\n---------------------------------------------------------------------------\nSub-process traceback:\n---------------------------------------------------------------------------\nIndexError                                         Thu Aug 18 21:17:13 2016\nPID: 7349               Python 2.7.11: /Users/MotherBox/anaconda/bin/python\n...........................................................................\n/Users/MotherBox/anaconda/lib/python2.7/site-packages/joblib/parallel.py in __call__(self=<joblib.parallel.BatchedCalls object>)\n     67     def __init__(self, iterator_slice):\n     68         self.items = list(iterator_slice)\n     69         self._size = len(self.items)\n     70 \n     71     def __call__(self):\n---> 72         return [func(*args, **kwargs) for func, args, kwargs in self.items]\n        func = <function getMovieData>\n        args = ('constantine',)\n        kwargs = {}\n        self.items = [(<function getMovieData>, ('constantine',), {})]\n     73 \n     74     def __len__(self):\n     75         return self._size\n     76 \n\n...........................................................................\n/Users/MotherBox/Documents/GitHub/CBM/Pyton/<ipython-input-4-5c069d97a9fe> in getMovieData(name='constantine')\n      3     import json\n      4     import boxofficemojoAPI as bom\n      5    \n      6     \n      7     bo = bom.BoxOfficeMojo()\n----> 8     bo.crawl_for_urls()\n      9     data1 = bo.get_movie_summary(name)\n     10     data1.clean_data()\n     11     data1 = json.loads(data1.to_json())\n     12     \n\n...........................................................................\n/Users/MotherBox/Documents/GitHub/CBM/Pyton/boxofficemojoAPI/boxofficemojo.py in crawl_for_urls(self=<boxofficemojoAPI.boxofficemojo.BoxOfficeMojo object>)\n     71                 r = requests.get(new_url)\n     72                 if r.status_code != 200:\n     73                     print \"HTTP Status code returned:\", r.status_code\n     74                 soup = bs4.BeautifulSoup(r.content)\n     75                 self.clean_html(soup)\n---> 76                 self.find_urls_in_html(soup)\n        self.find_urls_in_html = <bound method BoxOfficeMojo.find_urls_in_html of...fficemojoAPI.boxofficemojo.BoxOfficeMojo object>>\n        soup = <html>\\n<head>\\n<title>Updates in Progress</titl...st a few minutes.</p>\\n</div>\\n</body>\\n</html>\\n\n     77 \n     78     @utils.catch_connection_error\n     79     def get_movie_summary(self, url_or_id):\n     80         if 'http' in url_or_id.lower():\n\n...........................................................................\n/Users/MotherBox/Documents/GitHub/CBM/Pyton/boxofficemojoAPI/boxofficemojo.py in find_urls_in_html(self=<boxofficemojoAPI.boxofficemojo.BoxOfficeMojo object>, soup=<html>\\n<head>\\n<title>Updates in Progress</titl...st a few minutes.</p>\\n</div>\\n</body>\\n</html>\\n)\n     38 \n     39     def find_urls_in_html(self, soup):\n     40         \"\"\"Adds all the specific movie urls to the movie_urls dictionary\"\"\"\n     41         urls = soup.findAll(href=re.compile(\"id=\"))\n     42         # First URL is an ad for a movie so get rid of it\n---> 43         del(urls[0])\n        urls = []\n     44 \n     45         self.total_movies += len(urls)\n     46         for url in urls:\n     47             movie_name = url.renderContents()\n\nIndexError: list assignment index out of range\n___________________________________________________________________________",
     "output_type": "error",
     "traceback": [
      "\u001b[0;31m---------------------------------------------------------------------------\u001b[0m",
      "\u001b[0;31mJoblibIndexError\u001b[0m                          Traceback (most recent call last)",
      "\u001b[0;32m<ipython-input-10-1c1153e10d29>\u001b[0m in \u001b[0;36m<module>\u001b[0;34m()\u001b[0m\n\u001b[1;32m      1\u001b[0m \u001b[0;34m\u001b[0m\u001b[0m\n\u001b[1;32m      2\u001b[0m \u001b[0;34m\u001b[0m\u001b[0m\n\u001b[0;32m----> 3\u001b[0;31m \u001b[0mDC\u001b[0m \u001b[0;34m=\u001b[0m \u001b[0mParallel\u001b[0m\u001b[0;34m(\u001b[0m\u001b[0mn_jobs\u001b[0m\u001b[0;34m=\u001b[0m\u001b[0mnum_cores\u001b[0m\u001b[0;34m)\u001b[0m\u001b[0;34m(\u001b[0m\u001b[0mdelayed\u001b[0m\u001b[0;34m(\u001b[0m\u001b[0mgetMovieData\u001b[0m\u001b[0;34m)\u001b[0m\u001b[0;34m(\u001b[0m\u001b[0mname\u001b[0m\u001b[0;34m)\u001b[0m \u001b[0;32mfor\u001b[0m \u001b[0mname\u001b[0m \u001b[0;32min\u001b[0m \u001b[0mDc\u001b[0m\u001b[0;34m)\u001b[0m\u001b[0;34m\u001b[0m\u001b[0m\n\u001b[0m\u001b[1;32m      4\u001b[0m \u001b[0;31m# MARVEL = Parallel(n_jobs=num_cores)(delayed(getMovieData)(name) for name in Marvel)\u001b[0m\u001b[0;34m\u001b[0m\u001b[0;34m\u001b[0m\u001b[0m\n\u001b[1;32m      5\u001b[0m \u001b[0;31m# OTHERS = Parallel(n_jobs=num_cores)(delayed(getMovieData)(name) for name in Others)\u001b[0m\u001b[0;34m\u001b[0m\u001b[0;34m\u001b[0m\u001b[0m\n",
      "\u001b[0;32m/Users/MotherBox/anaconda/lib/python2.7/site-packages/joblib/parallel.pyc\u001b[0m in \u001b[0;36m__call__\u001b[0;34m(self, iterable)\u001b[0m\n\u001b[1;32m    808\u001b[0m                 \u001b[0;31m# consumption.\u001b[0m\u001b[0;34m\u001b[0m\u001b[0;34m\u001b[0m\u001b[0m\n\u001b[1;32m    809\u001b[0m                 \u001b[0mself\u001b[0m\u001b[0;34m.\u001b[0m\u001b[0m_iterating\u001b[0m \u001b[0;34m=\u001b[0m \u001b[0mFalse\u001b[0m\u001b[0;34m\u001b[0m\u001b[0m\n\u001b[0;32m--> 810\u001b[0;31m             \u001b[0mself\u001b[0m\u001b[0;34m.\u001b[0m\u001b[0mretrieve\u001b[0m\u001b[0;34m(\u001b[0m\u001b[0;34m)\u001b[0m\u001b[0;34m\u001b[0m\u001b[0m\n\u001b[0m\u001b[1;32m    811\u001b[0m             \u001b[0;31m# Make sure that we get a last message telling us we are done\u001b[0m\u001b[0;34m\u001b[0m\u001b[0;34m\u001b[0m\u001b[0m\n\u001b[1;32m    812\u001b[0m             \u001b[0melapsed_time\u001b[0m \u001b[0;34m=\u001b[0m \u001b[0mtime\u001b[0m\u001b[0;34m.\u001b[0m\u001b[0mtime\u001b[0m\u001b[0;34m(\u001b[0m\u001b[0;34m)\u001b[0m \u001b[0;34m-\u001b[0m \u001b[0mself\u001b[0m\u001b[0;34m.\u001b[0m\u001b[0m_start_time\u001b[0m\u001b[0;34m\u001b[0m\u001b[0m\n",
      "\u001b[0;32m/Users/MotherBox/anaconda/lib/python2.7/site-packages/joblib/parallel.pyc\u001b[0m in \u001b[0;36mretrieve\u001b[0;34m(self)\u001b[0m\n\u001b[1;32m    755\u001b[0m                     \u001b[0;31m# a working pool as they expect.\u001b[0m\u001b[0;34m\u001b[0m\u001b[0;34m\u001b[0m\u001b[0m\n\u001b[1;32m    756\u001b[0m                     \u001b[0mself\u001b[0m\u001b[0;34m.\u001b[0m\u001b[0m_initialize_pool\u001b[0m\u001b[0;34m(\u001b[0m\u001b[0;34m)\u001b[0m\u001b[0;34m\u001b[0m\u001b[0m\n\u001b[0;32m--> 757\u001b[0;31m                 \u001b[0;32mraise\u001b[0m \u001b[0mexception\u001b[0m\u001b[0;34m\u001b[0m\u001b[0m\n\u001b[0m\u001b[1;32m    758\u001b[0m \u001b[0;34m\u001b[0m\u001b[0m\n\u001b[1;32m    759\u001b[0m     \u001b[0;32mdef\u001b[0m \u001b[0m__call__\u001b[0m\u001b[0;34m(\u001b[0m\u001b[0mself\u001b[0m\u001b[0;34m,\u001b[0m \u001b[0miterable\u001b[0m\u001b[0;34m)\u001b[0m\u001b[0;34m:\u001b[0m\u001b[0;34m\u001b[0m\u001b[0m\n",
      "\u001b[0;31mJoblibIndexError\u001b[0m: JoblibIndexError\n___________________________________________________________________________\nMultiprocessing exception:\n...........................................................................\n/Users/MotherBox/anaconda/lib/python2.7/runpy.py in _run_module_as_main(mod_name='ipykernel.__main__', alter_argv=1)\n    157     pkg_name = mod_name.rpartition('.')[0]\n    158     main_globals = sys.modules[\"__main__\"].__dict__\n    159     if alter_argv:\n    160         sys.argv[0] = fname\n    161     return _run_code(code, main_globals, None,\n--> 162                      \"__main__\", fname, loader, pkg_name)\n        fname = '/Users/MotherBox/anaconda/lib/python2.7/site-packages/ipykernel/__main__.py'\n        loader = <pkgutil.ImpLoader instance>\n        pkg_name = 'ipykernel'\n    163 \n    164 def run_module(mod_name, init_globals=None,\n    165                run_name=None, alter_sys=False):\n    166     \"\"\"Execute a module's code without importing it\n\n...........................................................................\n/Users/MotherBox/anaconda/lib/python2.7/runpy.py in _run_code(code=<code object <module> at 0x1007d8830, file \"/Use...2.7/site-packages/ipykernel/__main__.py\", line 1>, run_globals={'__builtins__': <module '__builtin__' (built-in)>, '__doc__': None, '__file__': '/Users/MotherBox/anaconda/lib/python2.7/site-packages/ipykernel/__main__.py', '__loader__': <pkgutil.ImpLoader instance>, '__name__': '__main__', '__package__': 'ipykernel', 'app': <module 'ipykernel.kernelapp' from '/Users/Mothe...python2.7/site-packages/ipykernel/kernelapp.pyc'>}, init_globals=None, mod_name='__main__', mod_fname='/Users/MotherBox/anaconda/lib/python2.7/site-packages/ipykernel/__main__.py', mod_loader=<pkgutil.ImpLoader instance>, pkg_name='ipykernel')\n     67         run_globals.update(init_globals)\n     68     run_globals.update(__name__ = mod_name,\n     69                        __file__ = mod_fname,\n     70                        __loader__ = mod_loader,\n     71                        __package__ = pkg_name)\n---> 72     exec code in run_globals\n        code = <code object <module> at 0x1007d8830, file \"/Use...2.7/site-packages/ipykernel/__main__.py\", line 1>\n        run_globals = {'__builtins__': <module '__builtin__' (built-in)>, '__doc__': None, '__file__': '/Users/MotherBox/anaconda/lib/python2.7/site-packages/ipykernel/__main__.py', '__loader__': <pkgutil.ImpLoader instance>, '__name__': '__main__', '__package__': 'ipykernel', 'app': <module 'ipykernel.kernelapp' from '/Users/Mothe...python2.7/site-packages/ipykernel/kernelapp.pyc'>}\n     73     return run_globals\n     74 \n     75 def _run_module_code(code, init_globals=None,\n     76                     mod_name=None, mod_fname=None,\n\n...........................................................................\n/Users/MotherBox/anaconda/lib/python2.7/site-packages/ipykernel/__main__.py in <module>()\n      1 \n      2 \n----> 3 \n      4 if __name__ == '__main__':\n      5     from ipykernel import kernelapp as app\n      6     app.launch_new_instance()\n      7 \n      8 \n      9 \n     10 \n\n...........................................................................\n/Users/MotherBox/anaconda/lib/python2.7/site-packages/traitlets/config/application.py in launch_instance(cls=<class 'ipykernel.kernelapp.IPKernelApp'>, argv=None, **kwargs={})\n    591         \n    592         If a global instance already exists, this reinitializes and starts it\n    593         \"\"\"\n    594         app = cls.instance(**kwargs)\n    595         app.initialize(argv)\n--> 596         app.start()\n        app.start = <bound method IPKernelApp.start of <ipykernel.kernelapp.IPKernelApp object>>\n    597 \n    598 #-----------------------------------------------------------------------------\n    599 # utility functions, for convenience\n    600 #-----------------------------------------------------------------------------\n\n...........................................................................\n/Users/MotherBox/anaconda/lib/python2.7/site-packages/ipykernel/kernelapp.py in start(self=<ipykernel.kernelapp.IPKernelApp object>)\n    437         \n    438         if self.poller is not None:\n    439             self.poller.start()\n    440         self.kernel.start()\n    441         try:\n--> 442             ioloop.IOLoop.instance().start()\n    443         except KeyboardInterrupt:\n    444             pass\n    445 \n    446 launch_new_instance = IPKernelApp.launch_instance\n\n...........................................................................\n/Users/MotherBox/anaconda/lib/python2.7/site-packages/zmq/eventloop/ioloop.py in start(self=<zmq.eventloop.ioloop.ZMQIOLoop object>)\n    157             PollIOLoop.configure(ZMQIOLoop)\n    158         return PollIOLoop.current(*args, **kwargs)\n    159     \n    160     def start(self):\n    161         try:\n--> 162             super(ZMQIOLoop, self).start()\n        self.start = <bound method ZMQIOLoop.start of <zmq.eventloop.ioloop.ZMQIOLoop object>>\n    163         except ZMQError as e:\n    164             if e.errno == ETERM:\n    165                 # quietly return on ETERM\n    166                 pass\n\n...........................................................................\n/Users/MotherBox/anaconda/lib/python2.7/site-packages/tornado/ioloop.py in start(self=<zmq.eventloop.ioloop.ZMQIOLoop object>)\n    878                 self._events.update(event_pairs)\n    879                 while self._events:\n    880                     fd, events = self._events.popitem()\n    881                     try:\n    882                         fd_obj, handler_func = self._handlers[fd]\n--> 883                         handler_func(fd_obj, events)\n        handler_func = <function null_wrapper>\n        fd_obj = <zmq.sugar.socket.Socket object>\n        events = 1\n    884                     except (OSError, IOError) as e:\n    885                         if errno_from_exception(e) == errno.EPIPE:\n    886                             # Happens when the client closes the connection\n    887                             pass\n\n...........................................................................\n/Users/MotherBox/anaconda/lib/python2.7/site-packages/tornado/stack_context.py in null_wrapper(*args=(<zmq.sugar.socket.Socket object>, 1), **kwargs={})\n    270         # Fast path when there are no active contexts.\n    271         def null_wrapper(*args, **kwargs):\n    272             try:\n    273                 current_state = _state.contexts\n    274                 _state.contexts = cap_contexts[0]\n--> 275                 return fn(*args, **kwargs)\n        args = (<zmq.sugar.socket.Socket object>, 1)\n        kwargs = {}\n    276             finally:\n    277                 _state.contexts = current_state\n    278         null_wrapper._wrapped = True\n    279         return null_wrapper\n\n...........................................................................\n/Users/MotherBox/anaconda/lib/python2.7/site-packages/zmq/eventloop/zmqstream.py in _handle_events(self=<zmq.eventloop.zmqstream.ZMQStream object>, fd=<zmq.sugar.socket.Socket object>, events=1)\n    435             # dispatch events:\n    436             if events & IOLoop.ERROR:\n    437                 gen_log.error(\"got POLLERR event on ZMQStream, which doesn't make sense\")\n    438                 return\n    439             if events & IOLoop.READ:\n--> 440                 self._handle_recv()\n        self._handle_recv = <bound method ZMQStream._handle_recv of <zmq.eventloop.zmqstream.ZMQStream object>>\n    441                 if not self.socket:\n    442                     return\n    443             if events & IOLoop.WRITE:\n    444                 self._handle_send()\n\n...........................................................................\n/Users/MotherBox/anaconda/lib/python2.7/site-packages/zmq/eventloop/zmqstream.py in _handle_recv(self=<zmq.eventloop.zmqstream.ZMQStream object>)\n    467                 gen_log.error(\"RECV Error: %s\"%zmq.strerror(e.errno))\n    468         else:\n    469             if self._recv_callback:\n    470                 callback = self._recv_callback\n    471                 # self._recv_callback = None\n--> 472                 self._run_callback(callback, msg)\n        self._run_callback = <bound method ZMQStream._run_callback of <zmq.eventloop.zmqstream.ZMQStream object>>\n        callback = <function null_wrapper>\n        msg = [<zmq.sugar.frame.Frame object>, <zmq.sugar.frame.Frame object>, <zmq.sugar.frame.Frame object>, <zmq.sugar.frame.Frame object>, <zmq.sugar.frame.Frame object>, <zmq.sugar.frame.Frame object>, <zmq.sugar.frame.Frame object>]\n    473                 \n    474         # self.update_state()\n    475         \n    476 \n\n...........................................................................\n/Users/MotherBox/anaconda/lib/python2.7/site-packages/zmq/eventloop/zmqstream.py in _run_callback(self=<zmq.eventloop.zmqstream.ZMQStream object>, callback=<function null_wrapper>, *args=([<zmq.sugar.frame.Frame object>, <zmq.sugar.frame.Frame object>, <zmq.sugar.frame.Frame object>, <zmq.sugar.frame.Frame object>, <zmq.sugar.frame.Frame object>, <zmq.sugar.frame.Frame object>, <zmq.sugar.frame.Frame object>],), **kwargs={})\n    409         close our socket.\"\"\"\n    410         try:\n    411             # Use a NullContext to ensure that all StackContexts are run\n    412             # inside our blanket exception handler rather than outside.\n    413             with stack_context.NullContext():\n--> 414                 callback(*args, **kwargs)\n        callback = <function null_wrapper>\n        args = ([<zmq.sugar.frame.Frame object>, <zmq.sugar.frame.Frame object>, <zmq.sugar.frame.Frame object>, <zmq.sugar.frame.Frame object>, <zmq.sugar.frame.Frame object>, <zmq.sugar.frame.Frame object>, <zmq.sugar.frame.Frame object>],)\n        kwargs = {}\n    415         except:\n    416             gen_log.error(\"Uncaught exception, closing connection.\",\n    417                           exc_info=True)\n    418             # Close the socket on an uncaught exception from a user callback\n\n...........................................................................\n/Users/MotherBox/anaconda/lib/python2.7/site-packages/tornado/stack_context.py in null_wrapper(*args=([<zmq.sugar.frame.Frame object>, <zmq.sugar.frame.Frame object>, <zmq.sugar.frame.Frame object>, <zmq.sugar.frame.Frame object>, <zmq.sugar.frame.Frame object>, <zmq.sugar.frame.Frame object>, <zmq.sugar.frame.Frame object>],), **kwargs={})\n    270         # Fast path when there are no active contexts.\n    271         def null_wrapper(*args, **kwargs):\n    272             try:\n    273                 current_state = _state.contexts\n    274                 _state.contexts = cap_contexts[0]\n--> 275                 return fn(*args, **kwargs)\n        args = ([<zmq.sugar.frame.Frame object>, <zmq.sugar.frame.Frame object>, <zmq.sugar.frame.Frame object>, <zmq.sugar.frame.Frame object>, <zmq.sugar.frame.Frame object>, <zmq.sugar.frame.Frame object>, <zmq.sugar.frame.Frame object>],)\n        kwargs = {}\n    276             finally:\n    277                 _state.contexts = current_state\n    278         null_wrapper._wrapped = True\n    279         return null_wrapper\n\n...........................................................................\n/Users/MotherBox/anaconda/lib/python2.7/site-packages/ipykernel/kernelbase.py in dispatcher(msg=[<zmq.sugar.frame.Frame object>, <zmq.sugar.frame.Frame object>, <zmq.sugar.frame.Frame object>, <zmq.sugar.frame.Frame object>, <zmq.sugar.frame.Frame object>, <zmq.sugar.frame.Frame object>, <zmq.sugar.frame.Frame object>])\n    271         if self.control_stream:\n    272             self.control_stream.on_recv(self.dispatch_control, copy=False)\n    273 \n    274         def make_dispatcher(stream):\n    275             def dispatcher(msg):\n--> 276                 return self.dispatch_shell(stream, msg)\n        msg = [<zmq.sugar.frame.Frame object>, <zmq.sugar.frame.Frame object>, <zmq.sugar.frame.Frame object>, <zmq.sugar.frame.Frame object>, <zmq.sugar.frame.Frame object>, <zmq.sugar.frame.Frame object>, <zmq.sugar.frame.Frame object>]\n    277             return dispatcher\n    278 \n    279         for s in self.shell_streams:\n    280             s.on_recv(make_dispatcher(s), copy=False)\n\n...........................................................................\n/Users/MotherBox/anaconda/lib/python2.7/site-packages/ipykernel/kernelbase.py in dispatch_shell(self=<ipykernel.ipkernel.IPythonKernel object>, stream=<zmq.eventloop.zmqstream.ZMQStream object>, msg={'buffers': [], 'content': {u'allow_stdin': True, u'code': u\"%%capture\\n\\n\\nDC = Parallel(n_jobs=num_cores)...ection_names(include_system_collections=False)\\n\", u'silent': False, u'stop_on_error': True, u'store_history': True, u'user_expressions': {}}, 'header': {'date': '2016-08-18T21:15:09.024959', u'msg_id': u'DD497E51E0DC4B1987E2B8D861B0E065', u'msg_type': u'execute_request', u'session': u'E0D87CA5C46E4E2C85DCE7C0AC1B465F', u'username': u'username', u'version': u'5.0'}, 'metadata': {}, 'msg_id': u'DD497E51E0DC4B1987E2B8D861B0E065', 'msg_type': u'execute_request', 'parent_header': {}})\n    223             self.log.error(\"UNKNOWN MESSAGE TYPE: %r\", msg_type)\n    224         else:\n    225             self.log.debug(\"%s: %s\", msg_type, msg)\n    226             self.pre_handler_hook()\n    227             try:\n--> 228                 handler(stream, idents, msg)\n        handler = <bound method IPythonKernel.execute_request of <ipykernel.ipkernel.IPythonKernel object>>\n        stream = <zmq.eventloop.zmqstream.ZMQStream object>\n        idents = ['E0D87CA5C46E4E2C85DCE7C0AC1B465F']\n        msg = {'buffers': [], 'content': {u'allow_stdin': True, u'code': u\"%%capture\\n\\n\\nDC = Parallel(n_jobs=num_cores)...ection_names(include_system_collections=False)\\n\", u'silent': False, u'stop_on_error': True, u'store_history': True, u'user_expressions': {}}, 'header': {'date': '2016-08-18T21:15:09.024959', u'msg_id': u'DD497E51E0DC4B1987E2B8D861B0E065', u'msg_type': u'execute_request', u'session': u'E0D87CA5C46E4E2C85DCE7C0AC1B465F', u'username': u'username', u'version': u'5.0'}, 'metadata': {}, 'msg_id': u'DD497E51E0DC4B1987E2B8D861B0E065', 'msg_type': u'execute_request', 'parent_header': {}}\n    229             except Exception:\n    230                 self.log.error(\"Exception in message handler:\", exc_info=True)\n    231             finally:\n    232                 self.post_handler_hook()\n\n...........................................................................\n/Users/MotherBox/anaconda/lib/python2.7/site-packages/ipykernel/kernelbase.py in execute_request(self=<ipykernel.ipkernel.IPythonKernel object>, stream=<zmq.eventloop.zmqstream.ZMQStream object>, ident=['E0D87CA5C46E4E2C85DCE7C0AC1B465F'], parent={'buffers': [], 'content': {u'allow_stdin': True, u'code': u\"%%capture\\n\\n\\nDC = Parallel(n_jobs=num_cores)...ection_names(include_system_collections=False)\\n\", u'silent': False, u'stop_on_error': True, u'store_history': True, u'user_expressions': {}}, 'header': {'date': '2016-08-18T21:15:09.024959', u'msg_id': u'DD497E51E0DC4B1987E2B8D861B0E065', u'msg_type': u'execute_request', u'session': u'E0D87CA5C46E4E2C85DCE7C0AC1B465F', u'username': u'username', u'version': u'5.0'}, 'metadata': {}, 'msg_id': u'DD497E51E0DC4B1987E2B8D861B0E065', 'msg_type': u'execute_request', 'parent_header': {}})\n    386         if not silent:\n    387             self.execution_count += 1\n    388             self._publish_execute_input(code, parent, self.execution_count)\n    389 \n    390         reply_content = self.do_execute(code, silent, store_history,\n--> 391                                         user_expressions, allow_stdin)\n        user_expressions = {}\n        allow_stdin = True\n    392 \n    393         # Flush output before sending the reply.\n    394         sys.stdout.flush()\n    395         sys.stderr.flush()\n\n...........................................................................\n/Users/MotherBox/anaconda/lib/python2.7/site-packages/ipykernel/ipkernel.py in do_execute(self=<ipykernel.ipkernel.IPythonKernel object>, code=u\"%%capture\\n\\n\\nDC = Parallel(n_jobs=num_cores)...ection_names(include_system_collections=False)\\n\", silent=False, store_history=True, user_expressions={}, allow_stdin=True)\n    194 \n    195         reply_content = {}\n    196         # FIXME: the shell calls the exception handler itself.\n    197         shell._reply_content = None\n    198         try:\n--> 199             shell.run_cell(code, store_history=store_history, silent=silent)\n        shell.run_cell = <bound method ZMQInteractiveShell.run_cell of <ipykernel.zmqshell.ZMQInteractiveShell object>>\n        code = u\"%%capture\\n\\n\\nDC = Parallel(n_jobs=num_cores)...ection_names(include_system_collections=False)\\n\"\n        store_history = True\n        silent = False\n    200         except:\n    201             status = u'error'\n    202             # FIXME: this code right now isn't being used yet by default,\n    203             # because the run_cell() call above directly fires off exception\n\n...........................................................................\n/Users/MotherBox/anaconda/lib/python2.7/site-packages/IPython/core/interactiveshell.py in run_cell(self=<ipykernel.zmqshell.ZMQInteractiveShell object>, raw_cell=u\"%%capture\\n\\n\\nDC = Parallel(n_jobs=num_cores)...ection_names(include_system_collections=False)\\n\", store_history=True, silent=False, shell_futures=True)\n   2718                 self.displayhook.exec_result = result\n   2719 \n   2720                 # Execute the user code\n   2721                 interactivity = \"none\" if silent else self.ast_node_interactivity\n   2722                 self.run_ast_nodes(code_ast.body, cell_name,\n-> 2723                    interactivity=interactivity, compiler=compiler, result=result)\n        interactivity = 'last_expr'\n        compiler = <IPython.core.compilerop.CachingCompiler instance>\n   2724 \n   2725                 # Reset this so later displayed values do not modify the\n   2726                 # ExecutionResult\n   2727                 self.displayhook.exec_result = None\n\n...........................................................................\n/Users/MotherBox/anaconda/lib/python2.7/site-packages/IPython/core/interactiveshell.py in run_ast_nodes(self=<ipykernel.zmqshell.ZMQInteractiveShell object>, nodelist=[<_ast.Expr object>], cell_name='<ipython-input-10-0df30bf33a30>', interactivity='last', compiler=<IPython.core.compilerop.CachingCompiler instance>, result=<IPython.core.interactiveshell.ExecutionResult object>)\n   2826                     return True\n   2827 \n   2828             for i, node in enumerate(to_run_interactive):\n   2829                 mod = ast.Interactive([node])\n   2830                 code = compiler(mod, cell_name, \"single\")\n-> 2831                 if self.run_code(code, result):\n        self.run_code = <bound method ZMQInteractiveShell.run_code of <ipykernel.zmqshell.ZMQInteractiveShell object>>\n        code = <code object <module> at 0x1040128b0, file \"<ipython-input-10-0df30bf33a30>\", line 1>\n        result = <IPython.core.interactiveshell.ExecutionResult object>\n   2832                     return True\n   2833 \n   2834             # Flush softspace\n   2835             if softspace(sys.stdout, 0):\n\n...........................................................................\n/Users/MotherBox/anaconda/lib/python2.7/site-packages/IPython/core/interactiveshell.py in run_code(self=<ipykernel.zmqshell.ZMQInteractiveShell object>, code_obj=<code object <module> at 0x1040128b0, file \"<ipython-input-10-0df30bf33a30>\", line 1>, result=<IPython.core.interactiveshell.ExecutionResult object>)\n   2880         outflag = 1  # happens in more places, so it's easier as default\n   2881         try:\n   2882             try:\n   2883                 self.hooks.pre_run_code_hook()\n   2884                 #rprint('Running code', repr(code_obj)) # dbg\n-> 2885                 exec(code_obj, self.user_global_ns, self.user_ns)\n        code_obj = <code object <module> at 0x1040128b0, file \"<ipython-input-10-0df30bf33a30>\", line 1>\n        self.user_global_ns = {'Dc': ['batman', 'batman3', 'batmanbegins', 'batmanforever', 'batmanmaskofthephantasm', 'batmanreturns', 'batmanrobin', 'catwoman', 'constantine', 'darkknight', 'greenlantern', 'jonahhex', 'losers', 'red2', 'red2010', 'steel', 'supergirl', 'superman', 'superman06', 'superman2', ...], 'Dc_titles': ['Batman', 'The Dark Knight Rises', 'Batman Begins', 'Batman Forever', 'Batman: Mask of the Phantasm', 'Batman Returns', 'Batman Robin', 'Catwoman', 'Constantine', 'The Dark Knight', 'Green Lantern', 'Jonah Hex', 'The Losers', 'Red 2', 'Red', 'Steel', 'Supergirl', 'Superman', 'Superman Returns', 'Superman II', ...], 'In': ['', u\"##### BOM_insert_id = ObjectId('57b26905c54d2d...llection_names(include_system_collections=False)\", u'db.box_office_mojo.drop()\\ndb.omdb_critics.dro...llection_names(include_system_collections=False)', u'mongo = db.box_office_mojo', u'def getMovieData(name):\\n    \\n    import json...n            \\n    return Features\\n            ', u'Marvel =[\\n       \\'amazingspiderman2\\', \\'ant...en: Days of Future Past\",\"X-Men: First Class\"\\n]', u'\\n\\nDc = [ \\'batman\\', \\'batman3\\', \\'batmanbe...or Peace\", \\n    \"V for Vendetta\", \"Watchmen\"\\n]', u'Others_titles = [\\n    \"2 Guns\",\"300\",\"300: Ri...whiteout\\', \\'xfiles2\\', \\'zoom\\', \\'zorro2\\'\\n]', u'len(Others)', u'len(Others_titles)', u'get_ipython().run_cell_magic(u\\'capture\\', u\\'...ection_names(include_system_collections=False)\")'], 'Marvel': ['amazingspiderman2', 'antman', 'avengers11', 'avengers2', 'blade', 'blade2', 'blade3', 'captainamerica', 'daredevil', 'deadpool2016', 'disney2014', 'elektra', 'fantasticfour', 'fantasticfour15', 'fantasticfour2', 'ghostrider', 'ghostrider2', 'howardtheduck', 'hulk', 'incrediblehulk', ...], 'Marvel_titles': ['The Amazing Spider-Man 2', 'Ant-Man', \"Marvel's The Avengers\", 'Avengers: Age of Ultron', 'Blade', 'Blade II', 'Blade: Trinity', 'Captain America: The First Avenger', 'Daredevil', 'Deadpool', 'Big Hero 6', 'Elektra', 'Fantastic Four(2005)', 'Fantastic Four(2015)', 'Fantastic Four: Rise of the Silver Surfer', 'Ghost Rider', 'Ghost Rider: Spirit of Vengeance', 'Howard The Duck', 'Hulk', 'The Incredible Hulk', ...], 'MongoClient': <class 'pymongo.mongo_client.MongoClient'>, 'Others': ['2guns', '300', '300sequel', '30daysofnight', 'americansplendor', 'avp', 'avp2', 'blackmask', 'buffythevampireslayer', 'bulletproofmonk', 'bullettothehead', 'casper', 'chronicle2012', 'cowboysandaliens', 'crow', 'crowcityofangels', 'darkman', 'diaryofateenagegirl', 'dicktracy', 'dredd', ...], 'Others_titles': ['2 Guns', '300', '300: Rise of an Empire', '30 Days of Night', 'American Splendor', 'Alien vs Predator', 'Alien vs Predator Requiem', 'Black Mask', 'Buffy the Vampire Slayer', 'Bulletproof Monk', 'Bullet to the Head', 'Casper', 'Chronicle (2012)', 'Cowboys & Aliens', 'The Crow', 'The Crow:City of Angels', 'Darkman', 'The Diary of a Teenage Girl', 'Dick Tracy', 'Dredd', ...], 'Out': {1: [], 2: [], 8: 81, 9: 81}, 'Parallel': <class 'joblib.parallel.Parallel'>, ...}\n        self.user_ns = {'Dc': ['batman', 'batman3', 'batmanbegins', 'batmanforever', 'batmanmaskofthephantasm', 'batmanreturns', 'batmanrobin', 'catwoman', 'constantine', 'darkknight', 'greenlantern', 'jonahhex', 'losers', 'red2', 'red2010', 'steel', 'supergirl', 'superman', 'superman06', 'superman2', ...], 'Dc_titles': ['Batman', 'The Dark Knight Rises', 'Batman Begins', 'Batman Forever', 'Batman: Mask of the Phantasm', 'Batman Returns', 'Batman Robin', 'Catwoman', 'Constantine', 'The Dark Knight', 'Green Lantern', 'Jonah Hex', 'The Losers', 'Red 2', 'Red', 'Steel', 'Supergirl', 'Superman', 'Superman Returns', 'Superman II', ...], 'In': ['', u\"##### BOM_insert_id = ObjectId('57b26905c54d2d...llection_names(include_system_collections=False)\", u'db.box_office_mojo.drop()\\ndb.omdb_critics.dro...llection_names(include_system_collections=False)', u'mongo = db.box_office_mojo', u'def getMovieData(name):\\n    \\n    import json...n            \\n    return Features\\n            ', u'Marvel =[\\n       \\'amazingspiderman2\\', \\'ant...en: Days of Future Past\",\"X-Men: First Class\"\\n]', u'\\n\\nDc = [ \\'batman\\', \\'batman3\\', \\'batmanbe...or Peace\", \\n    \"V for Vendetta\", \"Watchmen\"\\n]', u'Others_titles = [\\n    \"2 Guns\",\"300\",\"300: Ri...whiteout\\', \\'xfiles2\\', \\'zoom\\', \\'zorro2\\'\\n]', u'len(Others)', u'len(Others_titles)', u'get_ipython().run_cell_magic(u\\'capture\\', u\\'...ection_names(include_system_collections=False)\")'], 'Marvel': ['amazingspiderman2', 'antman', 'avengers11', 'avengers2', 'blade', 'blade2', 'blade3', 'captainamerica', 'daredevil', 'deadpool2016', 'disney2014', 'elektra', 'fantasticfour', 'fantasticfour15', 'fantasticfour2', 'ghostrider', 'ghostrider2', 'howardtheduck', 'hulk', 'incrediblehulk', ...], 'Marvel_titles': ['The Amazing Spider-Man 2', 'Ant-Man', \"Marvel's The Avengers\", 'Avengers: Age of Ultron', 'Blade', 'Blade II', 'Blade: Trinity', 'Captain America: The First Avenger', 'Daredevil', 'Deadpool', 'Big Hero 6', 'Elektra', 'Fantastic Four(2005)', 'Fantastic Four(2015)', 'Fantastic Four: Rise of the Silver Surfer', 'Ghost Rider', 'Ghost Rider: Spirit of Vengeance', 'Howard The Duck', 'Hulk', 'The Incredible Hulk', ...], 'MongoClient': <class 'pymongo.mongo_client.MongoClient'>, 'Others': ['2guns', '300', '300sequel', '30daysofnight', 'americansplendor', 'avp', 'avp2', 'blackmask', 'buffythevampireslayer', 'bulletproofmonk', 'bullettothehead', 'casper', 'chronicle2012', 'cowboysandaliens', 'crow', 'crowcityofangels', 'darkman', 'diaryofateenagegirl', 'dicktracy', 'dredd', ...], 'Others_titles': ['2 Guns', '300', '300: Rise of an Empire', '30 Days of Night', 'American Splendor', 'Alien vs Predator', 'Alien vs Predator Requiem', 'Black Mask', 'Buffy the Vampire Slayer', 'Bulletproof Monk', 'Bullet to the Head', 'Casper', 'Chronicle (2012)', 'Cowboys & Aliens', 'The Crow', 'The Crow:City of Angels', 'Darkman', 'The Diary of a Teenage Girl', 'Dick Tracy', 'Dredd', ...], 'Out': {1: [], 2: [], 8: 81, 9: 81}, 'Parallel': <class 'joblib.parallel.Parallel'>, ...}\n   2886             finally:\n   2887                 # Reset our crash handler in place\n   2888                 sys.excepthook = old_excepthook\n   2889         except SystemExit as e:\n\n...........................................................................\n/Users/MotherBox/Documents/GitHub/CBM/Pyton/<ipython-input-10-0df30bf33a30> in <module>()\n----> 1 \n      2 \n      3 \n      4 \n      5 \n      6 get_ipython().run_cell_magic(u'capture', u'', u\"\\n\\nDC = Parallel(n_jobs=num_cores)(delayed(getMovieData)(name) for name in Dc)\\n# MARVEL = Parallel(n_jobs=num_cores)(delayed(getMovieData)(name) for name in Marvel)\\n# OTHERS = Parallel(n_jobs=num_cores)(delayed(getMovieData)(name) for name in Others)\\n\\n# M = {}\\n# D = {}\\n# O = {}\\n\\n# for k in range(len(MARVEL)):\\n#     M[Marvel_titles[k]]= MARVEL[k]\\n    \\n# for k in range(len(DC)):\\n#     D[Dc_titles[k]]= DC[k]\\n    \\n# for k in range(len(OTHERS)):\\n#     O[Others_titles[k]]= OTHERS[k]\\n\\n# Data = {}\\n# Data['Marvel'] = M\\n# Data['DC'] = D\\n# Data['Others'] = O\\n\\n# del M\\n# del D\\n# del O\\n# del Marvel_titles\\n# del Dc_titles\\n# del Others_titles\\n\\n\\n\\n# BOM_insert_id = mongo.insert_one(Data).inserted_id\\n# db.collection_names(include_system_collections=False)\")\n      7 \n      8 \n      9 \n     10 \n\n...........................................................................\n/Users/MotherBox/anaconda/lib/python2.7/site-packages/IPython/core/interactiveshell.py in run_cell_magic(self=<ipykernel.zmqshell.ZMQInteractiveShell object>, magic_name=u'capture', line=u'', cell=u\"\\n\\nDC = Parallel(n_jobs=num_cores)(delayed(ge...llection_names(include_system_collections=False)\")\n   2115             # This will need to be updated if the internal calling logic gets\n   2116             # refactored, or else we'll be expanding the wrong variables.\n   2117             stack_depth = 2\n   2118             magic_arg_s = self.var_expand(line, stack_depth)\n   2119             with self.builtin_trap:\n-> 2120                 result = fn(magic_arg_s, cell)\n        result = undefined\n        fn = <bound method ExecutionMagics.capture of <IPython.core.magics.execution.ExecutionMagics object>>\n        magic_arg_s = u''\n        cell = u\"\\n\\nDC = Parallel(n_jobs=num_cores)(delayed(ge...llection_names(include_system_collections=False)\"\n   2121             return result\n   2122 \n   2123     def find_line_magic(self, magic_name):\n   2124         \"\"\"Find and return a line magic by name.\n\n...........................................................................\n/Users/MotherBox/Documents/GitHub/CBM/Pyton/<decorator-gen-62> in capture(self=<IPython.core.magics.execution.ExecutionMagics object>, line=u'', cell=u\"\\n\\nDC = Parallel(n_jobs=num_cores)(delayed(ge...llection_names(include_system_collections=False)\")\n      1 \n----> 2 \n      3 \n      4 \n      5 \n      6 \n      7 \n      8 \n      9 \n     10 \n\n...........................................................................\n/Users/MotherBox/anaconda/lib/python2.7/site-packages/IPython/core/magic.py in <lambda>(f=<function capture>, *a=(<IPython.core.magics.execution.ExecutionMagics object>, u'', u\"\\n\\nDC = Parallel(n_jobs=num_cores)(delayed(ge...llection_names(include_system_collections=False)\"), **k={})\n    188     validate_type(magic_kind)\n    189 \n    190     # This is a closure to capture the magic_kind.  We could also use a class,\n    191     # but it's overkill for just that one bit of state.\n    192     def magic_deco(arg):\n--> 193         call = lambda f, *a, **k: f(*a, **k)\n        f = <function capture>\n        a = (<IPython.core.magics.execution.ExecutionMagics object>, u'', u\"\\n\\nDC = Parallel(n_jobs=num_cores)(delayed(ge...llection_names(include_system_collections=False)\")\n        k = {}\n    194 \n    195         if callable(arg):\n    196             # \"Naked\" decorator call (just @foo, no args)\n    197             func = arg\n\n...........................................................................\n/Users/MotherBox/anaconda/lib/python2.7/site-packages/IPython/core/magics/execution.py in capture(self=<IPython.core.magics.execution.ExecutionMagics object>, line=u'', cell=u\"\\n\\nDC = Parallel(n_jobs=num_cores)(delayed(ge...llection_names(include_system_collections=False)\")\n   1307         args = magic_arguments.parse_argstring(self.capture, line)\n   1308         out = not args.no_stdout\n   1309         err = not args.no_stderr\n   1310         disp = not args.no_display\n   1311         with capture_output(out, err, disp) as io:\n-> 1312             self.shell.run_cell(cell)\n        self.shell.run_cell = <bound method ZMQInteractiveShell.run_cell of <ipykernel.zmqshell.ZMQInteractiveShell object>>\n        cell = u\"\\n\\nDC = Parallel(n_jobs=num_cores)(delayed(ge...llection_names(include_system_collections=False)\"\n   1313         if args.output:\n   1314             self.shell.user_ns[args.output] = io\n   1315 \n   1316 def parse_breakpoint(text, current_file):\n\n...........................................................................\n/Users/MotherBox/anaconda/lib/python2.7/site-packages/IPython/core/interactiveshell.py in run_cell(self=<ipykernel.zmqshell.ZMQInteractiveShell object>, raw_cell=u\"\\n\\nDC = Parallel(n_jobs=num_cores)(delayed(ge...llection_names(include_system_collections=False)\", store_history=False, silent=False, shell_futures=True)\n   2718                 self.displayhook.exec_result = result\n   2719 \n   2720                 # Execute the user code\n   2721                 interactivity = \"none\" if silent else self.ast_node_interactivity\n   2722                 self.run_ast_nodes(code_ast.body, cell_name,\n-> 2723                    interactivity=interactivity, compiler=compiler, result=result)\n        interactivity = 'last_expr'\n        compiler = <IPython.core.compilerop.CachingCompiler instance>\n   2724 \n   2725                 # Reset this so later displayed values do not modify the\n   2726                 # ExecutionResult\n   2727                 self.displayhook.exec_result = None\n\n...........................................................................\n/Users/MotherBox/anaconda/lib/python2.7/site-packages/IPython/core/interactiveshell.py in run_ast_nodes(self=<ipykernel.zmqshell.ZMQInteractiveShell object>, nodelist=[<_ast.Assign object>], cell_name='<ipython-input-10-1c1153e10d29>', interactivity='none', compiler=<IPython.core.compilerop.CachingCompiler instance>, result=<IPython.core.interactiveshell.ExecutionResult object>)\n   2820 \n   2821         try:\n   2822             for i, node in enumerate(to_run_exec):\n   2823                 mod = ast.Module([node])\n   2824                 code = compiler(mod, cell_name, \"exec\")\n-> 2825                 if self.run_code(code, result):\n        self.run_code = <bound method ZMQInteractiveShell.run_code of <ipykernel.zmqshell.ZMQInteractiveShell object>>\n        code = <code object <module> at 0x1091a9130, file \"<ipython-input-10-1c1153e10d29>\", line 3>\n        result = <IPython.core.interactiveshell.ExecutionResult object>\n   2826                     return True\n   2827 \n   2828             for i, node in enumerate(to_run_interactive):\n   2829                 mod = ast.Interactive([node])\n\n...........................................................................\n/Users/MotherBox/anaconda/lib/python2.7/site-packages/IPython/core/interactiveshell.py in run_code(self=<ipykernel.zmqshell.ZMQInteractiveShell object>, code_obj=<code object <module> at 0x1091a9130, file \"<ipython-input-10-1c1153e10d29>\", line 3>, result=<IPython.core.interactiveshell.ExecutionResult object>)\n   2880         outflag = 1  # happens in more places, so it's easier as default\n   2881         try:\n   2882             try:\n   2883                 self.hooks.pre_run_code_hook()\n   2884                 #rprint('Running code', repr(code_obj)) # dbg\n-> 2885                 exec(code_obj, self.user_global_ns, self.user_ns)\n        code_obj = <code object <module> at 0x1091a9130, file \"<ipython-input-10-1c1153e10d29>\", line 3>\n        self.user_global_ns = {'Dc': ['batman', 'batman3', 'batmanbegins', 'batmanforever', 'batmanmaskofthephantasm', 'batmanreturns', 'batmanrobin', 'catwoman', 'constantine', 'darkknight', 'greenlantern', 'jonahhex', 'losers', 'red2', 'red2010', 'steel', 'supergirl', 'superman', 'superman06', 'superman2', ...], 'Dc_titles': ['Batman', 'The Dark Knight Rises', 'Batman Begins', 'Batman Forever', 'Batman: Mask of the Phantasm', 'Batman Returns', 'Batman Robin', 'Catwoman', 'Constantine', 'The Dark Knight', 'Green Lantern', 'Jonah Hex', 'The Losers', 'Red 2', 'Red', 'Steel', 'Supergirl', 'Superman', 'Superman Returns', 'Superman II', ...], 'In': ['', u\"##### BOM_insert_id = ObjectId('57b26905c54d2d...llection_names(include_system_collections=False)\", u'db.box_office_mojo.drop()\\ndb.omdb_critics.dro...llection_names(include_system_collections=False)', u'mongo = db.box_office_mojo', u'def getMovieData(name):\\n    \\n    import json...n            \\n    return Features\\n            ', u'Marvel =[\\n       \\'amazingspiderman2\\', \\'ant...en: Days of Future Past\",\"X-Men: First Class\"\\n]', u'\\n\\nDc = [ \\'batman\\', \\'batman3\\', \\'batmanbe...or Peace\", \\n    \"V for Vendetta\", \"Watchmen\"\\n]', u'Others_titles = [\\n    \"2 Guns\",\"300\",\"300: Ri...whiteout\\', \\'xfiles2\\', \\'zoom\\', \\'zorro2\\'\\n]', u'len(Others)', u'len(Others_titles)', u'get_ipython().run_cell_magic(u\\'capture\\', u\\'...ection_names(include_system_collections=False)\")'], 'Marvel': ['amazingspiderman2', 'antman', 'avengers11', 'avengers2', 'blade', 'blade2', 'blade3', 'captainamerica', 'daredevil', 'deadpool2016', 'disney2014', 'elektra', 'fantasticfour', 'fantasticfour15', 'fantasticfour2', 'ghostrider', 'ghostrider2', 'howardtheduck', 'hulk', 'incrediblehulk', ...], 'Marvel_titles': ['The Amazing Spider-Man 2', 'Ant-Man', \"Marvel's The Avengers\", 'Avengers: Age of Ultron', 'Blade', 'Blade II', 'Blade: Trinity', 'Captain America: The First Avenger', 'Daredevil', 'Deadpool', 'Big Hero 6', 'Elektra', 'Fantastic Four(2005)', 'Fantastic Four(2015)', 'Fantastic Four: Rise of the Silver Surfer', 'Ghost Rider', 'Ghost Rider: Spirit of Vengeance', 'Howard The Duck', 'Hulk', 'The Incredible Hulk', ...], 'MongoClient': <class 'pymongo.mongo_client.MongoClient'>, 'Others': ['2guns', '300', '300sequel', '30daysofnight', 'americansplendor', 'avp', 'avp2', 'blackmask', 'buffythevampireslayer', 'bulletproofmonk', 'bullettothehead', 'casper', 'chronicle2012', 'cowboysandaliens', 'crow', 'crowcityofangels', 'darkman', 'diaryofateenagegirl', 'dicktracy', 'dredd', ...], 'Others_titles': ['2 Guns', '300', '300: Rise of an Empire', '30 Days of Night', 'American Splendor', 'Alien vs Predator', 'Alien vs Predator Requiem', 'Black Mask', 'Buffy the Vampire Slayer', 'Bulletproof Monk', 'Bullet to the Head', 'Casper', 'Chronicle (2012)', 'Cowboys & Aliens', 'The Crow', 'The Crow:City of Angels', 'Darkman', 'The Diary of a Teenage Girl', 'Dick Tracy', 'Dredd', ...], 'Out': {1: [], 2: [], 8: 81, 9: 81}, 'Parallel': <class 'joblib.parallel.Parallel'>, ...}\n        self.user_ns = {'Dc': ['batman', 'batman3', 'batmanbegins', 'batmanforever', 'batmanmaskofthephantasm', 'batmanreturns', 'batmanrobin', 'catwoman', 'constantine', 'darkknight', 'greenlantern', 'jonahhex', 'losers', 'red2', 'red2010', 'steel', 'supergirl', 'superman', 'superman06', 'superman2', ...], 'Dc_titles': ['Batman', 'The Dark Knight Rises', 'Batman Begins', 'Batman Forever', 'Batman: Mask of the Phantasm', 'Batman Returns', 'Batman Robin', 'Catwoman', 'Constantine', 'The Dark Knight', 'Green Lantern', 'Jonah Hex', 'The Losers', 'Red 2', 'Red', 'Steel', 'Supergirl', 'Superman', 'Superman Returns', 'Superman II', ...], 'In': ['', u\"##### BOM_insert_id = ObjectId('57b26905c54d2d...llection_names(include_system_collections=False)\", u'db.box_office_mojo.drop()\\ndb.omdb_critics.dro...llection_names(include_system_collections=False)', u'mongo = db.box_office_mojo', u'def getMovieData(name):\\n    \\n    import json...n            \\n    return Features\\n            ', u'Marvel =[\\n       \\'amazingspiderman2\\', \\'ant...en: Days of Future Past\",\"X-Men: First Class\"\\n]', u'\\n\\nDc = [ \\'batman\\', \\'batman3\\', \\'batmanbe...or Peace\", \\n    \"V for Vendetta\", \"Watchmen\"\\n]', u'Others_titles = [\\n    \"2 Guns\",\"300\",\"300: Ri...whiteout\\', \\'xfiles2\\', \\'zoom\\', \\'zorro2\\'\\n]', u'len(Others)', u'len(Others_titles)', u'get_ipython().run_cell_magic(u\\'capture\\', u\\'...ection_names(include_system_collections=False)\")'], 'Marvel': ['amazingspiderman2', 'antman', 'avengers11', 'avengers2', 'blade', 'blade2', 'blade3', 'captainamerica', 'daredevil', 'deadpool2016', 'disney2014', 'elektra', 'fantasticfour', 'fantasticfour15', 'fantasticfour2', 'ghostrider', 'ghostrider2', 'howardtheduck', 'hulk', 'incrediblehulk', ...], 'Marvel_titles': ['The Amazing Spider-Man 2', 'Ant-Man', \"Marvel's The Avengers\", 'Avengers: Age of Ultron', 'Blade', 'Blade II', 'Blade: Trinity', 'Captain America: The First Avenger', 'Daredevil', 'Deadpool', 'Big Hero 6', 'Elektra', 'Fantastic Four(2005)', 'Fantastic Four(2015)', 'Fantastic Four: Rise of the Silver Surfer', 'Ghost Rider', 'Ghost Rider: Spirit of Vengeance', 'Howard The Duck', 'Hulk', 'The Incredible Hulk', ...], 'MongoClient': <class 'pymongo.mongo_client.MongoClient'>, 'Others': ['2guns', '300', '300sequel', '30daysofnight', 'americansplendor', 'avp', 'avp2', 'blackmask', 'buffythevampireslayer', 'bulletproofmonk', 'bullettothehead', 'casper', 'chronicle2012', 'cowboysandaliens', 'crow', 'crowcityofangels', 'darkman', 'diaryofateenagegirl', 'dicktracy', 'dredd', ...], 'Others_titles': ['2 Guns', '300', '300: Rise of an Empire', '30 Days of Night', 'American Splendor', 'Alien vs Predator', 'Alien vs Predator Requiem', 'Black Mask', 'Buffy the Vampire Slayer', 'Bulletproof Monk', 'Bullet to the Head', 'Casper', 'Chronicle (2012)', 'Cowboys & Aliens', 'The Crow', 'The Crow:City of Angels', 'Darkman', 'The Diary of a Teenage Girl', 'Dick Tracy', 'Dredd', ...], 'Out': {1: [], 2: [], 8: 81, 9: 81}, 'Parallel': <class 'joblib.parallel.Parallel'>, ...}\n   2886             finally:\n   2887                 # Reset our crash handler in place\n   2888                 sys.excepthook = old_excepthook\n   2889         except SystemExit as e:\n\n...........................................................................\n/Users/MotherBox/Documents/GitHub/CBM/Pyton/<ipython-input-10-1c1153e10d29> in <module>()\n      1 \n      2 \n----> 3 \n      4 \n      5 \n      6 DC = Parallel(n_jobs=num_cores)(delayed(getMovieData)(name) for name in Dc)\n      7 # MARVEL = Parallel(n_jobs=num_cores)(delayed(getMovieData)(name) for name in Marvel)\n      8 # OTHERS = Parallel(n_jobs=num_cores)(delayed(getMovieData)(name) for name in Others)\n      9 \n     10 # M = {}\n     11 # D = {}\n     12 # O = {}\n     13 \n\n...........................................................................\n/Users/MotherBox/anaconda/lib/python2.7/site-packages/joblib/parallel.py in __call__(self=Parallel(n_jobs=4), iterable=<generator object <genexpr>>)\n    805             if pre_dispatch == \"all\" or n_jobs == 1:\n    806                 # The iterable was consumed all at once by the above for loop.\n    807                 # No need to wait for async callbacks to trigger to\n    808                 # consumption.\n    809                 self._iterating = False\n--> 810             self.retrieve()\n        self.retrieve = <bound method Parallel.retrieve of Parallel(n_jobs=4)>\n    811             # Make sure that we get a last message telling us we are done\n    812             elapsed_time = time.time() - self._start_time\n    813             self._print('Done %3i out of %3i | elapsed: %s finished',\n    814                         (len(self._output), len(self._output),\n\n---------------------------------------------------------------------------\nSub-process traceback:\n---------------------------------------------------------------------------\nIndexError                                         Thu Aug 18 21:17:13 2016\nPID: 7349               Python 2.7.11: /Users/MotherBox/anaconda/bin/python\n...........................................................................\n/Users/MotherBox/anaconda/lib/python2.7/site-packages/joblib/parallel.py in __call__(self=<joblib.parallel.BatchedCalls object>)\n     67     def __init__(self, iterator_slice):\n     68         self.items = list(iterator_slice)\n     69         self._size = len(self.items)\n     70 \n     71     def __call__(self):\n---> 72         return [func(*args, **kwargs) for func, args, kwargs in self.items]\n        func = <function getMovieData>\n        args = ('constantine',)\n        kwargs = {}\n        self.items = [(<function getMovieData>, ('constantine',), {})]\n     73 \n     74     def __len__(self):\n     75         return self._size\n     76 \n\n...........................................................................\n/Users/MotherBox/Documents/GitHub/CBM/Pyton/<ipython-input-4-5c069d97a9fe> in getMovieData(name='constantine')\n      3     import json\n      4     import boxofficemojoAPI as bom\n      5    \n      6     \n      7     bo = bom.BoxOfficeMojo()\n----> 8     bo.crawl_for_urls()\n      9     data1 = bo.get_movie_summary(name)\n     10     data1.clean_data()\n     11     data1 = json.loads(data1.to_json())\n     12     \n\n...........................................................................\n/Users/MotherBox/Documents/GitHub/CBM/Pyton/boxofficemojoAPI/boxofficemojo.py in crawl_for_urls(self=<boxofficemojoAPI.boxofficemojo.BoxOfficeMojo object>)\n     71                 r = requests.get(new_url)\n     72                 if r.status_code != 200:\n     73                     print \"HTTP Status code returned:\", r.status_code\n     74                 soup = bs4.BeautifulSoup(r.content)\n     75                 self.clean_html(soup)\n---> 76                 self.find_urls_in_html(soup)\n        self.find_urls_in_html = <bound method BoxOfficeMojo.find_urls_in_html of...fficemojoAPI.boxofficemojo.BoxOfficeMojo object>>\n        soup = <html>\\n<head>\\n<title>Updates in Progress</titl...st a few minutes.</p>\\n</div>\\n</body>\\n</html>\\n\n     77 \n     78     @utils.catch_connection_error\n     79     def get_movie_summary(self, url_or_id):\n     80         if 'http' in url_or_id.lower():\n\n...........................................................................\n/Users/MotherBox/Documents/GitHub/CBM/Pyton/boxofficemojoAPI/boxofficemojo.py in find_urls_in_html(self=<boxofficemojoAPI.boxofficemojo.BoxOfficeMojo object>, soup=<html>\\n<head>\\n<title>Updates in Progress</titl...st a few minutes.</p>\\n</div>\\n</body>\\n</html>\\n)\n     38 \n     39     def find_urls_in_html(self, soup):\n     40         \"\"\"Adds all the specific movie urls to the movie_urls dictionary\"\"\"\n     41         urls = soup.findAll(href=re.compile(\"id=\"))\n     42         # First URL is an ad for a movie so get rid of it\n---> 43         del(urls[0])\n        urls = []\n     44 \n     45         self.total_movies += len(urls)\n     46         for url in urls:\n     47             movie_name = url.renderContents()\n\nIndexError: list assignment index out of range\n___________________________________________________________________________"
     ]
    }
   ],
   "source": [
    "%%capture\n",
    "\n",
    "\n",
    "DC = Parallel(n_jobs=num_cores)(delayed(getMovieData)(name) for name in Dc)\n",
    "# MARVEL = Parallel(n_jobs=num_cores)(delayed(getMovieData)(name) for name in Marvel)\n",
    "# OTHERS = Parallel(n_jobs=num_cores)(delayed(getMovieData)(name) for name in Others)\n",
    "\n",
    "# M = {}\n",
    "# D = {}\n",
    "# O = {}\n",
    "\n",
    "# for k in range(len(MARVEL)):\n",
    "#     M[Marvel_titles[k]]= MARVEL[k]\n",
    "    \n",
    "# for k in range(len(DC)):\n",
    "#     D[Dc_titles[k]]= DC[k]\n",
    "    \n",
    "# for k in range(len(OTHERS)):\n",
    "#     O[Others_titles[k]]= OTHERS[k]\n",
    "\n",
    "# Data = {}\n",
    "# Data['Marvel'] = M\n",
    "# Data['DC'] = D\n",
    "# Data['Others'] = O\n",
    "\n",
    "# del M\n",
    "# del D\n",
    "# del O\n",
    "# del Marvel_titles\n",
    "# del Dc_titles\n",
    "# del Others_titles\n",
    "\n",
    "\n",
    "\n",
    "# BOM_insert_id = mongo.insert_one(Data).inserted_id\n",
    "# db.collection_names(include_system_collections=False)\n"
   ]
  },
  {
   "cell_type": "code",
   "execution_count": 16,
   "metadata": {
    "collapsed": false
   },
   "outputs": [
    {
     "data": {
      "text/plain": [
       "41"
      ]
     },
     "execution_count": 16,
     "metadata": {},
     "output_type": "execute_result"
    }
   ],
   "source": [
    "len(MARVEL)"
   ]
  },
  {
   "cell_type": "code",
   "execution_count": 17,
   "metadata": {
    "collapsed": false
   },
   "outputs": [
    {
     "data": {
      "text/plain": [
       "26"
      ]
     },
     "execution_count": 17,
     "metadata": {},
     "output_type": "execute_result"
    }
   ],
   "source": [
    "len(DC)"
   ]
  },
  {
   "cell_type": "code",
   "execution_count": 23,
   "metadata": {
    "collapsed": false
   },
   "outputs": [
    {
     "data": {
      "text/plain": [
       "81"
      ]
     },
     "execution_count": 23,
     "metadata": {},
     "output_type": "execute_result"
    }
   ],
   "source": [
    "len(OTHERS)"
   ]
  },
  {
   "cell_type": "code",
   "execution_count": 25,
   "metadata": {
    "collapsed": false
   },
   "outputs": [],
   "source": [
    "\n",
    "client.close\n",
    "del Data"
   ]
  },
  {
   "cell_type": "code",
   "execution_count": 26,
   "metadata": {
    "collapsed": false
   },
   "outputs": [
    {
     "data": {
      "text/plain": [
       "ObjectId('57b26905c54d2d13588d3e5b')"
      ]
     },
     "execution_count": 26,
     "metadata": {},
     "output_type": "execute_result"
    }
   ],
   "source": [
    "BOM_insert_id "
   ]
  },
  {
   "cell_type": "code",
   "execution_count": null,
   "metadata": {
    "collapsed": true
   },
   "outputs": [],
   "source": []
  }
 ],
 "metadata": {
  "kernelspec": {
   "display_name": "Python 2",
   "language": "python",
   "name": "python2"
  },
  "language_info": {
   "codemirror_mode": {
    "name": "ipython",
    "version": 2
   },
   "file_extension": ".py",
   "mimetype": "text/x-python",
   "name": "python",
   "nbconvert_exporter": "python",
   "pygments_lexer": "ipython2",
   "version": "2.7.11"
  }
 },
 "nbformat": 4,
 "nbformat_minor": 0
}
