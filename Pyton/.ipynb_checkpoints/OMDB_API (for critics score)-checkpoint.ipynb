{
 "cells": [
  {
   "cell_type": "code",
   "execution_count": 1,
   "metadata": {
    "collapsed": false
   },
   "outputs": [],
   "source": [
    "import omdb\n",
    "\n",
    "import warnings\n",
    "warnings.filterwarnings('ignore')\n",
    "\n",
    "import json\n",
    "import numpy as np\n",
    "import pandas as pd\n",
    "\n",
    "from joblib import Parallel, delayed  \n",
    "import multiprocessing\n",
    "num_cores = multiprocessing.cpu_count()\n",
    "\n",
    "\n"
   ]
  },
  {
   "cell_type": "code",
   "execution_count": 2,
   "metadata": {
    "collapsed": true
   },
   "outputs": [],
   "source": [
    "def getOMDBdata(title):\n",
    "    if title == 'Fantastic Four(2005)':\n",
    "        data = omdb.get(title='Fantastic Four', year=2005, fullplot=True, tomatoes=True)\n",
    "    \n",
    "    elif title == 'Daredevil':\n",
    "        data = omdb.get(title='Daredevil', year=2003, fullplot=True, tomatoes=True)\n",
    "        \n",
    "    elif title == 'Fantastic Four(2015)':\n",
    "        data = omdb.get(title='Fantastic Four', year=2015, fullplot=True, tomatoes=True)\n",
    "    \n",
    "    elif title == \"Marvel's The Avengers\":\n",
    "        data = omdb.get(title='The Avengers', fullplot=True, tomatoes=True)\n",
    "    \n",
    "    elif title == 'Supergirl':\n",
    "        data = omdb.get(title='Supergirl', year=1984, fullplot=True, tomatoes=True)\n",
    "        \n",
    "    elif title == \"X2: X-Men United\":\n",
    "        data = omdb.get(title='X-men', year=2003, fullplot=True, tomatoes=True)\n",
    "    \n",
    "    elif title == \"Teenage Mutant Ninja Turtles (2014)\":\n",
    "        data = omdb.get(title='Teenage Mutant Ninja Turtles', year=2014, fullplot=True, tomatoes=True)\n",
    "    \n",
    "    elif title == \"Teenage Mutant Ninja Turtles (1990)\":\n",
    "        data = omdb.get(title='Teenage Mutant Ninja Turtles', year=1990, fullplot=True, tomatoes=True)\n",
    "    \n",
    "    elif title == \"Teenage Mutant Ninja Turtles: The Secret of the Ooze\":\n",
    "        data = omdb.get(title=\"Teenage Mutant Ninja Turtles II: The Secret of the Ooze\", fullplot=True, tomatoes=True)\n",
    "        \n",
    "        \n",
    "    elif title == \"Men in Black III\":\n",
    "        data = omdb.get(title='Men in Black 3', year=2012, fullplot=True, tomatoes=True)\n",
    "    \n",
    "    elif title == \"Hercules\":\n",
    "        data = omdb.get(title='Hercules', year=2014, fullplot=True, tomatoes=True) \n",
    "        \n",
    "    elif title == \"RIPD\":\n",
    "        data = omdb.get(title='R.I.P.D.', fullplot=True, tomatoes=True) \n",
    "    \n",
    "    \n",
    "    elif title == \"Alien vs Predator\":\n",
    "        data = omdb.get(title=\"AVP: Alien vs. Predator\", fullplot=True, tomatoes=True) \n",
    "    \n",
    "    elif title == \"Alien vs Predator Requiem\":\n",
    "        data = omdb.get(title=\"Aliens vs. Predator: Requiem\", fullplot=True, tomatoes=True) \n",
    "       \n",
    "    \n",
    "    elif title == \"Scott Pilgrim vs the World\":\n",
    "        data = omdb.get(title=\"Scott Pilgrim vs. the World\", fullplot=True, tomatoes=True)\n",
    "        \n",
    "        \n",
    "    elif title == \"Mighty Morphin' Power Rangers\":\n",
    "        data = omdb.get(title=\"Mighty Morphin Power Rangers: The Movie\", fullplot=True, tomatoes=True)\n",
    "        \n",
    "    elif title == \"Buffy the Vampire Slayer\":\n",
    "        data = omdb.get(title=\"Buffy the Vampire Slayer\", year= 1992, fullplot=True, tomatoes=True)\n",
    "    \n",
    "    \n",
    "    \n",
    "    \n",
    "    else:\n",
    "        data = omdb.get(title=title, fullplot=True, tomatoes=True)\n",
    "    \n",
    "    collect = {}\n",
    "    collect['awards'] = data['awards']\n",
    "    collect['imdb_id'] = data['imdb_id']\n",
    "    collect['imdb_rating'] = data['imdb_rating'] \n",
    "    collect['metascore'] = data['metascore']\n",
    "    collect['plot'] = data['plot']\n",
    "    collect['poster'] = data['poster']\n",
    "    collect['release_year'] = data['year']\n",
    "    collect['release_date'] = data['released']\n",
    "    collect['RT_consensus'] = data['tomato_consensus']\n",
    "    collect['RT_perc'] = data['tomato_meter']\n",
    "    collect['RT_rating'] = data['tomato_rating']\n",
    "    collect['RT_audience_perc'] = data['tomato_user_meter']\n",
    "    collect['RT_audience_rating'] = data['tomato_user_rating']\n",
    "    \n",
    "    return collect\n",
    "    "
   ]
  },
  {
   "cell_type": "code",
   "execution_count": 3,
   "metadata": {
    "collapsed": false
   },
   "outputs": [],
   "source": [
    "Marvel  = [\n",
    "    \"The Amazing Spider-Man 2\",\n",
    "    \"Ant-Man\",\n",
    "    \"Marvel's The Avengers\",\"Avengers: Age of Ultron\",\n",
    "    \"Blade\",\"Blade II\",\"Blade: Trinity\",\n",
    "    \"Captain America: The First Avenger\",\n",
    "    \"Daredevil\",\n",
    "    \"Deadpool\",\n",
    "    'Big Hero 6',\n",
    "    \"Elektra\",\n",
    "    \"Fantastic Four(2005)\",\"Fantastic Four(2015)\",\"Fantastic Four: Rise of the Silver Surfer\",\n",
    "    \"Ghost Rider\",\"Ghost Rider: Spirit of Vengeance\",\n",
    "    \"Howard The Duck\", \n",
    "    \"Hulk\",\"The Incredible Hulk\",\n",
    "    \"Iron Man\",\"Iron Man 2\",\"Iron Man 3\",\n",
    "    \"Captain America: The Winter Soldier\",\n",
    "    \"Guardians of the Galaxy\",\n",
    "    \"Captain America: Civil War\",\n",
    "    \"The Punisher\",\"Punisher: War Zone\",\n",
    "    \"Spider-Man\",\"Spider-Man 2\",\"Spider-Man 3\",\"The Amazing Spider-Man\",\n",
    "    \"Thor\",\"Thor: The Dark World\",\n",
    "    \"X-Men Origins: Wolverine\",\"The Wolverine\",\n",
    "    \"X-Men:Apocalypse\",\"X2: X-Men United\", \"X-Men: The Last Stand\",\n",
    "    \"X-Men\",\"X-Men: Days of Future Past\",\"X-Men: First Class\"\n",
    "]\n",
    "\n",
    "\n",
    "\n",
    "Dc = [\n",
    "    \"Batman\",\"The Dark Knight Rises\",\"Batman Begins\",\"Batman Forever\",\n",
    "    \"Batman: Mask of the Phantasm\",\"Batman Returns\",\"Batman Robin\", \n",
    "    \"Catwoman\",\n",
    "    \"Constantine\",\n",
    "    \"The Dark Knight\",\n",
    "    \"Suicide Squad\",\n",
    "    \"Green Lantern\",\n",
    "    \"Jonah Hex\",\n",
    "    \"The Losers\",\n",
    "    \"Red 2\",\"Red\",\n",
    "    \"Steel\",\n",
    "    \"Supergirl\",\n",
    "    \"Superman\",\"Superman Returns\", \"Superman II\",\"Man of Steel\",\"Batman v Superman: Dawn of Justice\",\n",
    "    \"Superman III\",\"Superman IV: The Quest for Peace\", \n",
    "    \"V for Vendetta\", \"Watchmen\"\n",
    "]\n",
    "\n",
    "\n",
    "\n",
    "Others = [\n",
    "    \"2 Guns\",\"300\",\"300: Rise of an Empire\",\"30 Days of Night\",\n",
    "    \"American Splendor\",\"Alien vs Predator\",\"Alien vs Predator Requiem\",\n",
    "    \"Black Mask\",\"Buffy the Vampire Slayer\",\n",
    "    \"Bulletproof Monk\",\"Bullet to the Head\",\n",
    "    \"Casper\",\"Chronicle (2012)\",\n",
    "    \"Cowboys & Aliens\",\n",
    "    \"The Crow\",\n",
    "    \"The Crow:City of Angels\",\n",
    "    \"Darkman\",\n",
    "    \"The Diary of a Teenage Girl\", \"Dick Tracy\",\n",
    "    \"Dredd\",\n",
    "    \"From Hell\",\n",
    "    \"Ghost world\",\n",
    "    \"The Green Hornet\",\n",
    "    \"Hancock\",\n",
    "    \"Hellboy\",\n",
    "    \"Hellboy II: The Golden Army\",\n",
    "    \"Hercules\",\n",
    "    \"A history of violence\",\n",
    "    \"I, Frankenstein\",\n",
    "    \"The Incredibles\",\n",
    "    \"Iron Monkey\",\n",
    "    \"Josie and the Pussycats\",\n",
    "    \"Judge Dredd\",\n",
    "    \"Kick-Ass\",\n",
    "    \"Kick-Ass 2\",\n",
    "    \"The League of Extraordinary Gentlemen\",\n",
    "    \"The Mask\",\n",
    "    \"The Mask of Zorro\",\n",
    "    \"Megamind\",\n",
    "    \"Men in Black\",\n",
    "    \"Men in Black II\",\n",
    "    \"Men in Black III\",\n",
    "    \"Monkeybone\",\n",
    "    \"Mystery Men\",\n",
    "    \"Oblivion\",\n",
    "    \"The Phantom\",\n",
    "    \"The Powerpuff Girls Movie\",\n",
    "    \"Mighty Morphin' Power Rangers\",\n",
    "    \"Priest\",\n",
    "    \"Richie Rich\",    \n",
    "    \"RIPD\",\n",
    "    \"Road to Perdition\",\n",
    "    \"The Rocketeer\",\n",
    "    \"Scott Pilgrim vs the World\",\n",
    "    \"Kingsman: The Secret Service\",\n",
    "    \"The Shadow\",\n",
    "    \"Sin City\",\n",
    "    \"Sin City: A Dame to Kill For\",\n",
    "    \"Sky High\",\n",
    "    \"Snowpiercer\",\"Spawn\",\"The Spirit\",\n",
    "    \"Super\",\n",
    "    \"My Super Ex-Girlfriend\",\n",
    "    \"Superhero Movie\",\n",
    "    \"Surrogates\",\n",
    "    \"Tank Girl \",\n",
    "    \"Teenage Mutant Ninja Turtles\",\n",
    "    \"Timecop\",\n",
    "    \"The Adventures of Tintin\",\n",
    "    \"Teenage Mutant Ninja Turtles (2014)\",\n",
    "    \"Teenage Mutant Ninja Turtles: Out of the Shadow\",\n",
    "    \"Teenage Mutant Ninja Turtles III\",\"TMNT\",\n",
    "    \"Teenage Mutant Ninja Turtles II: The Secret of the Ooze\",\n",
    "    \"Virus\",\n",
    "    \"Wanted\",\n",
    "    \"Whiteout\",\n",
    "    \"The X-Files: I Want to Believe\",\n",
    "    \"Zoom\",\n",
    "    \"The Legend of Zorro\"\n",
    "\n",
    "]"
   ]
  },
  {
   "cell_type": "code",
   "execution_count": 4,
   "metadata": {
    "collapsed": false
   },
   "outputs": [
    {
     "data": {
      "text/plain": [
       "42"
      ]
     },
     "execution_count": 4,
     "metadata": {},
     "output_type": "execute_result"
    }
   ],
   "source": [
    "len(Marvel)"
   ]
  },
  {
   "cell_type": "code",
   "execution_count": 5,
   "metadata": {
    "collapsed": false
   },
   "outputs": [
    {
     "data": {
      "text/plain": [
       "27"
      ]
     },
     "execution_count": 5,
     "metadata": {},
     "output_type": "execute_result"
    }
   ],
   "source": [
    "len(Dc)"
   ]
  },
  {
   "cell_type": "code",
   "execution_count": 6,
   "metadata": {
    "collapsed": false
   },
   "outputs": [
    {
     "data": {
      "text/plain": [
       "81"
      ]
     },
     "execution_count": 6,
     "metadata": {},
     "output_type": "execute_result"
    }
   ],
   "source": [
    "len(Others)"
   ]
  },
  {
   "cell_type": "code",
   "execution_count": null,
   "metadata": {
    "collapsed": false
   },
   "outputs": [],
   "source": [
    "%%capture\n",
    "\n",
    "# MARVEL = Parallel(n_jobs=num_cores)(delayed(getOMDBdata)(title) for title in Marvel)\n",
    "# DC = Parallel(n_jobs=num_cores)(delayed(getOMDBdata)(title) for title in Dc)\n",
    "# OTHERS = Parallel(n_jobs=num_cores)(delayed(getOMDBdata)(title) for title in Others)"
   ]
  },
  {
   "cell_type": "code",
   "execution_count": null,
   "metadata": {
    "collapsed": true
   },
   "outputs": [],
   "source": [
    "# table = pd.DataFrame(MARVEL)\n",
    "# table['Title'] = np.array(Marvel)\n",
    "# table.to_csv('../R/marvel_omdb.csv',na_rep='', header= True, index= False, index_label= False)\n",
    "\n",
    "\n",
    "\n",
    "# table = pd.DataFrame(DC)\n",
    "# table['Title'] = np.array(Dc)\n",
    "# table.to_csv('../R/dc_omdb.csv',na_rep='', header= True, index= False, index_label= False)\n",
    "\n",
    "\n",
    "\n",
    "\n",
    "# table = pd.DataFrame(OTHERS)\n",
    "# table['Title'] = np.array(Others)\n",
    "# table.to_csv('../R/others_omdb.csv',na_rep='', header= True, index= False, index_label= False)"
   ]
  }
 ],
 "metadata": {
  "kernelspec": {
   "display_name": "Python 2",
   "language": "python",
   "name": "python2"
  },
  "language_info": {
   "codemirror_mode": {
    "name": "ipython",
    "version": 2
   },
   "file_extension": ".py",
   "mimetype": "text/x-python",
   "name": "python",
   "nbconvert_exporter": "python",
   "pygments_lexer": "ipython2",
   "version": "2.7.11"
  }
 },
 "nbformat": 4,
 "nbformat_minor": 0
}
