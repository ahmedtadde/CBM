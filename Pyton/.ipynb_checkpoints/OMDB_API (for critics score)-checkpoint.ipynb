{
 "cells": [
  {
   "cell_type": "code",
   "execution_count": 1,
   "metadata": {
    "collapsed": false
   },
   "outputs": [
    {
     "data": {
      "text/plain": [
       "[u'box_office_mojo']"
      ]
     },
     "execution_count": 1,
     "metadata": {},
     "output_type": "execute_result"
    }
   ],
   "source": [
    "# OMDB_insert_id = ObjectId('575db02205f6a320145f47d0')\n",
    "\n",
    "\n",
    "import omdb\n",
    "\n",
    "import warnings\n",
    "warnings.filterwarnings('ignore')\n",
    "\n",
    "import json\n",
    "import numpy as np\n",
    "\n",
    "from joblib import Parallel, delayed  \n",
    "import multiprocessing\n",
    "num_cores = multiprocessing.cpu_count()\n",
    "\n",
    "import pymongo\n",
    "from pymongo import MongoClient\n",
    "\n",
    "client = MongoClient('localhost', 27017)\n",
    "db = client.dc_marvel\n",
    "db.collection_names(include_system_collections=False)\n"
   ]
  },
  {
   "cell_type": "code",
   "execution_count": 2,
   "metadata": {
    "collapsed": true
   },
   "outputs": [],
   "source": [
    "mongo = db.omdb_critics"
   ]
  },
  {
   "cell_type": "code",
   "execution_count": 3,
   "metadata": {
    "collapsed": true
   },
   "outputs": [],
   "source": [
    "def getOMDBdata(title):\n",
    "    if title == 'Fantastic Four(2005)':\n",
    "        data = omdb.get(title='Fantastic Four', year=2005, fullplot=True, tomatoes=True)\n",
    "    \n",
    "    elif title == 'Daredevil':\n",
    "        data = omdb.get(title='Daredevil', year=2003, fullplot=True, tomatoes=True)\n",
    "        \n",
    "    elif title == 'Fantastic Four(2015)':\n",
    "        data = omdb.get(title='Fantastic Four', year=2015, fullplot=True, tomatoes=True)\n",
    "    \n",
    "    elif title == \"Marvel's The Avengers\":\n",
    "        data = omdb.get(title='The Avengers', fullplot=True, tomatoes=True)\n",
    "    \n",
    "    else:\n",
    "        data = omdb.get(title=title, fullplot=True, tomatoes=True)\n",
    "    \n",
    "    collect = {}\n",
    "    collect['awards'] = data['awards']\n",
    "    collect['imdb_id'] = data['imdb_id']\n",
    "    collect['imdb_rating'] = data['imdb_rating'] \n",
    "    collect['metascore'] = data['metascore']\n",
    "    collect['plot'] = data['plot']\n",
    "    collect['poster'] = data['poster']\n",
    "    collect['release_year'] = data['year']\n",
    "    collect['release_date'] = data['released']\n",
    "    collect['RT_consensus'] = data['tomato_consensus']\n",
    "    collect['RT_perc'] = data['tomato_meter']\n",
    "    collect['RT_rating'] = data['tomato_rating']\n",
    "    collect['RT_audience_perc'] = data['tomato_user_meter']\n",
    "    collect['RT_audience_rating'] = data['tomato_user_rating']\n",
    "    \n",
    "    return collect\n",
    "    "
   ]
  },
  {
   "cell_type": "code",
   "execution_count": 4,
   "metadata": {
    "collapsed": true
   },
   "outputs": [],
   "source": [
    "Marvel =  [\"Howard The Duck\", \"Blade\",\n",
    "           \"X-Men\",\"Blade II\",\n",
    "           \"Spider-Man\",\"Daredevil\",\n",
    "           \"X-men 2\",\"Hulk\",\n",
    "           \"The Punisher\",\"Spider-Man 2\",\n",
    "           \"Blade: Trinity\", \"Elektra\",\n",
    "           \"Fantastic Four(2005)\",\"X-Men: The Last Stand\",\n",
    "           \"Ghost Rider\",\"Spider-Man 3\",\n",
    "           \"Fantastic Four: Rise of the Silver Surfer\",\"Iron Man\",\n",
    "           \"The Incredible Hulk\",\"Punisher: War Zone\",\n",
    "           \"X-Men Origins: Wolverine\",\"Iron Man 2\",\n",
    "           \"Thor\",\"X-Men: First Class\",\n",
    "           \"Captain America: The First Avenger\",\n",
    "           \"Ghost Rider: Spirit of Vengeance\",\n",
    "           \"Marvel's The Avengers\",\"The Amazing Spider-Man\",\n",
    "           \"Iron Man 3\",\"The Wolverine\",\n",
    "           \"Thor 2: The Dark World\",\"Captain America: The Winter Soldier\",\n",
    "           \"The Amazing Spider-Man 2\",\"X-Men: Days of Future Past\",\n",
    "           \"Guardians of the Galaxy\",\"Big Hero 6\",\n",
    "           \"Avengers: Age of Ultron\", \"Ant-Man\",\n",
    "           \"Fantastic Four(2015)\", \"Deadpool\",\n",
    "           \"Captain America: Civil War\"]\n",
    "\n",
    "\n",
    "Dc = [\"Superman\",\"Superman II\",\n",
    "      \"Superman III\", \"Supergirl\",\n",
    "      \"Superman IV: The Quest for Peace\",\"Batman\",\n",
    "      \"Batman Returns\",\"Batman: Mask of the Phantasm\",\n",
    "      \"Batman Forever\", \"Batman Robin\", \n",
    "      \"Steel\", \"Catwoman\", \n",
    "      \"Constantine\", \"Batman Begins\",\n",
    "      \"V for Vendetta\", \"Superman Returns\", \n",
    "      \"The Dark Knight\", \"Watchmen\",\n",
    "      \"The Losers\",\"Jonah Hex\",\"Red\",\n",
    "      \"Green Lantern\", \"The Dark Knight Rises\",\n",
    "      \"Man of Steel\",\"Red 2\",\n",
    "      \"Batman v Superman: Dawn of Justice\"]"
   ]
  },
  {
   "cell_type": "code",
   "execution_count": 5,
   "metadata": {
    "collapsed": false
   },
   "outputs": [],
   "source": [
    "%%capture\n",
    "\n",
    "\n",
    "DC = Parallel(n_jobs=num_cores)(delayed(getOMDBdata)(title) for title in Dc)\n",
    "MARVEL = Parallel(n_jobs=num_cores)(delayed(getOMDBdata)(title) for title in Marvel)\n",
    "\n",
    "M = {}\n",
    "D = {}\n",
    "for k in range(len(MARVEL)):\n",
    "    M[Marvel[k]]= MARVEL[k]\n",
    "    \n",
    "for k in range(len(DC)):\n",
    "    D[Dc[k]]= DC[k]\n",
    "\n",
    "    \n",
    "Data = {}\n",
    "Data['Marvel'] = M\n",
    "Data['DC'] = D\n",
    "\n",
    "del M\n",
    "del D\n",
    "del Marvel\n",
    "del MARVEL\n",
    "del DC\n",
    "del Dc"
   ]
  },
  {
   "cell_type": "code",
   "execution_count": 6,
   "metadata": {
    "collapsed": false
   },
   "outputs": [
    {
     "data": {
      "text/plain": [
       "[u'omdb_critics', u'box_office_mojo']"
      ]
     },
     "execution_count": 6,
     "metadata": {},
     "output_type": "execute_result"
    }
   ],
   "source": [
    "OMDB_insert_id = mongo.insert_one(Data).inserted_id\n",
    "db.collection_names(include_system_collections=False)"
   ]
  },
  {
   "cell_type": "code",
   "execution_count": 7,
   "metadata": {
    "collapsed": false
   },
   "outputs": [
    {
     "data": {
      "text/plain": [
       "<bound method MongoClient.close of MongoClient(host=['localhost:27017'], document_class=dict, tz_aware=False, connect=True)>"
      ]
     },
     "execution_count": 7,
     "metadata": {},
     "output_type": "execute_result"
    }
   ],
   "source": [
    "\n",
    "client.close"
   ]
  },
  {
   "cell_type": "code",
   "execution_count": 8,
   "metadata": {
    "collapsed": false
   },
   "outputs": [
    {
     "data": {
      "text/plain": [
       "ObjectId('575f5d9c05f6a326adc2381f')"
      ]
     },
     "execution_count": 8,
     "metadata": {},
     "output_type": "execute_result"
    }
   ],
   "source": [
    "OMDB_insert_id "
   ]
  },
  {
   "cell_type": "code",
   "execution_count": null,
   "metadata": {
    "collapsed": true
   },
   "outputs": [],
   "source": []
  }
 ],
 "metadata": {
  "kernelspec": {
   "display_name": "Python 2",
   "language": "python",
   "name": "python2"
  },
  "language_info": {
   "codemirror_mode": {
    "name": "ipython",
    "version": 2
   },
   "file_extension": ".py",
   "mimetype": "text/x-python",
   "name": "python",
   "nbconvert_exporter": "python",
   "pygments_lexer": "ipython2",
   "version": "2.7.11"
  }
 },
 "nbformat": 4,
 "nbformat_minor": 0
}
