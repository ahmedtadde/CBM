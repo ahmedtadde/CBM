{
 "cells": [
  {
   "cell_type": "code",
   "execution_count": 1,
   "metadata": {
    "collapsed": false
   },
   "outputs": [
    {
     "data": {
      "text/plain": [
       "[u'omdb_critics', u'box_office_mojo']"
      ]
     },
     "execution_count": 1,
     "metadata": {},
     "output_type": "execute_result"
    }
   ],
   "source": [
    "# OMDB_insert_id = ObjectId('57b30152c54d2d162e1439c9')\n",
    "\n",
    "\n",
    "import omdb\n",
    "\n",
    "import warnings\n",
    "warnings.filterwarnings('ignore')\n",
    "\n",
    "import json\n",
    "import numpy as np\n",
    "\n",
    "from joblib import Parallel, delayed  \n",
    "import multiprocessing\n",
    "num_cores = multiprocessing.cpu_count()\n",
    "\n",
    "import pymongo\n",
    "from pymongo import MongoClient\n",
    "\n",
    "client = MongoClient('localhost', 27017)\n",
    "db = client.dc_marvel\n",
    "db.collection_names(include_system_collections=False)\n"
   ]
  },
  {
   "cell_type": "code",
   "execution_count": 2,
   "metadata": {
    "collapsed": false
   },
   "outputs": [],
   "source": [
    "mongo = db.omdb_critics"
   ]
  },
  {
   "cell_type": "code",
   "execution_count": 3,
   "metadata": {
    "collapsed": true
   },
   "outputs": [],
   "source": [
    "def getOMDBdata(title):\n",
    "    if title == 'Fantastic Four(2005)':\n",
    "        data = omdb.get(title='Fantastic Four', year=2005, fullplot=True, tomatoes=True)\n",
    "    \n",
    "    elif title == 'Daredevil':\n",
    "        data = omdb.get(title='Daredevil', year=2003, fullplot=True, tomatoes=True)\n",
    "        \n",
    "    elif title == 'Fantastic Four(2015)':\n",
    "        data = omdb.get(title='Fantastic Four', year=2015, fullplot=True, tomatoes=True)\n",
    "    \n",
    "    elif title == \"Marvel's The Avengers\":\n",
    "        data = omdb.get(title='The Avengers', fullplot=True, tomatoes=True)\n",
    "    \n",
    "    elif title == 'Supergirl':\n",
    "        data = omdb.get(title='Supergirl', year=1984, fullplot=True, tomatoes=True)\n",
    "        \n",
    "    elif title == \"X2: X-Men United\":\n",
    "        data = omdb.get(title='X-men', year=2003, fullplot=True, tomatoes=True)\n",
    "    \n",
    "    elif title == \"Teenage Mutant Ninja Turtles (2014)\":\n",
    "        data = omdb.get(title='Teenage Mutant Ninja Turtles', year=2014, fullplot=True, tomatoes=True)\n",
    "    \n",
    "    elif title == \"Teenage Mutant Ninja Turtles (1990)\":\n",
    "        data = omdb.get(title='Teenage Mutant Ninja Turtles', year=1990, fullplot=True, tomatoes=True)\n",
    "    \n",
    "    elif title == \"Teenage Mutant Ninja Turtles: The Secret of the Ooze\":\n",
    "        data = omdb.get(title=\"Teenage Mutant Ninja Turtles II: The Secret of the Ooze\", fullplot=True, tomatoes=True)\n",
    "        \n",
    "        \n",
    "    elif title == \"Men in Black III\":\n",
    "        data = omdb.get(title='Men in Black 3', year=2012, fullplot=True, tomatoes=True)\n",
    "    \n",
    "    elif title == \"Hercules\":\n",
    "        data = omdb.get(title='Hercules', year=2014, fullplot=True, tomatoes=True) \n",
    "        \n",
    "    elif title == \"RIPD\":\n",
    "        data = omdb.get(title='R.I.P.D.', fullplot=True, tomatoes=True) \n",
    "    \n",
    "    \n",
    "    elif title == \"Alien vs Predator\":\n",
    "        data = omdb.get(title=\"AVP: Alien vs. Predator\", fullplot=True, tomatoes=True) \n",
    "    \n",
    "    elif title == \"Alien vs Predator Requiem\":\n",
    "        data = omdb.get(title=\"Aliens vs. Predator: Requiem\", fullplot=True, tomatoes=True) \n",
    "       \n",
    "    \n",
    "    elif title == \"Scott Pilgrim vs the World\":\n",
    "        data = omdb.get(title=\"Scott Pilgrim vs. the World\", fullplot=True, tomatoes=True)\n",
    "        \n",
    "        \n",
    "    elif title == \"Mighty Morphin' Power Rangers\":\n",
    "        data = omdb.get(title=\"Mighty Morphin Power Rangers: The Movie\", fullplot=True, tomatoes=True)\n",
    "        \n",
    "    elif title == \"Buffy the Vampire Slayer\":\n",
    "        data = omdb.get(title=\"Buffy the Vampire Slayer\", year= 1992, fullplot=True, tomatoes=True)\n",
    "    \n",
    "    \n",
    "    \n",
    "    \n",
    "    else:\n",
    "        data = omdb.get(title=title, fullplot=True, tomatoes=True)\n",
    "    \n",
    "    collect = {}\n",
    "    collect['awards'] = data['awards']\n",
    "    collect['imdb_id'] = data['imdb_id']\n",
    "    collect['imdb_rating'] = data['imdb_rating'] \n",
    "    collect['metascore'] = data['metascore']\n",
    "    collect['plot'] = data['plot']\n",
    "    collect['poster'] = data['poster']\n",
    "    collect['release_year'] = data['year']\n",
    "    collect['release_date'] = data['released']\n",
    "    collect['RT_consensus'] = data['tomato_consensus']\n",
    "    collect['RT_perc'] = data['tomato_meter']\n",
    "    collect['RT_rating'] = data['tomato_rating']\n",
    "    collect['RT_audience_perc'] = data['tomato_user_meter']\n",
    "    collect['RT_audience_rating'] = data['tomato_user_rating']\n",
    "    \n",
    "    return collect\n",
    "    "
   ]
  },
  {
   "cell_type": "code",
   "execution_count": 4,
   "metadata": {
    "collapsed": false
   },
   "outputs": [],
   "source": [
    "Marvel  = [\n",
    "    \"Howard The Duck\",\n",
    "    \"Blade\",\n",
    "    \"X-Men\",\n",
    "    \"Blade II\",\n",
    "    \"Spider-Man\",\n",
    "    \"Daredevil\",\n",
    "    \"X2: X-Men United\",\n",
    "    \"Hulk\",\n",
    "    \"The Punisher\",\n",
    "    \"Spider-Man 2\",\n",
    "    \"Blade: Trinity\",\n",
    "    \"Elektra\",\n",
    "    \"Fantastic Four(2005)\",\n",
    "    \"X-Men: The Last Stand\",\n",
    "    \"Ghost Rider\",\"Spider-Man 3\",\n",
    "    \"Fantastic Four: Rise of the Silver Surfer\",\"Iron Man\",\n",
    "    \"The Incredible Hulk\",\"Punisher: War Zone\",\n",
    "    \"X-Men Origins: Wolverine\",\"Iron Man 2\",\n",
    "    \"Thor\",\"X-Men: First Class\",\n",
    "    \"Captain America: The First Avenger\",\n",
    "    \"Ghost Rider: Spirit of Vengeance\",\n",
    "    \"Marvel's The Avengers\",\"The Amazing Spider-Man\",\n",
    "    \"Iron Man 3\",\"The Wolverine\",\n",
    "    \"Thor: The Dark World\",\"Captain America: The Winter Soldier\",\n",
    "    \"The Amazing Spider-Man 2\",\"X-Men: Days of Future Past\",\n",
    "    \"Guardians of the Galaxy\",\"Big Hero 6\",\n",
    "    \"Avengers: Age of Ultron\", \"Ant-Man\",\n",
    "    \"Fantastic Four(2015)\", \"Deadpool\",\n",
    "    \"Captain America: Civil War\"\n",
    "]\n",
    "\n",
    "\n",
    "Dc = [\"Superman\",\"Superman II\",\n",
    "      \"Superman III\", \"Supergirl\",\n",
    "      \"Superman IV: The Quest for Peace\",\"Batman\",\n",
    "      \"Batman Returns\",\"Batman: Mask of the Phantasm\",\n",
    "      \"Batman Forever\", \"Batman Robin\", \n",
    "      \"Steel\", \"Catwoman\", \n",
    "      \"Constantine\", \"Batman Begins\",\n",
    "      \"V for Vendetta\", \"Superman Returns\", \n",
    "      \"The Dark Knight\", \"Watchmen\",\n",
    "      \"The Losers\",\"Jonah Hex\",\"Red\",\n",
    "      \"Green Lantern\", \"The Dark Knight Rises\",\n",
    "      \"Man of Steel\",\n",
    "      \"Batman v Superman: Dawn of Justice\",\"Red 2\"]\n",
    "\n",
    "Others = [\"2 Guns\",\n",
    "\"30 Days of Night\",\n",
    "\"300\",\n",
    "\"300: Rise of an Empire\",\n",
    "\"American Splendor\",\n",
    "\"Alien vs Predator\",\n",
    "\"Alien vs Predator Requiem\",\n",
    "\"Black Mask\",\n",
    "\"Buffy the Vampire Slayer\",\n",
    "\"Bulletproof Monk\",\n",
    "\"Bullet to the Head\",\n",
    "\"Casper\",\n",
    "\"Chronicle\",\n",
    "\"Cowboys & Aliens\",\n",
    "\"The Crow\",\n",
    "\"The Crow:City of Angels\",\n",
    "\"Darkman\",\n",
    "\"The Diary of a Teenage Girl\", \"Dick Tracy\",\n",
    "\"Dredd\",\n",
    "\"From Hell\",\n",
    "\"Ghost world\",\n",
    "\"The Green Hornet\",\n",
    "\"Hancock\",\n",
    "\"Hellboy\",\n",
    "\"Hellboy II: The Golden Army\",\n",
    "\"Hercules\",\n",
    "\"A history of violence\",\n",
    "\"I, Frankenstein\",\n",
    "\"The Incredibles\",\n",
    "\"Iron Monkey\",\n",
    "\"Josie and the Pussycats\",\n",
    "\"Judge Dredd\",\n",
    "\"Kick-Ass\",\n",
    "\"Kick-Ass 2\",\n",
    "\"The League of Extraordinary Gentlemen\",\n",
    "\"The Mask\",\n",
    "\"The Mask of Zorro\",\n",
    "\"Megamind\",\n",
    "\"Men in Black\",\n",
    "\"Men in Black II\",\n",
    "\"Men in Black III\",\n",
    "\"Monkeybone\",\n",
    "\"Mystery Men\",\n",
    "\"Oblivion\",\n",
    "\"The Phantom\",\n",
    "\"The Powerpuff Girls Movie\",\n",
    "\"Mighty Morphin' Power Rangers\",\n",
    "\"Priest\",\n",
    "\"Richie Rich\",    \n",
    "\"RIPD\",\n",
    "\"Road to Perdition\",\n",
    "\"The Rocketeer\",\n",
    "\"Scott Pilgrim vs the World\",\n",
    "\"Kingsman: The Secret Service\",\n",
    "\"The Shadow\",\n",
    "\"Sin City\",\n",
    "\"Sin City: A Dame to Kill For\",\n",
    "\"Sky High\",\n",
    "\"Spawn\",\n",
    "\"The Spirit\",\n",
    "\"Snowpiercer\",\n",
    "\"Super\",\n",
    "\"My Super Ex-Girlfriend\",\n",
    "\"Superhero Movie\",\n",
    "\"Surrogates\",\n",
    "\"Tank Girl \",\n",
    "\"Teenage Mutant Ninja Turtles\",\n",
    "\"Timecop\",\n",
    "\"The Adventures of Tintin\",\n",
    "\"TMNT\",\n",
    "\"Teenage Mutant Ninja Turtles II: The Secret of the Ooze\",\n",
    "\"Teenage Mutant Ninja Turtles (2014)\",\n",
    "\"Teenage Mutant Ninja Turtles: Out of the Shadows\",\n",
    "\"Teenage Mutant Ninja Turtles III\",\n",
    "\"Virus\",\n",
    "\"Wanted\",\n",
    "\"Whiteout\",\n",
    "\"The X-Files: I Want to Believe\",\n",
    "\"Zoom\",\n",
    "\"The Legend of Zorro\"\n",
    "]"
   ]
  },
  {
   "cell_type": "code",
   "execution_count": 5,
   "metadata": {
    "collapsed": false
   },
   "outputs": [],
   "source": [
    "%%capture\n",
    "\n",
    "\n",
    "DC = Parallel(n_jobs=num_cores)(delayed(getOMDBdata)(title) for title in Dc)\n",
    "MARVEL = Parallel(n_jobs=num_cores)(delayed(getOMDBdata)(title) for title in Marvel)\n",
    "OTHERS = Parallel(n_jobs=num_cores)(delayed(getOMDBdata)(title) for title in Others)\n",
    "\n",
    "\n",
    "M = {}\n",
    "D = {}\n",
    "O = {}\n",
    "\n",
    "\n",
    "for k in range(len(MARVEL)):\n",
    "    M[Marvel[k]]= MARVEL[k]\n",
    "    \n",
    "for k in range(len(DC)):\n",
    "    D[Dc[k]]= DC[k]\n",
    "    \n",
    "for k in range(len(OTHERS)):\n",
    "    O[Others[k]]= OTHERS[k]\n",
    "\n",
    "    \n",
    "Data = {}\n",
    "Data['Marvel'] = M\n",
    "Data['DC'] = D\n",
    "Data['Others'] = O\n",
    "\n",
    "del M\n",
    "del D\n",
    "del O\n",
    "\n",
    "del Marvel\n",
    "del MARVEL\n",
    "del DC\n",
    "del Dc\n",
    "del OTHERS\n",
    "del Others"
   ]
  },
  {
   "cell_type": "code",
   "execution_count": 6,
   "metadata": {
    "collapsed": false
   },
   "outputs": [
    {
     "data": {
      "text/plain": [
       "[u'omdb_critics', u'box_office_mojo']"
      ]
     },
     "execution_count": 6,
     "metadata": {},
     "output_type": "execute_result"
    }
   ],
   "source": [
    "OMDB_insert_id = mongo.insert_one(Data).inserted_id\n",
    "db.collection_names(include_system_collections=False)"
   ]
  },
  {
   "cell_type": "code",
   "execution_count": 7,
   "metadata": {
    "collapsed": false
   },
   "outputs": [
    {
     "data": {
      "text/plain": [
       "<bound method MongoClient.close of MongoClient(host=['localhost:27017'], document_class=dict, tz_aware=False, connect=True)>"
      ]
     },
     "execution_count": 7,
     "metadata": {},
     "output_type": "execute_result"
    }
   ],
   "source": [
    "\n",
    "client.close"
   ]
  },
  {
   "cell_type": "code",
   "execution_count": 8,
   "metadata": {
    "collapsed": false
   },
   "outputs": [
    {
     "data": {
      "text/plain": [
       "ObjectId('57b30152c54d2d162e1439c9')"
      ]
     },
     "execution_count": 8,
     "metadata": {},
     "output_type": "execute_result"
    }
   ],
   "source": [
    "OMDB_insert_id "
   ]
  },
  {
   "cell_type": "code",
   "execution_count": null,
   "metadata": {
    "collapsed": true
   },
   "outputs": [],
   "source": []
  }
 ],
 "metadata": {
  "kernelspec": {
   "display_name": "Python 2",
   "language": "python",
   "name": "python2"
  },
  "language_info": {
   "codemirror_mode": {
    "name": "ipython",
    "version": 2
   },
   "file_extension": ".py",
   "mimetype": "text/x-python",
   "name": "python",
   "nbconvert_exporter": "python",
   "pygments_lexer": "ipython2",
   "version": "2.7.11"
  }
 },
 "nbformat": 4,
 "nbformat_minor": 0
}
