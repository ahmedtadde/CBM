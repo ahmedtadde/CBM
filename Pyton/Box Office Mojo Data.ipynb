{
 "cells": [
  {
   "cell_type": "code",
   "execution_count": 1,
   "metadata": {
    "collapsed": false
   },
   "outputs": [
    {
     "data": {
      "text/plain": [
       "[]"
      ]
     },
     "execution_count": 1,
     "metadata": {},
     "output_type": "execute_result"
    }
   ],
   "source": [
    "##### BOM_insert_id = ObjectId('575db02205f6a320145f47d0')\n",
    "\n",
    "import warnings\n",
    "warnings.filterwarnings('ignore')\n",
    "\n",
    "import json\n",
    "import numpy as np\n",
    "\n",
    "from joblib import Parallel, delayed  \n",
    "import multiprocessing\n",
    "num_cores = multiprocessing.cpu_count()\n",
    "\n",
    "import pymongo\n",
    "from pymongo import MongoClient\n",
    "\n",
    "client = MongoClient('localhost', 27017)\n",
    "db = client.dc_marvel\n",
    "db.collection_names(include_system_collections=False)\n",
    "\n",
    "\n"
   ]
  },
  {
   "cell_type": "code",
   "execution_count": 2,
   "metadata": {
    "collapsed": false
   },
   "outputs": [],
   "source": [
    "# db.box_office_mojo.drop()\n",
    "# db.omdb_critics.drop()\n",
    "# db.collection_names(include_system_collections=False)"
   ]
  },
  {
   "cell_type": "code",
   "execution_count": 3,
   "metadata": {
    "collapsed": true
   },
   "outputs": [],
   "source": [
    "mongo = db.box_office_mojo"
   ]
  },
  {
   "cell_type": "code",
   "execution_count": 10,
   "metadata": {
    "collapsed": true
   },
   "outputs": [],
   "source": [
    "Marvel_titles  = [\"Howard The Duck\", \"Blade\",\n",
    "           \"X-Men\",\"Blade II\",\n",
    "           \"Spider-Man\",\"Daredevil\",\n",
    "           \"X2: X-Men United\",\"Hulk\",\n",
    "           \"The Punisher\",\"Spider-Man 2\",\n",
    "           \"Blade: Trinity\", \"Elektra\",\n",
    "           \"Fantastic Four\",\"X-Men: The Last Stand\",\n",
    "           \"Ghost Rider\",\"Spider-Man 3\",\n",
    "           \"Fantastic Four(2005): Rise of the Silver Surfer\",\"Iron Man\",\n",
    "           \"The Incredible Hulk\",\"Punisher: War Zone\",\n",
    "           \"X-Men Origins: Wolverine\",\"Iron Man 2\",\n",
    "           \"Thor\",\"X-Men: First Class\",\n",
    "           \"Captain America: The First Avenger\",\n",
    "           \"Ghost Rider: Spirit of Vengeance\",\n",
    "           \"Marvel's The Avengers\",\"The Amazing Spider-Man\",\n",
    "           \"Iron Man 3\",\"The Wolverine\",\n",
    "           \"Thor: The Dark World\",\"Captain America: Winter Soldier\",\n",
    "           \"The Amazing Spider-Man 2\",\"X-Men: Days of Future Past\",\n",
    "           \"Guardians of the Galaxy\",\"Big Hero 6\",\n",
    "           \"Avengers: Age of Ultron\", \"Ant-Man\",\n",
    "           \"Fantastic Four(2015)\", \"Deadpool\",\n",
    "           \"Captain America: Civil War\"]\n",
    "\n",
    "\n",
    "Marvel =[\"howardtheduck\", \"blade\", \n",
    "         \"xmen\",\"blade2\",\n",
    "         \"spiderman\",\"daredevil\",\n",
    "         \"x2\",\"hulk\",\n",
    "         \"punisher\",\"spiderman2\",\n",
    "         \"blade3\", \"elektra\",\n",
    "                   \"fantasticfour\",\"x3\",\n",
    "                   \"ghostrider\",\"spiderman3\",\n",
    "                   \"fantasticfour2\",\"ironman\",\n",
    "                   \"incrediblehulk\",\"punisher2\",\n",
    "                   \"wolverine\",\"ironman2\",\n",
    "                   \"thor\",\"xmenfirstclass\",\n",
    "                   \"captainamerica\",\"ghostrider2\",\n",
    "                   \"avengers11\",\"spiderman4\",\n",
    "                   \"ironman3\",\"wolverine2\",\n",
    "                   \"thor2\",\"marvel14b\",\n",
    "                   \"amazingspiderman2\",\"xmen2014\",\n",
    "                   \"marvel2014a\",\"disney2014\",\n",
    "                   \"avengers2\", \"antman\",\n",
    "                   \"fantasticfour15\", \"deadpool2016\",\n",
    "                   \"marvel2016\"]\n",
    "\n",
    "\n",
    "Dc_titles = [\"Superman\",\"Superman II\",\n",
    "      \"Superman III\", \"Supergirl\",\n",
    "      \"Superman IV: The Quest for Peace\",\"Batman\",\n",
    "      \"Batman Returns\",\"Batman: Mask of the Phantasm\",\n",
    "      \"Batman Forever\", \"Batman Robin\", \n",
    "      \"Steel\", \"Catwoman\", \n",
    "      \"Constantine\", \"Batman Begins\",\n",
    "      \"V for Vendetta\", \"Superman Returns\", \n",
    "      \"The Dark Knight\", \"Watchmen\",\n",
    "      \"The Losers\",\"Jonah Hex\",\"Red\",\n",
    "      \"Green Lantern\", \"The Dark Knight Rises\",\n",
    "      \"Man of Steel\",\"Red 2\",\n",
    "      \"Batman v Superman: Dawn of Justice\"]\n",
    "\n",
    "\n",
    "\n",
    "Dc = [\"superman\",\"superman2\",\n",
    "      \"superman3\", \"supergirl\",\n",
    "      \"superman4\",\"batman\",\n",
    "      \"batmanreturns\",\"batmanmaskofthephantasm\",\n",
    "      \"batmanforever\", \"batmanrobin\", \n",
    "      \"steel\", \"catwoman\", \n",
    "      \"constantine\", \"batmanbegins\",\n",
    "      \"vforvendetta\", \"superman06\", \n",
    "      \"darkknight\", \"watchmen\",\n",
    "      \"losers\",\"jonahhex\",\"red2010\",\n",
    "      \"greenlantern\", \"batman3\",\n",
    "      \"superman2012\",\"red2\",\n",
    "      \"superman2015\"]"
   ]
  },
  {
   "cell_type": "code",
   "execution_count": 11,
   "metadata": {
    "collapsed": false
   },
   "outputs": [],
   "source": [
    "def getMovieData(name):\n",
    "    \n",
    "    import json\n",
    "    import boxofficemojoAPI as bom\n",
    "   \n",
    "    \n",
    "    bo = bom.BoxOfficeMojo()\n",
    "    bo.crawl_for_urls()\n",
    "    data1 = bo.get_movie_summary(name)\n",
    "    data1.clean_data()\n",
    "    data1 = json.loads(data1.to_json())\n",
    "    \n",
    "    data2 = bo.get_weekly_summary(name)\n",
    "    data2.clean_data()\n",
    "    data2 = json.loads(data2.to_json())['weekly']\n",
    "    \n",
    "    Features = dict()\n",
    "    try:\n",
    "        Features['director'] = data1[\"directors\"]\n",
    "    except KeyError:\n",
    "        Features['director'] = None\n",
    "        \n",
    "    try:\n",
    "        Features['distributor'] = data1[\"distributor\"]\n",
    "    except KeyError:\n",
    "        Features['distributor'] = None\n",
    "        \n",
    "    try:\n",
    "        Features['domestic_BO'] = data1[\"domestic\"]\n",
    "    except KeyError:\n",
    "        Features['domestic_BO'] = None\n",
    "    try:\n",
    "        Features['foreign_BO'] = data1[\"foreign\"]\n",
    "    except KeyError:\n",
    "        Features['foreign_BO'] = None\n",
    "    \n",
    "    try:\n",
    "        Features['genre'] = data1[\"genre\"]\n",
    "    except KeyError:\n",
    "        Features['genre'] = None\n",
    "        \n",
    "    try:\n",
    "        Features['rating'] = data1[\"mpaa_rating\"]\n",
    "    except KeyError:\n",
    "         Features['rating'] = None\n",
    "    \n",
    "#     try:\n",
    "#         Features['release'] = data1[\"release_date\"]\n",
    "#     except KeyError:\n",
    "#         Features['release'] = None\n",
    "        \n",
    "    try:\n",
    "        Features['runtime'] = data1[\"runtime\"]\n",
    "    except KeyError:\n",
    "        Features['runtime'] = None\n",
    "        \n",
    "    try:\n",
    "        Features['writers'] = data1[\"writers\"]\n",
    "    except KeyError:\n",
    "        Features['writers'] = None\n",
    "        \n",
    "    \n",
    "    starting_week = data2[0]['week_number']\n",
    "    if starting_week == 0:\n",
    "        del data2[0]\n",
    "        \n",
    "    del starting_week\n",
    "\n",
    "    for k in range(min(len(data2), 15)):\n",
    "        if k == 0:\n",
    "            \n",
    "            try:\n",
    "                Features['_'.join(('week', str(k+1),'gross'))] = data2[k]['gross']\n",
    "            except KeyError:\n",
    "                Features['_'.join(('week', str(k+1),'gross'))] = None\n",
    "                \n",
    "            try:\n",
    "                Features['_'.join(('week', str(k+1),'rank'))] = data2[k]['rank']\n",
    "            except KeyError:\n",
    "                Features['_'.join(('week', str(k+1),'rank'))] = None\n",
    "                \n",
    "            try:\n",
    "                Features['_'.join(('week', str(k+1),'avg'))] = data2[k]['average_per_theatre']\n",
    "            except KeyError:\n",
    "                Features['_'.join(('week', str(k+1),'avg'))] = None\n",
    "                \n",
    "        else :\n",
    "\n",
    "            Features['_'.join(('week', str(k+1), 'change'))]= data2[k]['week_over_week_change']\n",
    "            Features['_'.join(('week', str(k+1), 'rank'))]= data2[k]['rank']\n",
    "            Features['_'.join(('week', str(k+1),'avg'))] = data2[k]['average_per_theatre']\n",
    "            \n",
    "    return Features\n",
    "            \n",
    "     \n",
    "\n",
    "        \n",
    "# def getAllData(Marvel, Dc):\n",
    "    \n",
    "\n",
    "#     MARVEL = dict()\n",
    "#     DC = dict()\n",
    "#     Result = dict()\n",
    "\n",
    "#     for name in Marvel:\n",
    "#         MARVEL[name] = getMovieData(name)\n",
    "\n",
    "#     for name in Dc:\n",
    "#         DC[name] = getMovieData(name)\n",
    "\n",
    "#     MARVEL = json.dumps(MARVEL,  sort_keys=True, separators=(',', ':'), indent =4)\n",
    "#     DC = json.dumps(DC,  sort_keys=True, separators=(',', ':'), indent =4)\n",
    "#     Result['marvel'] = MARVEL\n",
    "#     Result['dc'] = DC\n",
    "#     Result = json.dumps(Result,  sort_keys=True, separators=(',', ':'), indent =4)\n",
    "    \n",
    "#     return Result\n",
    "\n",
    "\n"
   ]
  },
  {
   "cell_type": "code",
   "execution_count": 13,
   "metadata": {
    "collapsed": false
   },
   "outputs": [
    {
     "data": {
      "text/plain": [
       "[u'box_office_mojo']"
      ]
     },
     "execution_count": 13,
     "metadata": {},
     "output_type": "execute_result"
    }
   ],
   "source": [
    "%%capture\n",
    "\n",
    "\n",
    "# DC = Parallel(n_jobs=num_cores)(delayed(getMovieData)(name) for name in Dc)\n",
    "# MARVEL = Parallel(n_jobs=num_cores)(delayed(getMovieData)(name) for name in Marvel)\n",
    "\n",
    "M = {}\n",
    "D = {}\n",
    "for k in range(len(MARVEL)):\n",
    "    M[Marvel_titles[k]]= MARVEL[k]\n",
    "    \n",
    "for k in range(len(DC)):\n",
    "    D[Dc_titles[k]]= DC[k]\n",
    "\n",
    "    \n",
    "Data = {}\n",
    "Data['Marvel'] = M\n",
    "Data['DC'] = D\n",
    "\n",
    "del M\n",
    "del D\n",
    "del Marvel_titles\n",
    "del Dc_titles\n",
    "\n",
    "\n",
    "\n",
    "BOM_insert_id = mongo.insert_one(Data).inserted_id\n",
    "db.collection_names(include_system_collections=False)\n"
   ]
  },
  {
   "cell_type": "code",
   "execution_count": 14,
   "metadata": {
    "collapsed": false
   },
   "outputs": [],
   "source": [
    "\n",
    "client.close\n",
    "del Data"
   ]
  },
  {
   "cell_type": "code",
   "execution_count": 15,
   "metadata": {
    "collapsed": false
   },
   "outputs": [
    {
     "data": {
      "text/plain": [
       "ObjectId('575db02205f6a320145f47d0')"
      ]
     },
     "execution_count": 15,
     "metadata": {},
     "output_type": "execute_result"
    }
   ],
   "source": [
    "BOM_insert_id "
   ]
  },
  {
   "cell_type": "code",
   "execution_count": null,
   "metadata": {
    "collapsed": true
   },
   "outputs": [],
   "source": []
  }
 ],
 "metadata": {
  "kernelspec": {
   "display_name": "Python 2",
   "language": "python",
   "name": "python2"
  },
  "language_info": {
   "codemirror_mode": {
    "name": "ipython",
    "version": 2
   },
   "file_extension": ".py",
   "mimetype": "text/x-python",
   "name": "python",
   "nbconvert_exporter": "python",
   "pygments_lexer": "ipython2",
   "version": "2.7.11"
  }
 },
 "nbformat": 4,
 "nbformat_minor": 0
}
