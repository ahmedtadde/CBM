{
 "cells": [
  {
   "cell_type": "code",
   "execution_count": 1,
   "metadata": {},
   "outputs": [],
   "source": [
    "# import numpy as np\n",
    "# import pandas as pd\n",
    "import ujson\n",
    "import resources\n",
    "import db"
   ]
  },
  {
   "cell_type": "code",
   "execution_count": 2,
   "metadata": {},
   "outputs": [
    {
     "name": "stdout",
     "output_type": "stream",
     "text": [
      "Processing letter: NUM\n",
      "Processing letter: A\n",
      "Processing letter: B\n",
      "Processing letter: C\n",
      "Processing letter: D\n",
      "Processing letter: E\n",
      "Processing letter: F\n",
      "Processing letter: G\n",
      "Processing letter: H\n",
      "Processing letter: I\n",
      "Processing letter: J\n",
      "Processing letter: K\n",
      "Processing letter: L\n",
      "Processing letter: M\n",
      "Processing letter: N\n",
      "Processing letter: O\n",
      "Processing letter: P\n",
      "Processing letter: Q\n",
      "Processing letter: R\n",
      "Processing letter: S\n",
      "Processing letter: T\n",
      "Processing letter: U\n",
      "Processing letter: V\n",
      "Processing letter: W\n",
      "Processing letter: X\n",
      "Processing letter: Y\n",
      "Processing letter: Z\n",
      "\n",
      "\n",
      "Records for 'Logan' were ssuccessfully retrieved at 2017-05-23 16:14:49.371000\n"
     ]
    },
    {
     "data": {
      "text/plain": [
       "{'Awards': u'N/A',\n",
       " 'Country': u'USA, Canada, Australia',\n",
       " 'Language': u'English, Spanish',\n",
       " 'Metascore': u'77',\n",
       " 'Plot': u\"In the near future, a weary Logan cares for an ailing Professor X somewhere on the Mexican border. However, Logan's attempts to hide from the world and his legacy are upended when a young mutant arrives, pursued by dark forces.\",\n",
       " 'Poster': u'https://images-na.ssl-images-amazon.com/images/M/MV5BMjI1MjkzMjczMV5BMl5BanBnXkFtZTgwNDk4NjYyMTI@._V1_SX300.jpg',\n",
       " 'Released': u'03 Mar 2017',\n",
       " 'Rotten Tomatoes': 92.0,\n",
       " 'Year': u'2017',\n",
       " 'actors': [u'Hugh Jackman',\n",
       "  u'Patrick Stewart',\n",
       "  u'Richard E. Grant',\n",
       "  u'Boyd Holbrook',\n",
       "  u'Stephen Merchant'],\n",
       " 'alias': u'wolverine2017',\n",
       " 'budget': 97000000.0,\n",
       " 'composers': [u'Marco Beltrami'],\n",
       " 'director': [u'James Mangold'],\n",
       " 'distributor': u'Fox',\n",
       " 'domestic_BO': 225885681.0,\n",
       " 'foreign_BO': 381407945.0,\n",
       " 'genre': u'Action / Adventure',\n",
       " 'imdbID': u'tt3315342',\n",
       " 'imdbRating': u'8.4',\n",
       " 'imdbVotes': u'231,684',\n",
       " 'log': {'text': \"Records for 'Logan' were ssuccessfully retrieved at 2017-05-23 16:14:49.371000\",\n",
       "  'timestamp': datetime.datetime(2017, 5, 23, 16, 14, 49, 371000)},\n",
       " 'producers': [u'Lauren Schuler Donner', u'Simon Kinberg', u'Hutch Parker'],\n",
       " 'rating': u'R',\n",
       " 'runtime': 135,\n",
       " 'tag': u'marvel',\n",
       " 'title': u'Logan',\n",
       " 'week_10_avg': 1066.0,\n",
       " 'week_10_change': -0.533,\n",
       " 'week_10_rank': 22,\n",
       " 'week_11_avg': 1499.0,\n",
       " 'week_11_change': -0.034,\n",
       " 'week_11_rank': 20,\n",
       " 'week_1_avg': 28201.0,\n",
       " 'week_1_gross': 114806733.0,\n",
       " 'week_1_rank': 1,\n",
       " 'week_2_avg': 12705.0,\n",
       " 'week_2_change': -0.55,\n",
       " 'week_2_rank': 2,\n",
       " 'week_3_avg': 6722.0,\n",
       " 'week_3_change': -0.521,\n",
       " 'week_3_rank': 3,\n",
       " 'week_4_avg': 4539.0,\n",
       " 'week_4_change': -0.42100000000000004,\n",
       " 'week_4_rank': 5,\n",
       " 'week_5_avg': 3590.0,\n",
       " 'week_5_change': -0.419,\n",
       " 'week_5_rank': 6,\n",
       " 'week_6_avg': 2932.0,\n",
       " 'week_6_change': -0.315,\n",
       " 'week_6_rank': 10,\n",
       " 'week_7_avg': 1914.0,\n",
       " 'week_7_change': -0.526,\n",
       " 'week_7_rank': 13,\n",
       " 'week_8_avg': 1735.0,\n",
       " 'week_8_change': -0.517,\n",
       " 'week_8_rank': 18,\n",
       " 'week_9_avg': 1651.0,\n",
       " 'week_9_change': -0.225,\n",
       " 'week_9_rank': 20,\n",
       " 'writers': [u'Scott Frank', u'Michael Green', u'James Mangold']}"
      ]
     },
     "execution_count": 2,
     "metadata": {},
     "output_type": "execute_result"
    }
   ],
   "source": [
    "logan = db.get_data(resources.get_movie_by_title('logan'))\n",
    "# collect = {'summary' : db.summary(logan) ,\n",
    "#            'weekly_avgs_per_theater': db.weekly_avgs_per_theater(logan) ,\n",
    "#            'weekly_percent_changes': db.weekly_percent_change(logan),\n",
    "#            'weekly_ranks': db.weekly_ranks(logan)}\n",
    "# collect\n",
    "logan"
   ]
  },
  {
   "cell_type": "code",
   "execution_count": null,
   "metadata": {
    "collapsed": true
   },
   "outputs": [],
   "source": []
  }
 ],
 "metadata": {
  "kernelspec": {
   "display_name": "Python 2",
   "language": "python",
   "name": "python2"
  },
  "language_info": {
   "codemirror_mode": {
    "name": "ipython",
    "version": 2
   },
   "file_extension": ".py",
   "mimetype": "text/x-python",
   "name": "python",
   "nbconvert_exporter": "python",
   "pygments_lexer": "ipython2",
   "version": "2.7.13"
  }
 },
 "nbformat": 4,
 "nbformat_minor": 1
}
