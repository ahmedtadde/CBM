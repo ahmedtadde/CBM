{
 "cells": [
  {
   "cell_type": "code",
   "execution_count": 36,
   "metadata": {},
   "outputs": [],
   "source": [
    "import requests\n",
    "import ujson\n",
    "\n",
    "api_key = 'f8b2b946'\n",
    "\n",
    "def get(title, year):\n",
    "    if type(year) is int :\n",
    "        parameters = {\n",
    "          \"t\": title, \n",
    "          \"type\": 'movie',\n",
    "          \"y\": year, \n",
    "          \"plot\" : 'short', \n",
    "        }\n",
    "    else:\n",
    "        parameters = {\n",
    "          \"t\": title, \n",
    "          \"type\": 'movie', \n",
    "          \"plot\" : 'short', \n",
    "        }\n",
    "        \n",
    "    url = 'http://www.omdbapi.com/?apikey={}&'.format(api_key)\n",
    "    \n",
    "    # Make a get request with the parameters.\n",
    "    response = requests.get(url, params=parameters)\n",
    "    if response.status_code != 200:\n",
    "        print \"status code = {}\".format(response.status_code)\n",
    "        return None\n",
    "    response = response.json()\n",
    "    \n",
    "    keys = ['imdbID','Plot','imdbVotes','Poster','Released', 'Year', \n",
    "            'Awards', 'imdbRating','Metascore','Language', \n",
    "            'Country']\n",
    "    record = {key:response[key] for key in keys}\n",
    "    \n",
    "    record['Rotten Tomatoes'] = float(response['Ratings'][1]['Value'].replace(\"%\",\"\"))\n",
    "    \n",
    "    return record\n",
    "    "
   ]
  }
 ],
 "metadata": {
  "kernelspec": {
   "display_name": "Python 2",
   "language": "python",
   "name": "python2"
  },
  "language_info": {
   "codemirror_mode": {
    "name": "ipython",
    "version": 2
   },
   "file_extension": ".py",
   "mimetype": "text/x-python",
   "name": "python",
   "nbconvert_exporter": "python",
   "pygments_lexer": "ipython2",
   "version": "2.7.13"
  }
 },
 "nbformat": 4,
 "nbformat_minor": 1
}
