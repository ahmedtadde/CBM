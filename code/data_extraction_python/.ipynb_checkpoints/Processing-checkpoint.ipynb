{
 "cells": [
  {
   "cell_type": "code",
   "execution_count": 65,
   "metadata": {},
   "outputs": [],
   "source": [
    "import numpy as np\n",
    "import pandas as pd\n",
    "import ujson\n",
    "\n",
    "def summary(movie):\n",
    "    keys = [\"Title\",\"budget\",\"director\",\"distributor\",'writers',\"domestic_BO\",\"foreign_BO\",\"genre\",\"rating\",\"runtime\"]\n",
    "    summary = {key: movie[key] for key in keys}\n",
    "    summary['director'] = str(summary['director']).replace('[','').replace(']','').replace(\"u'\",'').replace(\"'\",'').replace(\"nan\", '')\n",
    "    summary['writers'] = str(summary['writers']).replace('[','').replace(']','').replace(\"u'\",'').replace(\"'\",'').replace(\"nan\",'')\n",
    "    ratings_map = {\"PG\": 1, \"PG-13\": 2,\"R\": 3}\n",
    "    runtime_map = {\"1\": range(91), \"2\": range(91,121) , \"3\" : range(121,151), \"4\":range(151,181), \"5\":range(151,500)}\n",
    "    \n",
    "    def rating_coef(rating):\n",
    "        for key in ratings_map.keys():\n",
    "            if key == rating: return ratings_map[key]\n",
    "    \n",
    "    def runtime_coef(runtime):\n",
    "        for key, values in runtime_map.items():\n",
    "            if runtime in values: \n",
    "                return int(key)\n",
    "            \n",
    "    summary['rating_coef'] = rating_coef(summary['rating'])\n",
    "    summary['runtime_coef'] = runtime_coef(summary['runtime'])\n",
    "    \n",
    "    summary['international_BO'] = summary['domestic_BO'] + summary['foreign_BO']\n",
    "    summary['weighted_international_BO_avg'] = np.average([summary['domestic_BO'],summary['international_BO']], weights = [0.6,0.4])\n",
    "    return summary\n",
    "\n",
    "\n",
    "def weekly_avgs(record):\n",
    "    weekly_avgs= {key: record[key] for key in list(filter((lambda key: '_avg' in key), record.keys()))}\n",
    "    weekly_avgs= {key: weekly_avgs[key] for key in weekly_avgs.keys() if np.isnan(weekly_avgs[key]) != True}\n",
    "    def get_sum(weekly_avgs):\n",
    "        weighted_sum = 0\n",
    "        for key, value in weekly_avgs.items():\n",
    "            for n in range(len(weekly_avgs.keys())):\n",
    "                if (str(n) in key) and (value != 'nan'):\n",
    "                    weighted_sum+= value*n\n",
    "        return weighted_sum\n",
    "    \n",
    "    weekly_avgs['weighted_weekly_avg'] = np.round(get_sum(weekly_avgs)/len(weekly_avgs.keys()))\n",
    "    weekly_avgs['weighted_weekly_avg_score'] = weekly_avgs['weighted_weekly_avg']/10000\n",
    "    return weekly_avgs\n",
    "\n",
    "\n",
    "def weekly_ranks(record):\n",
    "    weekly_ranks= {key: record[key] for key in list(filter((lambda key: '_rank' in key), record.keys()))}\n",
    "    weekly_ranks= {key: weekly_ranks[key] for key in weekly_ranks.keys() if np.isnan(weekly_ranks[key]) != True}\n",
    "    \n",
    "    def get_sum(weekly_ranks):\n",
    "        points = 0\n",
    "        for key, value in weekly_ranks.items():\n",
    "            points+= float(key.split('_')[1])/value\n",
    "        return points\n",
    "    \n",
    "    weekly_ranks['weekly_rank_score'] = round(get_sum(weekly_ranks)/len(weekly_ranks.keys()),3)\n",
    "    return weekly_ranks"
   ]
  },
  {
   "cell_type": "code",
   "execution_count": 66,
   "metadata": {},
   "outputs": [],
   "source": [
    "data = pd.read_csv(\"../dc_bom.csv\")"
   ]
  },
  {
   "cell_type": "code",
   "execution_count": 67,
   "metadata": {},
   "outputs": [
    {
     "data": {
      "text/plain": [
       "array(['Title', 'budget', 'director', 'distributor', 'domestic_BO',\n",
       "       'foreign_BO', 'genre', 'rating', 'runtime', 'week_10_avg',\n",
       "       'week_10_change', 'week_10_rank', 'week_11_avg', 'week_11_change',\n",
       "       'week_11_rank', 'week_12_avg', 'week_12_change', 'week_12_rank',\n",
       "       'week_13_avg', 'week_13_change', 'week_13_rank', 'week_14_avg',\n",
       "       'week_14_change', 'week_14_rank', 'week_15_avg', 'week_15_change',\n",
       "       'week_15_rank', 'week_1_avg', 'week_1_gross', 'week_1_rank',\n",
       "       'week_2_avg', 'week_2_change', 'week_2_rank', 'week_3_avg',\n",
       "       'week_3_change', 'week_3_rank', 'week_4_avg', 'week_4_change',\n",
       "       'week_4_rank', 'week_5_avg', 'week_5_change', 'week_5_rank',\n",
       "       'week_6_avg', 'week_6_change', 'week_6_rank', 'week_7_avg',\n",
       "       'week_7_change', 'week_7_rank', 'week_8_avg', 'week_8_change',\n",
       "       'week_8_rank', 'week_9_avg', 'week_9_change', 'week_9_rank',\n",
       "       'writers'], dtype=object)"
      ]
     },
     "execution_count": 67,
     "metadata": {},
     "output_type": "execute_result"
    }
   ],
   "source": [
    "np.array(data.columns)"
   ]
  },
  {
   "cell_type": "code",
   "execution_count": 105,
   "metadata": {},
   "outputs": [
    {
     "data": {
      "text/plain": [
       "{'week_1_change': 1.0,\n",
       " 'week_2_change': 0.621,\n",
       " 'week_3_change': 0.21921299999999999,\n",
       " 'week_4_change': 0.053926398,\n",
       " 'week_5_change': 0.014290495470000001,\n",
       " 'week_6_change': 0.011475267862410002,\n",
       " 'week_7_change': 0.0055540296454064404,\n",
       " 'week_8_change': 0.0023493545400069238,\n",
       " 'week_9_change': 0.00083871957078247177,\n",
       " 'weekly_change_score': 0.008}"
      ]
     },
     "execution_count": 105,
     "metadata": {},
     "output_type": "execute_result"
    }
   ],
   "source": [
    "def weekly_gross_percent(record):\n",
    "    weekly_gross_percent= {key: record[key] for key in list(filter((lambda key: '_change' in key), record.keys()))}\n",
    "    weekly_gross_percent= {key: weekly_gross_percent[key] for key in weekly_gross_percent.keys() if np.isnan(weekly_gross_percent[key]) != True}\n",
    "    \n",
    "    def transform(weekly_gross_percent):\n",
    "        for key, value in weekly_gross_percent.items():\n",
    "            if value < 0 : weekly_gross_percent[key] = 1+value\n",
    "        weekly_gross_percent['week_1_change'] = 1\n",
    "        return weekly_gross_percent\n",
    "    \n",
    "    weekly_gross_percent = transform(weekly_gross_percent)\n",
    "    keys = weekly_gross_percent.keys()\n",
    "    values = []\n",
    "    for k in range(len(keys)):\n",
    "        for key in keys:\n",
    "            if int(k+1) == int(key.split('_')[1]):\n",
    "                values.append(weekly_gross_percent[key])\n",
    "    \n",
    "    values = np.cumprod(values)\n",
    "    for k in range(len(keys)):\n",
    "        key = \"week_{}_change\".format(k+1)\n",
    "        weekly_gross_percent[key] = values[k]\n",
    "    \n",
    "    weekly_gross_percent['weekly_change_score'] = round(np.average(values, weights = range(1, len(keys)+1)) / len(keys) ,3)\n",
    "    return weekly_gross_percent\n",
    "\n",
    "    \n",
    "jsondata = data.to_dict(orient= 'records')\n",
    "weekly_gross_percent(jsondata[1])\n"
   ]
  },
  {
   "cell_type": "code",
   "execution_count": 90,
   "metadata": {},
   "outputs": [
    {
     "name": "stdout",
     "output_type": "stream",
     "text": [
      "weekly_1_change\n",
      "weekly_2_change\n",
      "weekly_3_change\n",
      "weekly_4_change\n",
      "weekly_5_change\n",
      "weekly_6_change\n",
      "weekly_7_change\n",
      "weekly_8_change\n",
      "weekly_9_change\n",
      "weekly_10_change\n",
      "weekly_11_change\n",
      "weekly_12_change\n",
      "weekly_13_change\n",
      "weekly_14_change\n",
      "weekly_15_change\n"
     ]
    }
   ],
   "source": [
    " for k in range(1,16):\n",
    "        print \"weekly_{}_change\".format(k)"
   ]
  },
  {
   "cell_type": "code",
   "execution_count": 74,
   "metadata": {},
   "outputs": [
    {
     "data": {
      "text/plain": [
       "{'Title': 'The Dark Knight Rises',\n",
       " 'budget': 250000000.0,\n",
       " 'director': \"[u'Christopher Nolan']\",\n",
       " 'distributor': 'Warner Bros.',\n",
       " 'domestic_BO': 448139099.0,\n",
       " 'foreign_BO': 636800000.0,\n",
       " 'genre': 'Action Thriller',\n",
       " 'rating': 'PG-13',\n",
       " 'runtime': 165L,\n",
       " 'week_10_avg': 1825.0,\n",
       " 'week_10_change': -0.42100000000000004,\n",
       " 'week_10_rank': 14.0,\n",
       " 'week_11_avg': 1690.0,\n",
       " 'week_11_change': -0.36,\n",
       " 'week_11_rank': 16.0,\n",
       " 'week_12_avg': 1728.0,\n",
       " 'week_12_change': -0.10300000000000001,\n",
       " 'week_12_rank': 15.0,\n",
       " 'week_13_avg': 1540.0,\n",
       " 'week_13_change': -0.27899999999999997,\n",
       " 'week_13_rank': 16.0,\n",
       " 'week_14_avg': 1420.0,\n",
       " 'week_14_change': -0.316,\n",
       " 'week_14_rank': 19.0,\n",
       " 'week_15_avg': 1364.0,\n",
       " 'week_15_change': -0.19,\n",
       " 'week_15_rank': 19.0,\n",
       " 'week_1_avg': 51092.0,\n",
       " 'week_1_gross': 225011359.0,\n",
       " 'week_1_rank': 1L,\n",
       " 'week_2_avg': 21159.0,\n",
       " 'week_2_change': -0.586,\n",
       " 'week_2_rank': 1.0,\n",
       " 'week_3_avg': 12355.0,\n",
       " 'week_3_change': -0.43799999999999994,\n",
       " 'week_3_rank': 1.0,\n",
       " 'week_4_avg': 7633.0,\n",
       " 'week_4_change': -0.46299999999999997,\n",
       " 'week_4_rank': 3.0,\n",
       " 'week_5_avg': 5150.0,\n",
       " 'week_5_change': -0.423,\n",
       " 'week_5_rank': 5.0,\n",
       " 'week_6_avg': 3945.0,\n",
       " 'week_6_change': -0.368,\n",
       " 'week_6_rank': 6.0,\n",
       " 'week_7_avg': 4230.0,\n",
       " 'week_7_change': -0.1,\n",
       " 'week_7_rank': 8.0,\n",
       " 'week_8_avg': 2167.0,\n",
       " 'week_8_change': -0.534,\n",
       " 'week_8_rank': 10.0,\n",
       " 'week_9_avg': 1889.0,\n",
       " 'week_9_change': -0.306,\n",
       " 'week_9_rank': 12.0,\n",
       " 'writers': \"[u'David S. Goyer', u'Christopher Nolan', u'Jonathan Nolan']\"}"
      ]
     },
     "execution_count": 74,
     "metadata": {},
     "output_type": "execute_result"
    }
   ],
   "source": [
    "jsondata[1]"
   ]
  }
 ],
 "metadata": {
  "kernelspec": {
   "display_name": "Python 2",
   "language": "python",
   "name": "python2"
  },
  "language_info": {
   "codemirror_mode": {
    "name": "ipython",
    "version": 2
   },
   "file_extension": ".py",
   "mimetype": "text/x-python",
   "name": "python",
   "nbconvert_exporter": "python",
   "pygments_lexer": "ipython2",
   "version": "2.7.13"
  }
 },
 "nbformat": 4,
 "nbformat_minor": 1
}
