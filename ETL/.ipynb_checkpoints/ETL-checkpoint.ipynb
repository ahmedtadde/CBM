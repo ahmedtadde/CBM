{
 "cells": [
  {
   "cell_type": "code",
   "execution_count": 1,
   "metadata": {
    "collapsed": true
   },
   "outputs": [],
   "source": [
    "# import resources\n",
    "# import db\n",
    "# import pandas as pd\n",
    "# from sqlalchemy import create_engine\n",
    "\n",
    "\n",
    "\n",
    "# import warnings\n",
    "# warnings.filterwarnings('ignore')\n",
    "# from joblib import Parallel, delayed  \n",
    "# import multiprocessing\n",
    "# num_cores = multiprocessing.cpu_count()"
   ]
  },
  {
   "cell_type": "code",
   "execution_count": null,
   "metadata": {
    "collapsed": true
   },
   "outputs": [],
   "source": [
    "# ## ========================= INSERT NEW MOVIE(S) TO RESOURCES ======================================\n",
    "# movies = []\n",
    "# inserted = Parallel(n_jobs=num_cores)(delayed(resources.add_to_resources)(movie) for movie in movies)\n",
    "# del movies"
   ]
  },
  {
   "cell_type": "code",
   "execution_count": null,
   "metadata": {
    "collapsed": true
   },
   "outputs": [],
   "source": [
    "# ## ========================= UPDATE MOVIE(S) IN RESOURCES ======================================\n",
    "# movies = []\n",
    "# updated = Parallel(n_jobs=num_cores)(delayed(resources.update_in_resources)(movie) for movie in movies)\n",
    "# del movies"
   ]
  },
  {
   "cell_type": "code",
   "execution_count": null,
   "metadata": {
    "collapsed": true
   },
   "outputs": [],
   "source": [
    "# ## ========================= REMOVE MOVIE(S) FROM RESOURCES ======================================\n",
    "# movies = []\n",
    "# deleted = Parallel(n_jobs=num_cores)(delayed(resources.delete_from_resources)(movie) for movie in movies)\n",
    "# del movies"
   ]
  },
  {
   "cell_type": "code",
   "execution_count": 2,
   "metadata": {},
   "outputs": [],
   "source": [
    "# ## ========================= FETCHING DATA FOR ALL MOVIES IN RESOURCES ======================================\n",
    "# movies = Parallel(n_jobs=num_cores)(delayed(db.collect_data)(movie) for movie in resources.get_all_movies())"
   ]
  },
  {
   "cell_type": "code",
   "execution_count": null,
   "metadata": {
    "collapsed": true
   },
   "outputs": [],
   "source": [
    "\n",
    "# ## ========================= FETCHING DATA FOR A LIST OF MOVIES IN RESOURCES ======================================\n",
    "# ## BY TAG (i.e \"dc\" or 'marvel, or 'other')\n",
    "# tag_selection = ''\n",
    "# movies_list = resources.get_movies_by_tag(tag)\n",
    "\n",
    "\n",
    "# ## BY ALIASES\n",
    "# selection = []\n",
    "# movies_list = Parallel(n_jobs=num_cores)(delayed(resources.get_movie_by_alias())(movie) for movie in selection)\n",
    "\n",
    "# ##---------or\n",
    "\n",
    "# ## BY TITLES\n",
    "# selection = []\n",
    "# movies_list = Parallel(n_jobs=num_cores)(delayed(resources.get_movie_by_title())(movie) for movie in selection)\n",
    "\n",
    "\n",
    "\n",
    "# movies = Parallel(n_jobs=num_cores)(delayed(db.collect_data)(movie) for movie in movies_list)\n",
    "# del selection\n",
    "# del movies_list "
   ]
  },
  {
   "cell_type": "code",
   "execution_count": 3,
   "metadata": {
    "collapsed": true
   },
   "outputs": [],
   "source": [
    "# ## ========================= TRANSFORMING MOVIE(S) DATA ======================================\n",
    "# movies = Parallel(n_jobs=num_cores)(delayed(db.transform)(movie) for movie in movies)   "
   ]
  },
  {
   "cell_type": "code",
   "execution_count": 4,
   "metadata": {
    "collapsed": true
   },
   "outputs": [],
   "source": [
    "# # ## ========================= TRANSFORMED DATA => TABLES ======================================\n",
    "# def setIndex(df):\n",
    "#     df['ID'] = range(1, df.shape[0]+1)\n",
    "#     return df.set_index('ID', drop = True)\n",
    "\n",
    "# if len(movies) > 1:\n",
    "#     summaries = setIndex(pd.DataFrame([movie['summary'] for movie in movies]))\n",
    "#     calculations = setIndex(pd.DataFrame([movie['bo_performance']['calculated_metrics'] for movie in movies]))\n",
    "#     weekly_avgs  = setIndex(pd.DataFrame([movie['bo_performance']['weekly_per_theater_gross_avgs'] for movie in movies]))\n",
    "#     weekly_ranks = setIndex(pd.DataFrame([movie['bo_performance']['weekly_ranks'] for movie in movies]))\n",
    "#     weekly_percents = setIndex(pd.DataFrame([movie['bo_performance']['weekly_percent_gross_changes'] for movie in movies]))\n",
    "#     critics = setIndex(pd.DataFrame([movie['critical_reception'] for movie in movies]))\n",
    "#     scoring = setIndex(pd.DataFrame([movie['scoring'] for movie in movies]))\n",
    "    \n",
    "# elif len(movies) == 1:\n",
    "#     summaries = setIndex(pd.DataFrame(movies[0]['summary'], index = [0]))\n",
    "#     calculations = setIndex(pd.DataFrame(movies[0]['bo_performance']['calculated_metrics'], index = [0]))\n",
    "#     weekly_avgs  = setIndex(pd.DataFrame(movies[0]['bo_performance']['weekly_per_theater_gross_avgs'], index=[0]))\n",
    "#     weekly_ranks = setIndex(pd.DataFrame(movies[0]['bo_performance']['weekly_ranks'], index = [0]))\n",
    "#     weekly_percents = setIndex(pd.DataFrame(movies[0]['bo_performance']['weekly_percent_gross_changes'], index = [0]))\n",
    "#     critics = setIndex(pd.DataFrame(movies[0]['critical_reception'], index = [0]))\n",
    "#     scoring = setIndex(pd.DataFrame(movies[0]['scoring'], index = [0]))\n",
    "    \n",
    "# else:\n",
    "#     print \"No movie in movies list\""
   ]
  },
  {
   "cell_type": "code",
   "execution_count": 5,
   "metadata": {
    "collapsed": true
   },
   "outputs": [],
   "source": [
    "# # # ## ========================= LOAD DATA TO SQLITE DATABASE ======================================\n",
    "# disk_engine = create_engine('sqlite:///DATABASE.db') \n",
    "# summaries.to_sql('summaries', disk_engine, if_exists='append')\n",
    "# calculations.to_sql('boMetrics', disk_engine, if_exists='append')\n",
    "# weekly_avgs.to_sql('weekly_avgs', disk_engine, if_exists='append')\n",
    "# weekly_ranks.to_sql('weekly_ranks', disk_engine, if_exists='append')\n",
    "# weekly_percents.to_sql('weekly_percents', disk_engine, if_exists='append')\n",
    "# critics.to_sql('critics', disk_engine, if_exists='append')\n",
    "# scoring.to_sql('scoring', disk_engine, if_exists='append')\n"
   ]
  },
  {
   "cell_type": "code",
   "execution_count": 25,
   "metadata": {
    "collapsed": true
   },
   "outputs": [],
   "source": [
    "# # # ## ========================= DATABASE QUERY TESTING ======================================\n",
    "# pd.read_sql_query('SELECT COUNT(*) AS COUNT FROM summaries', disk_engine)"
   ]
  },
  {
   "cell_type": "code",
   "execution_count": null,
   "metadata": {
    "collapsed": true
   },
   "outputs": [],
   "source": []
  }
 ],
 "metadata": {
  "kernelspec": {
   "display_name": "Python 2",
   "language": "python",
   "name": "python2"
  },
  "language_info": {
   "codemirror_mode": {
    "name": "ipython",
    "version": 2
   },
   "file_extension": ".py",
   "mimetype": "text/x-python",
   "name": "python",
   "nbconvert_exporter": "python",
   "pygments_lexer": "ipython2",
   "version": "2.7.13"
  }
 },
 "nbformat": 4,
 "nbformat_minor": 1
}
